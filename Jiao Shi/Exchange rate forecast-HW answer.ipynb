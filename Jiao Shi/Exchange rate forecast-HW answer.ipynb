{
 "cells": [
  {
   "cell_type": "markdown",
   "metadata": {},
   "source": [
    "# Exchange Rate Models and Exchange Rate Forecast\n",
    "\n",
    "Prepared for the Winter Camp of Quantitative Economics@PHBS by Jiao Shi"
   ]
  },
  {
   "cell_type": "markdown",
   "metadata": {},
   "source": [
    "### Today's Lecture\n",
    "** Exchange rate models (In the PDF slides)**\n",
    "  * Introduction to exchange rate\n",
    "  * Foreign exchange market\n",
    "  * Goods market-based models of exchange rate\n",
    "  * Asset market-based models of exchange rate\n",
    "\n",
    "**Exchange rate forecast (In this Jupyter notebook)**\n",
    "  * Out-of-sample forecast\n",
    "  * Data\n",
    "  * An illustrative example: RMB/USD exchange rate"
   ]
  },
  {
   "cell_type": "markdown",
   "metadata": {},
   "source": [
    "### Key tools and concepts that we use in this notebook\n",
    "  * Data visualization and analysis\n",
    "  * Linear regression\n",
    "  * Rolling-window regression and forecast\n",
    "  * In-sample fit and out-of-sample forecast\n",
    "  * Evaluating forecasting power of models"
   ]
  },
  {
   "cell_type": "markdown",
   "metadata": {},
   "source": [
    "## Exchange rate models\n",
    "\n",
    "We considered several exchange rate models based on economic fundamentals.\n",
    "\n",
    "Specifically, we can derive these linearized model:\n",
    "\n",
    "1. The PPP-based model\n",
    "$$ s_{t}=\\alpha+\\beta(p_{t}-p_{t}^{*})+\\epsilon_{t} $$\n",
    "\n",
    "2. The flexible-price monetary model:\n",
    "$$ s_{t}=\\eta(i_{t}-i_{t}^{*})-\\phi(y_{t}-y_{t}^{*})+(m_{t}-m_{t}^{*}) $$\n",
    "\n",
    "3. The UIP-based model\n",
    "$$ E_{t}(s_{t+1}-s_{t})=\\alpha+\\beta(i_{t}-i_{t}^{*}) $$\n",
    "\n",
    "4. The Taylor-rule model\n",
    "$$ E_{t}(s_{t+1}-s_{t})=\\alpha+\\beta_1(\\pi_{t}-\\pi_{t}^{*})+\\beta_{2}(\\tilde{y}_{t}-\\tilde{y}_{t}^{*}) $$\n",
    "\n",
    "Each model offers a set of **macroeconomic fundamentals** that determines the exchange rate. How do we know how good the models are? We examine the model using data.\n",
    "\n",
    "A straightfoward way to do so is to run regressions of the exchange rate on the macro fundamentals, and examine how much variation in the exchange rate can be explained by the fundamentals. This is a check of the model's fitness **in sample**.\n",
    "\n",
    "The golden rule of the literature, however, is **out-of-sample forecast**, which stems from the siminal work of Meese and Rogoff (1983).\n",
    "\n",
    "> Meese and Rogoff(1983) shows that none of existing exchange rate models based on macroeconomic fundamentals can consistently beats the random walk model in out-of-sample forecast."
   ]
  },
  {
   "cell_type": "markdown",
   "metadata": {},
   "source": [
    "Meese and Rogoff (1983) also set the convention of using the **random walk without drift** model of exchange rate as the benchmark model. \n",
    "\n",
    "The random walk model says that the best predictor of exchange rate tomorrow is the exchange rate today:\n",
    "\n",
    "$$ E_ts_{t+1} - s_t = 0 $$"
   ]
  },
  {
   "cell_type": "markdown",
   "metadata": {},
   "source": [
    "In this note, we will examine the asset-market based models: the UIP (interest differential) model and the Taylor Rule model.\n",
    "> The goods market-based models have not done very well in previous empirical literature."
   ]
  },
  {
   "cell_type": "markdown",
   "metadata": {},
   "source": [
    "## A look at data"
   ]
  },
  {
   "cell_type": "markdown",
   "metadata": {},
   "source": [
    "\n",
    "    "
   ]
  },
  {
   "cell_type": "markdown",
   "metadata": {},
   "source": [
    "Here's a summary of data and their sources:\n",
    "\n",
    "|        Data       | Source | Notes     | \n",
    "| -------------------------| ------------- | --------- | \n",
    "|CNY/USD exchange rate   | People's Bank of China | End-of-period value  | \n",
    "|Nominal interest rates   | IMF's International Financial Statistics  | Yields on 3-month, 1-year and 5-year government bonds |  \n",
    "|Money supply   | People's Bank of China & Federal Reserve  | M1&M2 |\n",
    "|GDP   | Bueareu of Statistics (China), ISM (US)  | PMI indices used as proxy |\n",
    "|Real exchange rate   | Bank of International Settlement  | Trade-weighted real effective exchange rate |"
   ]
  },
  {
   "cell_type": "markdown",
   "metadata": {},
   "source": [
    "\n",
    "Matplotlib and Pandas are useful for our purpose in this section.\n",
    "\n",
    "Data can be loaded by using Panda's read_csv function directly from QuantEcon's Winter Camp repository."
   ]
  },
  {
   "cell_type": "code",
   "execution_count": 1,
   "metadata": {},
   "outputs": [
    {
     "name": "stderr",
     "output_type": "stream",
     "text": [
      "C:\\ProgramData\\Anaconda3\\lib\\site-packages\\statsmodels\\compat\\pandas.py:56: FutureWarning: The pandas.core.datetools module is deprecated and will be removed in a future version. Please use the pandas.tseries module instead.\n",
      "  from pandas.core import datetools\n"
     ]
    }
   ],
   "source": [
    "import pandas as pd\n",
    "import numpy as np\n",
    "import matplotlib.pyplot as plt\n",
    "import statsmodels.api as sm"
   ]
  },
  {
   "cell_type": "code",
   "execution_count": 2,
   "metadata": {},
   "outputs": [
    {
     "data": {
      "text/plain": [
       "pandas.core.frame.DataFrame"
      ]
     },
     "execution_count": 2,
     "metadata": {},
     "output_type": "execute_result"
    }
   ],
   "source": [
    "er = pd.read_csv('https://github.com/QuantEcon/ShenzhenWinterCamp/raw/master/Jiao%20Shi/ExR.csv')\n",
    "type(er)"
   ]
  },
  {
   "cell_type": "markdown",
   "metadata": {},
   "source": [
    "A brief look at the data tells us that there are 275 monthly obervations, ranging from January 1995 to December of 2017."
   ]
  },
  {
   "cell_type": "code",
   "execution_count": 35,
   "metadata": {},
   "outputs": [
    {
     "data": {
      "text/html": [
       "<div>\n",
       "<style>\n",
       "    .dataframe thead tr:only-child th {\n",
       "        text-align: right;\n",
       "    }\n",
       "\n",
       "    .dataframe thead th {\n",
       "        text-align: left;\n",
       "    }\n",
       "\n",
       "    .dataframe tbody tr th {\n",
       "        vertical-align: top;\n",
       "    }\n",
       "</style>\n",
       "<table border=\"1\" class=\"dataframe\">\n",
       "  <thead>\n",
       "    <tr style=\"text-align: right;\">\n",
       "      <th></th>\n",
       "      <th>CNYUSD</th>\n",
       "    </tr>\n",
       "  </thead>\n",
       "  <tbody>\n",
       "    <tr>\n",
       "      <th>count</th>\n",
       "      <td>276.000000</td>\n",
       "    </tr>\n",
       "    <tr>\n",
       "      <th>mean</th>\n",
       "      <td>7.473064</td>\n",
       "    </tr>\n",
       "    <tr>\n",
       "      <th>std</th>\n",
       "      <td>0.869356</td>\n",
       "    </tr>\n",
       "    <tr>\n",
       "      <th>min</th>\n",
       "      <td>6.096900</td>\n",
       "    </tr>\n",
       "    <tr>\n",
       "      <th>25%</th>\n",
       "      <td>6.629075</td>\n",
       "    </tr>\n",
       "    <tr>\n",
       "      <th>50%</th>\n",
       "      <td>7.984400</td>\n",
       "    </tr>\n",
       "    <tr>\n",
       "      <th>75%</th>\n",
       "      <td>8.277725</td>\n",
       "    </tr>\n",
       "    <tr>\n",
       "      <th>max</th>\n",
       "      <td>8.438500</td>\n",
       "    </tr>\n",
       "  </tbody>\n",
       "</table>\n",
       "</div>"
      ],
      "text/plain": [
       "           CNYUSD\n",
       "count  276.000000\n",
       "mean     7.473064\n",
       "std      0.869356\n",
       "min      6.096900\n",
       "25%      6.629075\n",
       "50%      7.984400\n",
       "75%      8.277725\n",
       "max      8.438500"
      ]
     },
     "execution_count": 35,
     "metadata": {},
     "output_type": "execute_result"
    }
   ],
   "source": [
    "er.describe()"
   ]
  },
  {
   "cell_type": "code",
   "execution_count": 36,
   "metadata": {},
   "outputs": [
    {
     "data": {
      "text/html": [
       "<div>\n",
       "<style>\n",
       "    .dataframe thead tr:only-child th {\n",
       "        text-align: right;\n",
       "    }\n",
       "\n",
       "    .dataframe thead th {\n",
       "        text-align: left;\n",
       "    }\n",
       "\n",
       "    .dataframe tbody tr th {\n",
       "        vertical-align: top;\n",
       "    }\n",
       "</style>\n",
       "<table border=\"1\" class=\"dataframe\">\n",
       "  <thead>\n",
       "    <tr style=\"text-align: right;\">\n",
       "      <th></th>\n",
       "      <th>Date</th>\n",
       "      <th>CNYUSD</th>\n",
       "    </tr>\n",
       "  </thead>\n",
       "  <tbody>\n",
       "    <tr>\n",
       "      <th>0</th>\n",
       "      <td>1995-01</td>\n",
       "      <td>8.4385</td>\n",
       "    </tr>\n",
       "    <tr>\n",
       "      <th>1</th>\n",
       "      <td>1995-02</td>\n",
       "      <td>8.4310</td>\n",
       "    </tr>\n",
       "    <tr>\n",
       "      <th>2</th>\n",
       "      <td>1995-03</td>\n",
       "      <td>8.4265</td>\n",
       "    </tr>\n",
       "    <tr>\n",
       "      <th>3</th>\n",
       "      <td>1995-04</td>\n",
       "      <td>8.4077</td>\n",
       "    </tr>\n",
       "    <tr>\n",
       "      <th>4</th>\n",
       "      <td>1995-05</td>\n",
       "      <td>8.3065</td>\n",
       "    </tr>\n",
       "    <tr>\n",
       "      <th>5</th>\n",
       "      <td>1995-06</td>\n",
       "      <td>8.3020</td>\n",
       "    </tr>\n",
       "    <tr>\n",
       "      <th>6</th>\n",
       "      <td>1995-07</td>\n",
       "      <td>8.3003</td>\n",
       "    </tr>\n",
       "    <tr>\n",
       "      <th>7</th>\n",
       "      <td>1995-08</td>\n",
       "      <td>8.3200</td>\n",
       "    </tr>\n",
       "    <tr>\n",
       "      <th>8</th>\n",
       "      <td>1995-09</td>\n",
       "      <td>8.3190</td>\n",
       "    </tr>\n",
       "    <tr>\n",
       "      <th>9</th>\n",
       "      <td>1995-10</td>\n",
       "      <td>8.3147</td>\n",
       "    </tr>\n",
       "    <tr>\n",
       "      <th>10</th>\n",
       "      <td>1995-11</td>\n",
       "      <td>8.3121</td>\n",
       "    </tr>\n",
       "    <tr>\n",
       "      <th>11</th>\n",
       "      <td>1995-12</td>\n",
       "      <td>8.3175</td>\n",
       "    </tr>\n",
       "    <tr>\n",
       "      <th>12</th>\n",
       "      <td>1996-01</td>\n",
       "      <td>8.3137</td>\n",
       "    </tr>\n",
       "    <tr>\n",
       "      <th>13</th>\n",
       "      <td>1996-02</td>\n",
       "      <td>8.3207</td>\n",
       "    </tr>\n",
       "    <tr>\n",
       "      <th>14</th>\n",
       "      <td>1996-03</td>\n",
       "      <td>8.3338</td>\n",
       "    </tr>\n",
       "    <tr>\n",
       "      <th>15</th>\n",
       "      <td>1996-04</td>\n",
       "      <td>8.3302</td>\n",
       "    </tr>\n",
       "    <tr>\n",
       "      <th>16</th>\n",
       "      <td>1996-05</td>\n",
       "      <td>8.3256</td>\n",
       "    </tr>\n",
       "    <tr>\n",
       "      <th>17</th>\n",
       "      <td>1996-06</td>\n",
       "      <td>8.3220</td>\n",
       "    </tr>\n",
       "    <tr>\n",
       "      <th>18</th>\n",
       "      <td>1996-07</td>\n",
       "      <td>8.3109</td>\n",
       "    </tr>\n",
       "    <tr>\n",
       "      <th>19</th>\n",
       "      <td>1996-08</td>\n",
       "      <td>8.3064</td>\n",
       "    </tr>\n",
       "    <tr>\n",
       "      <th>20</th>\n",
       "      <td>1996-09</td>\n",
       "      <td>8.3017</td>\n",
       "    </tr>\n",
       "    <tr>\n",
       "      <th>21</th>\n",
       "      <td>1996-10</td>\n",
       "      <td>8.2999</td>\n",
       "    </tr>\n",
       "    <tr>\n",
       "      <th>22</th>\n",
       "      <td>1996-11</td>\n",
       "      <td>8.3009</td>\n",
       "    </tr>\n",
       "    <tr>\n",
       "      <th>23</th>\n",
       "      <td>1996-12</td>\n",
       "      <td>8.2981</td>\n",
       "    </tr>\n",
       "    <tr>\n",
       "      <th>24</th>\n",
       "      <td>1997-01</td>\n",
       "      <td>8.2938</td>\n",
       "    </tr>\n",
       "    <tr>\n",
       "      <th>25</th>\n",
       "      <td>1997-02</td>\n",
       "      <td>8.2954</td>\n",
       "    </tr>\n",
       "    <tr>\n",
       "      <th>26</th>\n",
       "      <td>1997-03</td>\n",
       "      <td>8.2955</td>\n",
       "    </tr>\n",
       "    <tr>\n",
       "      <th>27</th>\n",
       "      <td>1997-04</td>\n",
       "      <td>8.2945</td>\n",
       "    </tr>\n",
       "    <tr>\n",
       "      <th>28</th>\n",
       "      <td>1997-05</td>\n",
       "      <td>8.2920</td>\n",
       "    </tr>\n",
       "    <tr>\n",
       "      <th>29</th>\n",
       "      <td>1997-06</td>\n",
       "      <td>8.2907</td>\n",
       "    </tr>\n",
       "    <tr>\n",
       "      <th>...</th>\n",
       "      <td>...</td>\n",
       "      <td>...</td>\n",
       "    </tr>\n",
       "    <tr>\n",
       "      <th>246</th>\n",
       "      <td>2015-07</td>\n",
       "      <td>6.1172</td>\n",
       "    </tr>\n",
       "    <tr>\n",
       "      <th>247</th>\n",
       "      <td>2015-08</td>\n",
       "      <td>6.3893</td>\n",
       "    </tr>\n",
       "    <tr>\n",
       "      <th>248</th>\n",
       "      <td>2015-09</td>\n",
       "      <td>6.3613</td>\n",
       "    </tr>\n",
       "    <tr>\n",
       "      <th>249</th>\n",
       "      <td>2015-10</td>\n",
       "      <td>6.3495</td>\n",
       "    </tr>\n",
       "    <tr>\n",
       "      <th>250</th>\n",
       "      <td>2015-11</td>\n",
       "      <td>6.3962</td>\n",
       "    </tr>\n",
       "    <tr>\n",
       "      <th>251</th>\n",
       "      <td>2015-12</td>\n",
       "      <td>6.4936</td>\n",
       "    </tr>\n",
       "    <tr>\n",
       "      <th>252</th>\n",
       "      <td>2016-01</td>\n",
       "      <td>6.5516</td>\n",
       "    </tr>\n",
       "    <tr>\n",
       "      <th>253</th>\n",
       "      <td>2016-02</td>\n",
       "      <td>6.5452</td>\n",
       "    </tr>\n",
       "    <tr>\n",
       "      <th>254</th>\n",
       "      <td>2016-03</td>\n",
       "      <td>6.4612</td>\n",
       "    </tr>\n",
       "    <tr>\n",
       "      <th>255</th>\n",
       "      <td>2016-04</td>\n",
       "      <td>6.4589</td>\n",
       "    </tr>\n",
       "    <tr>\n",
       "      <th>256</th>\n",
       "      <td>2016-05</td>\n",
       "      <td>6.5790</td>\n",
       "    </tr>\n",
       "    <tr>\n",
       "      <th>257</th>\n",
       "      <td>2016-06</td>\n",
       "      <td>6.6312</td>\n",
       "    </tr>\n",
       "    <tr>\n",
       "      <th>258</th>\n",
       "      <td>2016-07</td>\n",
       "      <td>6.6511</td>\n",
       "    </tr>\n",
       "    <tr>\n",
       "      <th>259</th>\n",
       "      <td>2016-08</td>\n",
       "      <td>6.6908</td>\n",
       "    </tr>\n",
       "    <tr>\n",
       "      <th>260</th>\n",
       "      <td>2016-09</td>\n",
       "      <td>6.6778</td>\n",
       "    </tr>\n",
       "    <tr>\n",
       "      <th>261</th>\n",
       "      <td>2016-10</td>\n",
       "      <td>6.7641</td>\n",
       "    </tr>\n",
       "    <tr>\n",
       "      <th>262</th>\n",
       "      <td>2016-11</td>\n",
       "      <td>6.8865</td>\n",
       "    </tr>\n",
       "    <tr>\n",
       "      <th>263</th>\n",
       "      <td>2016-12</td>\n",
       "      <td>6.9370</td>\n",
       "    </tr>\n",
       "    <tr>\n",
       "      <th>264</th>\n",
       "      <td>2017-01</td>\n",
       "      <td>6.8588</td>\n",
       "    </tr>\n",
       "    <tr>\n",
       "      <th>265</th>\n",
       "      <td>2017-02</td>\n",
       "      <td>6.8750</td>\n",
       "    </tr>\n",
       "    <tr>\n",
       "      <th>266</th>\n",
       "      <td>2017-03</td>\n",
       "      <td>6.8993</td>\n",
       "    </tr>\n",
       "    <tr>\n",
       "      <th>267</th>\n",
       "      <td>2017-04</td>\n",
       "      <td>6.8931</td>\n",
       "    </tr>\n",
       "    <tr>\n",
       "      <th>268</th>\n",
       "      <td>2017-05</td>\n",
       "      <td>6.8633</td>\n",
       "    </tr>\n",
       "    <tr>\n",
       "      <th>269</th>\n",
       "      <td>2017-06</td>\n",
       "      <td>6.7744</td>\n",
       "    </tr>\n",
       "    <tr>\n",
       "      <th>270</th>\n",
       "      <td>2017-07</td>\n",
       "      <td>6.7283</td>\n",
       "    </tr>\n",
       "    <tr>\n",
       "      <th>271</th>\n",
       "      <td>2017-08</td>\n",
       "      <td>6.6010</td>\n",
       "    </tr>\n",
       "    <tr>\n",
       "      <th>272</th>\n",
       "      <td>2017-09</td>\n",
       "      <td>6.6369</td>\n",
       "    </tr>\n",
       "    <tr>\n",
       "      <th>273</th>\n",
       "      <td>2017-10</td>\n",
       "      <td>6.6397</td>\n",
       "    </tr>\n",
       "    <tr>\n",
       "      <th>274</th>\n",
       "      <td>2017-11</td>\n",
       "      <td>6.6034</td>\n",
       "    </tr>\n",
       "    <tr>\n",
       "      <th>275</th>\n",
       "      <td>2017-12</td>\n",
       "      <td>6.5342</td>\n",
       "    </tr>\n",
       "  </tbody>\n",
       "</table>\n",
       "<p>276 rows × 2 columns</p>\n",
       "</div>"
      ],
      "text/plain": [
       "        Date  CNYUSD\n",
       "0    1995-01  8.4385\n",
       "1    1995-02  8.4310\n",
       "2    1995-03  8.4265\n",
       "3    1995-04  8.4077\n",
       "4    1995-05  8.3065\n",
       "5    1995-06  8.3020\n",
       "6    1995-07  8.3003\n",
       "7    1995-08  8.3200\n",
       "8    1995-09  8.3190\n",
       "9    1995-10  8.3147\n",
       "10   1995-11  8.3121\n",
       "11   1995-12  8.3175\n",
       "12   1996-01  8.3137\n",
       "13   1996-02  8.3207\n",
       "14   1996-03  8.3338\n",
       "15   1996-04  8.3302\n",
       "16   1996-05  8.3256\n",
       "17   1996-06  8.3220\n",
       "18   1996-07  8.3109\n",
       "19   1996-08  8.3064\n",
       "20   1996-09  8.3017\n",
       "21   1996-10  8.2999\n",
       "22   1996-11  8.3009\n",
       "23   1996-12  8.2981\n",
       "24   1997-01  8.2938\n",
       "25   1997-02  8.2954\n",
       "26   1997-03  8.2955\n",
       "27   1997-04  8.2945\n",
       "28   1997-05  8.2920\n",
       "29   1997-06  8.2907\n",
       "..       ...     ...\n",
       "246  2015-07  6.1172\n",
       "247  2015-08  6.3893\n",
       "248  2015-09  6.3613\n",
       "249  2015-10  6.3495\n",
       "250  2015-11  6.3962\n",
       "251  2015-12  6.4936\n",
       "252  2016-01  6.5516\n",
       "253  2016-02  6.5452\n",
       "254  2016-03  6.4612\n",
       "255  2016-04  6.4589\n",
       "256  2016-05  6.5790\n",
       "257  2016-06  6.6312\n",
       "258  2016-07  6.6511\n",
       "259  2016-08  6.6908\n",
       "260  2016-09  6.6778\n",
       "261  2016-10  6.7641\n",
       "262  2016-11  6.8865\n",
       "263  2016-12  6.9370\n",
       "264  2017-01  6.8588\n",
       "265  2017-02  6.8750\n",
       "266  2017-03  6.8993\n",
       "267  2017-04  6.8931\n",
       "268  2017-05  6.8633\n",
       "269  2017-06  6.7744\n",
       "270  2017-07  6.7283\n",
       "271  2017-08  6.6010\n",
       "272  2017-09  6.6369\n",
       "273  2017-10  6.6397\n",
       "274  2017-11  6.6034\n",
       "275  2017-12  6.5342\n",
       "\n",
       "[276 rows x 2 columns]"
      ]
     },
     "execution_count": 36,
     "metadata": {},
     "output_type": "execute_result"
    }
   ],
   "source": [
    "er"
   ]
  },
  {
   "cell_type": "markdown",
   "metadata": {},
   "source": [
    "A more intuitive way to \"see\" the data is to plot the series in a graph."
   ]
  },
  {
   "cell_type": "code",
   "execution_count": 36,
   "metadata": {},
   "outputs": [
    {
     "data": {
      "image/png": "[encoded data removed]",
      "text/plain": [
       "<matplotlib.figure.Figure at 0x1f1e89dd1d0>"
      ]
     },
     "metadata": {},
     "output_type": "display_data"
    }
   ],
   "source": [
    "er.plot()\n",
    "plt.show()"
   ]
  },
  {
   "cell_type": "markdown",
   "metadata": {},
   "source": [
    "**In-class exercise:** How do we put date on the x-axis?"
   ]
  },
  {
   "cell_type": "code",
   "execution_count": null,
   "metadata": {
    "collapsed": true
   },
   "outputs": [],
   "source": []
  },
  {
   "cell_type": "markdown",
   "metadata": {},
   "source": [
    "What do you see in this plot? Does anything appear strange?"
   ]
  },
  {
   "cell_type": "markdown",
   "metadata": {},
   "source": [
    "> Check: A brief history of the Renminbi exchange rate regime.\n",
    "\n",
    "The Renminbi exchange rate was fixed against the US dollar, with several revaluations in history, until...?\n",
    "\n",
    "As there were little variability for us to explore (and, clearly, no room for the exchange rate to be moved by economic fundamentals) before the exchange rate reform, we will focus on the \"managed floating era\" by using data after July 2005."
   ]
  },
  {
   "cell_type": "code",
   "execution_count": 2,
   "metadata": {},
   "outputs": [
    {
     "data": {
      "text/html": [
       "<div>\n",
       "<style>\n",
       "    .dataframe thead tr:only-child th {\n",
       "        text-align: right;\n",
       "    }\n",
       "\n",
       "    .dataframe thead th {\n",
       "        text-align: left;\n",
       "    }\n",
       "\n",
       "    .dataframe tbody tr th {\n",
       "        vertical-align: top;\n",
       "    }\n",
       "</style>\n",
       "<table border=\"1\" class=\"dataframe\">\n",
       "  <thead>\n",
       "    <tr style=\"text-align: right;\">\n",
       "      <th></th>\n",
       "      <th>Date</th>\n",
       "      <th>CNYUSD</th>\n",
       "      <th>RMB_REER</th>\n",
       "      <th>CHN PMI</th>\n",
       "      <th>USA PMI</th>\n",
       "      <th>CHN M1</th>\n",
       "      <th>USA M1</th>\n",
       "      <th>CHN M2</th>\n",
       "      <th>USA M2</th>\n",
       "      <th>CHN CPI inflation</th>\n",
       "      <th>USA CPI inflation</th>\n",
       "      <th>CHN_IBR</th>\n",
       "      <th>US_FFR</th>\n",
       "    </tr>\n",
       "  </thead>\n",
       "  <tbody>\n",
       "    <tr>\n",
       "      <th>0</th>\n",
       "      <td>2005-07</td>\n",
       "      <td>8.1062</td>\n",
       "      <td>85.01</td>\n",
       "      <td>51.1</td>\n",
       "      <td>52.8</td>\n",
       "      <td>97,700.00</td>\n",
       "      <td>1,365.00</td>\n",
       "      <td>277,000.00</td>\n",
       "      <td>6,498.40</td>\n",
       "      <td>1.8</td>\n",
       "      <td>3.2</td>\n",
       "      <td>1.1395</td>\n",
       "      <td>3.36</td>\n",
       "    </tr>\n",
       "    <tr>\n",
       "      <th>1</th>\n",
       "      <td>2005-08</td>\n",
       "      <td>8.0998</td>\n",
       "      <td>85.05</td>\n",
       "      <td>52.6</td>\n",
       "      <td>52.4</td>\n",
       "      <td>99,400.00</td>\n",
       "      <td>1,376.50</td>\n",
       "      <td>281,300.00</td>\n",
       "      <td>6,522.50</td>\n",
       "      <td>1.3</td>\n",
       "      <td>3.6</td>\n",
       "      <td>1.1774</td>\n",
       "      <td>3.30</td>\n",
       "    </tr>\n",
       "    <tr>\n",
       "      <th>2</th>\n",
       "      <td>2005-09</td>\n",
       "      <td>8.0920</td>\n",
       "      <td>85.29</td>\n",
       "      <td>55.1</td>\n",
       "      <td>56.8</td>\n",
       "      <td>101,000.00</td>\n",
       "      <td>1,363.10</td>\n",
       "      <td>287,000.00</td>\n",
       "      <td>6,555.00</td>\n",
       "      <td>0.9</td>\n",
       "      <td>4.7</td>\n",
       "      <td>1.1675</td>\n",
       "      <td>3.57</td>\n",
       "    </tr>\n",
       "    <tr>\n",
       "      <th>3</th>\n",
       "      <td>2005-10</td>\n",
       "      <td>8.0845</td>\n",
       "      <td>86.39</td>\n",
       "      <td>54.1</td>\n",
       "      <td>57.2</td>\n",
       "      <td>101,800.00</td>\n",
       "      <td>1,365.10</td>\n",
       "      <td>287,600.00</td>\n",
       "      <td>6,582.30</td>\n",
       "      <td>1.2</td>\n",
       "      <td>4.3</td>\n",
       "      <td>1.2442</td>\n",
       "      <td>3.73</td>\n",
       "    </tr>\n",
       "    <tr>\n",
       "      <th>4</th>\n",
       "      <td>2005-11</td>\n",
       "      <td>8.0804</td>\n",
       "      <td>87.75</td>\n",
       "      <td>54.1</td>\n",
       "      <td>56.7</td>\n",
       "      <td>104,100.00</td>\n",
       "      <td>1,373.20</td>\n",
       "      <td>292,400.00</td>\n",
       "      <td>6,623.00</td>\n",
       "      <td>1.3</td>\n",
       "      <td>3.5</td>\n",
       "      <td>1.2049</td>\n",
       "      <td>3.99</td>\n",
       "    </tr>\n",
       "  </tbody>\n",
       "</table>\n",
       "</div>"
      ],
      "text/plain": [
       "      Date  CNYUSD  RMB_REER  CHN PMI  USA PMI       CHN M1     USA M1  \\\n",
       "0  2005-07  8.1062     85.01     51.1     52.8   97,700.00   1,365.00    \n",
       "1  2005-08  8.0998     85.05     52.6     52.4   99,400.00   1,376.50    \n",
       "2  2005-09  8.0920     85.29     55.1     56.8  101,000.00   1,363.10    \n",
       "3  2005-10  8.0845     86.39     54.1     57.2  101,800.00   1,365.10    \n",
       "4  2005-11  8.0804     87.75     54.1     56.7  104,100.00   1,373.20    \n",
       "\n",
       "        CHN M2     USA M2  CHN CPI inflation  USA CPI inflation  CHN_IBR  \\\n",
       "0  277,000.00   6,498.40                 1.8                3.2   1.1395   \n",
       "1  281,300.00   6,522.50                 1.3                3.6   1.1774   \n",
       "2  287,000.00   6,555.00                 0.9                4.7   1.1675   \n",
       "3  287,600.00   6,582.30                 1.2                4.3   1.2442   \n",
       "4  292,400.00   6,623.00                 1.3                3.5   1.2049   \n",
       "\n",
       "   US_FFR  \n",
       "0    3.36  \n",
       "1    3.30  \n",
       "2    3.57  \n",
       "3    3.73  \n",
       "4    3.99  "
      ]
     },
     "execution_count": 2,
     "metadata": {},
     "output_type": "execute_result"
    }
   ],
   "source": [
    "erf = pd.read_csv('https://github.com/QuantEcon/ShenzhenWinterCamp/raw/master/Jiao%20Shi/ER_predict.csv')\n",
    "erf.head()"
   ]
  },
  {
   "cell_type": "markdown",
   "metadata": {},
   "source": [
    "## Regression: testing the UIP (interest differential) model\n",
    "\n",
    "The UIP model tells us that the expected change in the exchange rate is determined by the interest differential. \n",
    "\n",
    "Here we regress the change in exchange rate on the fundamentals.\n",
    "\n",
    "This is an *estimation* of our exchange rate model. Later, we will use estimated model to make a *forecast* of the change in the exchange rate one period ahead."
   ]
  },
  {
   "cell_type": "markdown",
   "metadata": {},
   "source": [
    "**First we add several columns to the dataframe to create series of dependent and independent variables.**\n",
    "\n",
    "Our dependent variable is not the *level* of exchange rate but *change* in the exchange rate."
   ]
  },
  {
   "cell_type": "code",
   "execution_count": 3,
   "metadata": {
    "collapsed": true,
    "scrolled": true
   },
   "outputs": [],
   "source": [
    "# compute the change in the exchange rate: take log and first difference to compute depreciation (dep)\n",
    "erf['lner'] = np.log(erf[['CNYUSD']])\n",
    "erf['dep'] = 100*erf['lner'].diff(periods = 1)"
   ]
  },
  {
   "cell_type": "code",
   "execution_count": 4,
   "metadata": {
    "collapsed": true
   },
   "outputs": [],
   "source": [
    "# Create a new column to reindex depreciation - why?\n",
    "erf['dep_1'] = 0\n",
    "size_sample = 149\n",
    "\n",
    "for i in range(size_sample):\n",
    "    erf.loc[i,'dep_1'] = erf.loc[i+1,'dep']\n",
    "    \n",
    "erf.loc[size_sample,'dep_1'] = erf.loc[0,'dep']"
   ]
  },
  {
   "cell_type": "markdown",
   "metadata": {},
   "source": [
    "Next we compute the independent variable: interest differential across US and China."
   ]
  },
  {
   "cell_type": "code",
   "execution_count": 5,
   "metadata": {
    "collapsed": true
   },
   "outputs": [],
   "source": [
    "erf['int_diff'] = erf['CHN_IBR'] - erf['US_FFR']"
   ]
  },
  {
   "cell_type": "markdown",
   "metadata": {},
   "source": [
    "Let's see if exchange rate depreciation is correlated with the interest differential by plotting them in a graph"
   ]
  },
  {
   "cell_type": "code",
   "execution_count": 6,
   "metadata": {},
   "outputs": [
    {
     "data": {
      "image/png": "[encoded data removed]",
      "text/plain": [
       "<matplotlib.figure.Figure at 0x2253df6be48>"
      ]
     },
     "metadata": {},
     "output_type": "display_data"
    }
   ],
   "source": [
    "plt.style.use('seaborn')\n",
    "\n",
    "erf.plot(x='int_diff', y='dep_1', kind='scatter')\n",
    "plt.show()"
   ]
  },
  {
   "cell_type": "markdown",
   "metadata": {},
   "source": [
    "The relationship does not appear clear from a glance at the data.\n",
    "\n",
    "Let's do the regression."
   ]
  },
  {
   "cell_type": "code",
   "execution_count": 7,
   "metadata": {},
   "outputs": [
    {
     "name": "stdout",
     "output_type": "stream",
     "text": [
      "                            OLS Regression Results                            \n",
      "==============================================================================\n",
      "Dep. Variable:                  dep_1   R-squared:                       0.033\n",
      "Model:                            OLS   Adj. R-squared:                  0.026\n",
      "Method:                 Least Squares   F-statistic:                     4.998\n",
      "Date:                Wed, 07 Feb 2018   Prob (F-statistic):             0.0269\n",
      "Time:                        19:47:05   Log-Likelihood:                -148.45\n",
      "No. Observations:                 149   AIC:                             300.9\n",
      "Df Residuals:                     147   BIC:                             306.9\n",
      "Df Model:                           1                                         \n",
      "Covariance Type:            nonrobust                                         \n",
      "==============================================================================\n",
      "                 coef    std err          t      P>|t|      [0.025      0.975]\n",
      "------------------------------------------------------------------------------\n",
      "const         -0.1985      0.059     -3.355      0.001      -0.315      -0.082\n",
      "int_diff       0.0535      0.024      2.236      0.027       0.006       0.101\n",
      "==============================================================================\n",
      "Omnibus:                      103.849   Durbin-Watson:                   1.493\n",
      "Prob(Omnibus):                  0.000   Jarque-Bera (JB):             1429.264\n",
      "Skew:                           2.201   Prob(JB):                    4.36e-311\n",
      "Kurtosis:                      17.520   Cond. No.                         2.79\n",
      "==============================================================================\n",
      "\n",
      "Warnings:\n",
      "[1] Standard Errors assume that the covariance matrix of the errors is correctly specified.\n"
     ]
    }
   ],
   "source": [
    "erf['const'] = 1 # create column of constant\n",
    "\n",
    "reg_int = sm.OLS(endog=erf['dep_1'], exog=erf[['const', 'int_diff']], missing='drop')\n",
    "results = reg_int.fit()\n",
    "print(results.summary())"
   ]
  },
  {
   "cell_type": "markdown",
   "metadata": {},
   "source": [
    "** Interpretation of the Results **:\n",
    "1. Do the sign and the magnitude of the parameters fit your intuition?\n",
    "2. How much variations in the exchange rate can interest rate differential account for?"
   ]
  },
  {
   "cell_type": "markdown",
   "metadata": {},
   "source": [
    "> **In-class exercise:** Run the regression of the Taylor-rule model and interpret the results. Are the signs and magnitude of the coefficients consistent with theory? Does the Taylor-rule model have better in-sample explanatory power than the UIP model?"
   ]
  },
  {
   "cell_type": "code",
   "execution_count": null,
   "metadata": {
    "collapsed": true
   },
   "outputs": [],
   "source": []
  },
  {
   "cell_type": "markdown",
   "metadata": {},
   "source": [
    "## Rolling-window regressions and forecasts\n",
    "\n",
    "Next we move to **out-of-sample** forecast. We use the **rolling window forecasting**, which means that we re-estimate parameters of the model using a window of recent data before using the estimated model to make a forecast of the exchange rate.\n",
    "\n",
    "Regarding the size of the estimation sample, we face a trade-off:\n",
    "* Shorter estimation window allows parameters to adapt more quickly to structural change\n",
    "* Longer estimation window allows more efficient estimation of the parameters\n",
    "\n",
    "Here's how we proceed:\n",
    "1. We use 60 periods (5 years) of data to train the model.\n",
    "\n",
    "2. Then we use the estimated model to make *one* single prediction on the change in exchange rate in the next period.\n",
    "\n",
    "3. We examine how good the forecast is by checking how far away the forecast is from the realized (actual) value of exchange rate depreciation.\n",
    "\n"
   ]
  },
  {
   "cell_type": "markdown",
   "metadata": {},
   "source": [
    "### An illustrative single regression\n",
    "\n",
    "First let's do a single regression to illustrate the idea, using the UIP model as the example."
   ]
  },
  {
   "cell_type": "code",
   "execution_count": 8,
   "metadata": {},
   "outputs": [
    {
     "name": "stdout",
     "output_type": "stream",
     "text": [
      "                            OLS Regression Results                            \n",
      "==============================================================================\n",
      "Dep. Variable:                  dep_1   R-squared:                       0.122\n",
      "Model:                            OLS   Adj. R-squared:                  0.107\n",
      "Method:                 Least Squares   F-statistic:                     8.054\n",
      "Date:                Wed, 07 Feb 2018   Prob (F-statistic):            0.00625\n",
      "Time:                        00:37:35   Log-Likelihood:                -24.877\n",
      "No. Observations:                  60   AIC:                             53.75\n",
      "Df Residuals:                      58   BIC:                             57.94\n",
      "Df Model:                           1                                         \n",
      "Covariance Type:            nonrobust                                         \n",
      "==============================================================================\n",
      "                 coef    std err          t      P>|t|      [0.025      0.975]\n",
      "------------------------------------------------------------------------------\n",
      "const         -0.2226      0.055     -4.039      0.000      -0.333      -0.112\n",
      "int_diff       0.0682      0.024      2.838      0.006       0.020       0.116\n",
      "==============================================================================\n",
      "Omnibus:                       28.935   Durbin-Watson:                   0.644\n",
      "Prob(Omnibus):                  0.000   Jarque-Bera (JB):               47.980\n",
      "Skew:                          -1.750   Prob(JB):                     3.81e-11\n",
      "Kurtosis:                       5.636   Cond. No.                         2.77\n",
      "==============================================================================\n",
      "\n",
      "Warnings:\n",
      "[1] Standard Errors assume that the covariance matrix of the errors is correctly specified.\n"
     ]
    }
   ],
   "source": [
    "# regression with 60 data points and make a forecast on exchange rate in period 61\n",
    "\n",
    "# Regression with the first subsample\n",
    "size_subsample = 60\n",
    "\n",
    "reg_intsub = sm.OLS(endog=erf.loc[0:size_subsample - 1,'dep_1'], exog=erf.loc[erf.index[0:size_subsample],['const', 'int_diff']], missing='drop')\n",
    "results_sub = reg_intsub.fit()\n",
    "print(results_sub.summary())\n"
   ]
  },
  {
   "cell_type": "code",
   "execution_count": 9,
   "metadata": {},
   "outputs": [
    {
     "data": {
      "text/plain": [
       "array([-0.60304797])"
      ]
     },
     "execution_count": 9,
     "metadata": {},
     "output_type": "execute_result"
    }
   ],
   "source": [
    "# Make a forecast and compute forecast error\n",
    "error = results_sub.predict(exog = [1, erf.loc[60,'int_diff']]) - erf.loc[60, 'dep_1']\n",
    "error"
   ]
  },
  {
   "cell_type": "markdown",
   "metadata": {},
   "source": [
    "### The rolling-window regression and forecasts\n",
    "\n"
   ]
  },
  {
   "cell_type": "code",
   "execution_count": 8,
   "metadata": {},
   "outputs": [
    {
     "data": {
      "text/plain": [
       "array([ -6.03047966e-01,   1.51083664e+00,   5.57896386e-02,\n",
       "         6.56219475e-02,   6.37607069e-01,   3.61449877e-01,\n",
       "         8.86266893e-02,   1.91292205e-01,   7.05824529e-01,\n",
       "         4.52660067e-03,   3.58457592e-02,   3.03892794e-01,\n",
       "         8.81193620e-01,   3.07847358e-01,   3.21433537e-01,\n",
       "        -5.02365855e-01,   5.82336362e-01,  -3.76417628e-01,\n",
       "         1.53376696e-01,  -2.35806230e-01,   3.21752360e-02,\n",
       "        -1.10211390e+00,   9.65425141e-03,  -3.55746873e-01,\n",
       "        -2.70614868e-01,  -8.30902236e-02,   4.35713639e-01,\n",
       "         1.79865897e-01,  -4.00024530e-02,  -1.01304056e-01,\n",
       "        -1.50434637e-01,  -2.86282568e-02,   6.01641476e-01,\n",
       "         4.68346583e-01,  -1.97876409e-01,  -3.03293611e-01,\n",
       "        -1.40875051e-01,   1.49347081e-01,  -1.17518656e-01,\n",
       "        -4.37213140e-02,   3.36139474e-01,  -3.81699089e-01,\n",
       "        -4.80130435e-01,  -7.29251485e-01,  -2.70410203e-01,\n",
       "        -3.59630143e-01,   1.00242488e-01,  -4.13474804e-01,\n",
       "        -1.18771445e-01,   3.97546136e-02,  -6.38082082e-02,\n",
       "         9.31729103e-03,   6.94341222e-02,  -4.79868272e-01,\n",
       "        -3.06887270e-01,  -8.31796700e-02,   3.36030988e-01,\n",
       "        -2.66243313e-01,  -2.09074539e-01,  -3.84763975e-01,\n",
       "        -4.63232657e+00,   4.81202075e-01,   2.57725174e-01,\n",
       "        -6.80596239e-01,  -1.40517296e+00,  -6.67989525e-01,\n",
       "         3.65613757e-01,   1.55855952e+00,   2.39130729e-01,\n",
       "        -1.62263781e+00,  -4.83677439e-01,   2.39102331e-02,\n",
       "        -2.68599679e-01,   5.26412829e-01,  -9.72078804e-01,\n",
       "        -1.47556729e+00,  -3.73263844e-01,   1.48253290e+00,\n",
       "         1.88861315e-01,   7.16648826e-02,   4.15994954e-01,\n",
       "         8.42160960e-01,   1.57000988e+00,   9.54159630e-01,\n",
       "         2.21747698e+00,  -3.37885147e-01,   1.86561311e-01,\n",
       "         8.00493613e-01,   1.29037645e+00])"
      ]
     },
     "execution_count": 8,
     "metadata": {},
     "output_type": "execute_result"
    }
   ],
   "source": [
    "# Now we do it recursively\n",
    "size_sample = 149\n",
    "size_subsample = 60\n",
    "\n",
    "# How many regressions can we run? How many forecast errors can we compute?\n",
    "fcst_int = np.zeros(size_sample - size_subsample)\n",
    "fcst_error_int = np.zeros(size_sample - size_subsample)\n",
    "for i in range (size_sample - size_subsample):\n",
    "    reg_intsub = sm.OLS(endog=erf.loc[i:size_subsample-1+i,'dep_1'], exog=erf.loc[erf.index[i:size_subsample+i],['const', 'int_diff']], missing='drop')\n",
    "    results_sub = reg_intsub.fit()\n",
    "    fcst_int[i] = results_sub.predict(exog = [1, erf.loc[size_subsample+i,'int_diff']])\n",
    "    error = fcst_int[i] - erf.loc[size_subsample+i, 'dep_1']\n",
    "    fcst_error_int[i] = error\n",
    "    \n",
    "fcst_error_int\n"
   ]
  },
  {
   "cell_type": "markdown",
   "metadata": {},
   "source": [
    "Now we do the same to obtain forecast errors made by the Taylor-rule model:"
   ]
  },
  {
   "cell_type": "code",
   "execution_count": 9,
   "metadata": {},
   "outputs": [
    {
     "data": {
      "text/plain": [
       "array([ -1.05095393e+00,   1.16143051e+00,  -4.16715632e-01,\n",
       "        -4.04337393e-01,   1.29924580e-01,  -8.38052344e-02,\n",
       "        -3.97134600e-01,  -2.34109735e-01,   3.97747782e-01,\n",
       "        -2.22560594e-01,  -2.30657672e-01,  -7.00384452e-02,\n",
       "         3.68940775e-01,   2.21812553e-02,   4.87509038e-02,\n",
       "        -8.16626142e-01,   5.56689743e-01,  -4.15553725e-01,\n",
       "        -1.31036170e-02,  -1.47620344e-01,   2.54748589e-02,\n",
       "        -1.15024160e+00,  -6.34728029e-02,  -2.12200638e-01,\n",
       "        -2.79467162e-01,   2.54705307e-02,   6.95453414e-01,\n",
       "         2.59444741e-01,  -1.56460469e-02,  -7.15394555e-02,\n",
       "        -6.72710502e-02,  -6.40390355e-02,   6.55060213e-01,\n",
       "         4.39055876e-01,  -1.34530275e-01,  -1.83583428e-01,\n",
       "        -4.70352714e-02,   1.50251573e-01,  -2.09556604e-01,\n",
       "        -1.68967373e-01,   2.94103820e-01,  -3.44601385e-01,\n",
       "        -4.36920665e-01,  -6.59894816e-01,  -2.43987467e-01,\n",
       "        -2.07936013e-01,   1.85981205e-01,  -3.22188032e-01,\n",
       "        -4.49700997e-02,   8.20298381e-02,   5.19712459e-02,\n",
       "         9.98209918e-02,   1.15699070e-01,  -4.52459322e-01,\n",
       "        -3.09793135e-01,  -1.09422797e-01,   2.94321157e-01,\n",
       "        -3.08962679e-01,  -6.27606976e-02,  -2.34426223e-01,\n",
       "        -4.53573023e+00,   3.23280651e-01,   1.05317790e-01,\n",
       "        -7.55397372e-01,  -1.46632473e+00,  -7.02424861e-01,\n",
       "         3.57603514e-01,   1.37286020e+00,   1.78268123e-02,\n",
       "        -1.80200397e+00,  -7.10153587e-01,  -2.85330579e-01,\n",
       "        -5.53190900e-01,   3.92359860e-01,  -1.19678884e+00,\n",
       "        -1.64874463e+00,  -5.68829467e-01,   1.20939507e+00,\n",
       "        -2.99981234e-01,  -7.03482961e-01,  -7.65748797e-04,\n",
       "         4.55849766e-01,   1.31654626e+00,   5.51421212e-01,\n",
       "         1.78773111e+00,  -8.43656481e-01,  -4.24976953e-01,\n",
       "         3.48244244e-01,   8.25741480e-01])"
      ]
     },
     "execution_count": 9,
     "metadata": {},
     "output_type": "execute_result"
    }
   ],
   "source": [
    "# Taylor-Rule model\n",
    "\n",
    "# inflation differential\n",
    "erf['pi_diff'] = erf['CHN CPI inflation'] - erf['USA CPI inflation']\n",
    "\n",
    "fcst_tr = np.zeros(size_sample - size_subsample)\n",
    "fcst_error_tr = np.zeros(size_sample - size_subsample)\n",
    "for i in range (size_sample - size_subsample):\n",
    "    # Create a column to store the output gap difference and update it in each loop\n",
    "    y_chn = erf['CHN PMI'] - np.mean(erf.loc[i:size_subsample-1+i, 'CHN PMI'])\n",
    "    y_us = erf['USA PMI'] - np.mean(erf.loc[i:size_subsample-1+i, 'USA PMI'])\n",
    "    erf['y_diff'] = y_chn - y_us\n",
    "    \n",
    "    reg_trsub = sm.OLS(endog=erf.loc[i:size_subsample-1+i,'dep_1'], exog=erf.loc[erf.index[i:size_subsample+i],['const', 'pi_diff','y_diff']], missing='drop')\n",
    "    results_sub = reg_trsub.fit()\n",
    "    \n",
    "    # error = results_sub.predict(exog = [1, erf.loc[size_subsample+i,'int_diff']]) - erf.loc[size_subsample+i, 'dep_1']\n",
    "    \n",
    "    fcst_tr[i] = results_sub.predict(exog = [erf.loc[size_subsample+i,['const', 'pi_diff','y_diff']]])\n",
    "    error = results_sub.predict(exog = [erf.loc[size_subsample+i,['const', 'pi_diff','y_diff']]]) - erf.loc[size_subsample+i, 'dep_1']\n",
    "    fcst_error_tr[i] = error\n",
    "    \n",
    "fcst_error_tr"
   ]
  },
  {
   "cell_type": "markdown",
   "metadata": {},
   "source": [
    "Clearly, from period to period, each model can over-predict or under-predict the change in the exchange rates.\n",
    "\n",
    "To get a sense of how well the model has done in general, we compute the **root mean squared error (RMSE)** for each model.\n",
    "> As the name suggests, this involves taking the square of each prediction error, take the mean of the squared errors, and then take the square root.\n",
    "\n",
    "Note that this means that we use a *symmetric* criterion: under-prediction is as bad as over-prediction. "
   ]
  },
  {
   "cell_type": "code",
   "execution_count": 12,
   "metadata": {},
   "outputs": [
    {
     "data": {
      "text/plain": [
       "0.80592948629223393"
      ]
     },
     "execution_count": 12,
     "metadata": {},
     "output_type": "execute_result"
    }
   ],
   "source": [
    "# compute RMSE for the interest differential model\n",
    "rmse_int = np.sqrt(np.mean(fcst_error_int**2))\n",
    "rmse_int"
   ]
  },
  {
   "cell_type": "code",
   "execution_count": 13,
   "metadata": {},
   "outputs": [
    {
     "data": {
      "text/plain": [
       "0.7710978433653588"
      ]
     },
     "execution_count": 13,
     "metadata": {},
     "output_type": "execute_result"
    }
   ],
   "source": [
    "# Compute RMSE for the Taylor rule model\n",
    "rmse_tr = np.sqrt(np.mean(fcst_error_tr**2))\n",
    "rmse_tr"
   ]
  },
  {
   "cell_type": "markdown",
   "metadata": {},
   "source": [
    "What's the forecast errors of the random walk model?"
   ]
  },
  {
   "cell_type": "code",
   "execution_count": 14,
   "metadata": {},
   "outputs": [
    {
     "data": {
      "text/plain": [
       "0.78435646614511745"
      ]
     },
     "execution_count": 14,
     "metadata": {},
     "output_type": "execute_result"
    }
   ],
   "source": [
    "# compute RMSE for the random walk model\n",
    "rmse_rw = np.sqrt(np.mean(erf.loc[size_subsample: size_sample-1, 'dep_1']**2))\n",
    "rmse_rw"
   ]
  },
  {
   "cell_type": "markdown",
   "metadata": {},
   "source": [
    "Judging by the RMSE, which model is the best? Do the macro fundamentals-based models \"beat\" the random walk model?"
   ]
  },
  {
   "cell_type": "markdown",
   "metadata": {},
   "source": [
    "** A look at how the model mis-forecasts**\n",
    "\n",
    "Finally, let's graph the forecasted and actual depreciation to see when are the periods the Taylor Rule model did worst."
   ]
  },
  {
   "cell_type": "code",
   "execution_count": 15,
   "metadata": {},
   "outputs": [
    {
     "data": {
      "image/png": "[encoded data removed]",
      "text/plain": [
       "<matplotlib.figure.Figure at 0x504ad3860>"
      ]
     },
     "metadata": {},
     "output_type": "display_data"
    }
   ],
   "source": [
    "erf_d = erf.set_index('Date')\n",
    "\n",
    "fig, ax = plt.subplots(figsize = (10, 6))\n",
    "x = np.ones(89)\n",
    "x = x.cumsum()\n",
    "\n",
    "y = erf.loc[size_subsample+1: size_sample, 'dep']\n",
    "ax.plot(x, y, 'r-', linewidth=2, label=r'Actual Depreciation', alpha=0.6)\n",
    "\n",
    "y = fcst_tr\n",
    "ax.plot(x, y, label = 'Forecasted Depreciation')\n",
    "ax.legend()\n",
    "\n",
    "ax.set_title('Actual vs. Forecast') \n",
    "\n",
    "\n",
    "\n",
    "plt.show()"
   ]
  },
  {
   "cell_type": "markdown",
   "metadata": {},
   "source": [
    "### Futher Reading: Evaluating Model's Predictive Power\n",
    "\n",
    "We compared the root mean squared error (RMSE) produced by each model and used it as the criterion to judge model's predictive power.\n",
    "\n",
    "How do we know if one model *significantly* outperforms another in forecasting? We use test statistics. Two commonly used tests in the literature are:\n",
    "\n",
    "* Diebold and Mariano (1995) and West (1996) test (henceforth DMW test)\n",
    "* Clark and West (2006) test (henceforth CW test)\n",
    "\n",
    "The DMW test is used for non-nested competing models, and the CW test is used for nested models.\n",
    "> \"Nested\" means one model can be written as a special case of another model.\n",
    "> For example, the random walk model is a special case of the models based on economic fundamentals. Why?\n",
    "\n",
    "Understanding these statistics is beyond the scope of this lecture, but check [this notes](http://statweb.stanford.edu/~ckirby/ted/conference/Roberto%20Mariano.pdf) if you are interested."
   ]
  },
  {
   "cell_type": "markdown",
   "metadata": {},
   "source": [
    "### Discussion: How important is forecastability?\n",
    "\n",
    "> Is a model discredited if it fails to make predictions out-of-sample?\n"
   ]
  },
  {
   "cell_type": "markdown",
   "metadata": {},
   "source": [
    "### Further Reading: Are Exchange Rates *Supposed to be* Forecastable?\n",
    "\n"
   ]
  },
  {
   "cell_type": "markdown",
   "metadata": {},
   "source": [
    "________________________________________________"
   ]
  },
  {
   "cell_type": "markdown",
   "metadata": {},
   "source": [
    "## Homework\n",
    "\n",
    "Note: For this homework, you should form pairs of groups. Each group should do the homework independently. But after the homework is done, you should get together with your partner group to check if your answers are the same. If not, find out why and make necessary correction. In this way, each group is doing an independent replication of the work of another group. Comparing your results will reveal errors that are so very common in the early stage of doing empirical research."
   ]
  },
  {
   "cell_type": "markdown",
   "metadata": {},
   "source": [
    "### Question I\n",
    "\n",
    "Comparing root mean squared errors is not the only criterion to judge the goodness of exchange rate models. Some argue that in practice, it is more important that the forecasted direction of change in the exchange rate is correct. (See Engel (1994)) That is to say, if exchange rate depreciated 1% in a given period, the forecast that it would depreciates 4% is better than the forecast that it would appreciate 1%, even though the later forecast is closer to the actual change in magnitude. Use the percentage of correct directional forecast as the criterion to re-examine the UIP model, the Taylor Rule model, and the random walk (with drift) model. Which model performs best in terms of producing the correct direction of change? Does any model beat the random walk model?"
   ]
  },
  {
   "cell_type": "markdown",
   "metadata": {},
   "source": [
    "**Answer to Q1**\n",
    "\n",
    "*Note*: I assume that you have run the codes above. \n",
    "\n",
    "The random walk with drift model is a model that would predict:\n",
    "\n",
    "$$E_ts_{t+1}-s_t = \\alpha$$\n",
    "\n",
    "where $\\alpha$ is a non-zero constant.\n",
    "\n",
    "We will first do the rolling-window estimation of the random walk with drift model."
   ]
  },
  {
   "cell_type": "code",
   "execution_count": 10,
   "metadata": {},
   "outputs": [
    {
     "data": {
      "text/plain": [
       "array([-0.29898306, -0.28895639, -0.31434038, -0.31535867, -0.31815402,\n",
       "       -0.32945854, -0.3359934 , -0.33551773, -0.33520436, -0.349756  ,\n",
       "       -0.35395678, -0.3524467 , -0.35484236, -0.36670473, -0.36456208,\n",
       "       -0.36664192, -0.35254434, -0.35757669, -0.34812407, -0.34542478,\n",
       "       -0.34334598, -0.34128568, -0.3143589 , -0.3094857 , -0.29844263,\n",
       "       -0.2921874 , -0.28217583, -0.28367753, -0.2710093 , -0.25043149,\n",
       "       -0.22457819, -0.2064597 , -0.18836643, -0.19673367, -0.19514193,\n",
       "       -0.17411391, -0.169147  , -0.17023103, -0.17247225, -0.17579621,\n",
       "       -0.18073224, -0.1903625 , -0.18897864, -0.18448306, -0.17565775,\n",
       "       -0.17140049, -0.17009701, -0.17449259, -0.170613  , -0.17110147,\n",
       "       -0.17386624, -0.17538119, -0.1783101 , -0.18277069, -0.17758219,\n",
       "       -0.17470866, -0.17599969, -0.18375107, -0.18255845, -0.1751128 ,\n",
       "       -0.17022482, -0.10640137, -0.08673156, -0.0872623 , -0.07140817,\n",
       "       -0.03281011, -0.00951246, -0.00762173, -0.02437769, -0.01031549,\n",
       "        0.02411341,  0.04060402,  0.05266959,  0.07752624,  0.08260404,\n",
       "        0.11231332,  0.13565278,  0.16029487,  0.13859856,  0.14771425,\n",
       "        0.15295916,  0.1555966 ,  0.13336606,  0.11442763,  0.10117728,\n",
       "        0.06594969,  0.07601417,  0.08747567,  0.08125132])"
      ]
     },
     "execution_count": 10,
     "metadata": {},
     "output_type": "execute_result"
    }
   ],
   "source": [
    "# rolling regression - random walk with drift\n",
    "\n",
    "fcst_rw = np.zeros(size_sample - size_subsample)\n",
    "fcst_error_rw = np.zeros(size_sample - size_subsample)\n",
    "for i in range (size_sample - size_subsample):\n",
    "    reg_rwsub = sm.OLS(endog=erf.loc[i:size_subsample-1+i,'dep_1'], exog=erf.loc[erf.index[i:size_subsample+i],['const']], missing='drop')\n",
    "    results_sub = reg_rwsub.fit()\n",
    "    fcst = results_sub.predict(exog = [1])\n",
    "    fcst_rw[i] = fcst\n",
    "    fcst_error_rw[i] = fcst - erf.loc[size_subsample+i, 'dep_1']\n",
    "    \n",
    "fcst_rw"
   ]
  },
  {
   "cell_type": "markdown",
   "metadata": {},
   "source": [
    "Note that if the code is correct, then the forecast of the random walk with drift model is simply the average depreciation in the subsample.\n",
    "\n",
    "Next, we compute the percentage of correct directional forecasts."
   ]
  },
  {
   "cell_type": "code",
   "execution_count": 35,
   "metadata": {},
   "outputs": [
    {
     "name": "stdout",
     "output_type": "stream",
     "text": [
      "The random walk with drift model correctly predicts the direction of depreciation 64.0449438202 % of time.\n"
     ]
    }
   ],
   "source": [
    "pct_rw = ((erf.loc[size_subsample:size_sample-1, 'dep_1']*fcst_rw >= 0 ).sum())/len(fcst_error_int)\n",
    "\n",
    "print(\"The random walk with drift model correctly predicts the direction of depreciation\", pct_rw*100,  \"% of time.\")"
   ]
  },
  {
   "cell_type": "code",
   "execution_count": 30,
   "metadata": {},
   "outputs": [
    {
     "name": "stdout",
     "output_type": "stream",
     "text": [
      "The UIP model correctly predicts the direction of depreciation 61.797752809 % of time.\n",
      "The Taylor rule model correctly predicts the direction of depreciation 64.0449438202 % of time.\n"
     ]
    }
   ],
   "source": [
    "pct_int = ((erf.loc[size_subsample:size_sample-1, 'dep_1']*fcst_int >= 0 ).sum())/len(fcst_error_int)\n",
    "pct_tr = ((erf.loc[size_subsample:size_sample-1, 'dep_1']*fcst_tr >= 0 ).sum())/len(fcst_error_int)\n",
    "\n",
    "print(\"The UIP model correctly predicts the direction of depreciation\", pct_int*100,  \"% of time.\")\n",
    "print(\"The Taylor rule model correctly predicts the direction of depreciation\", pct_tr*100,  \"% of time.\")"
   ]
  },
  {
   "cell_type": "markdown",
   "metadata": {},
   "source": [
    "It happens that the random walk with drift model makes the same number of correct directional predictions as the Taylor Rule model.\n",
    "\n",
    "Note that the random walk (without drift) model implies that the correct percentage of prediction would be 50%. In this sense, the random walk with drift model in fact beats the random walk model judging by this particular criterion.\n",
    "\n",
    "Cerra and Saxena (2010) argues that this is because the random walk with drift model can capture some pattern in macro fundementals.\n",
    "\n",
    "If you are curious, you'd probably do the following to check if the random walk with drift model would beat the random walk without drift model judging by RMSE:"
   ]
  },
  {
   "cell_type": "code",
   "execution_count": 37,
   "metadata": {},
   "outputs": [
    {
     "name": "stdout",
     "output_type": "stream",
     "text": [
      "0.790697172505\n"
     ]
    },
    {
     "data": {
      "text/plain": [
       "False"
      ]
     },
     "execution_count": 37,
     "metadata": {},
     "output_type": "execute_result"
    }
   ],
   "source": [
    "rmse_rwd = np.sqrt(np.mean(fcst_error_rw**2))\n",
    "print(rmse_rwd)\n",
    "rmse_rwd <= rmse_rw"
   ]
  },
  {
   "cell_type": "markdown",
   "metadata": {},
   "source": [
    "Interestingly, the \"drift\" helps to predict the direction of the exchange rate, but it does not help to predict the magnitude of change."
   ]
  },
  {
   "cell_type": "markdown",
   "metadata": {},
   "source": [
    "### Question II\n",
    "\n",
    "Engel and West (2005) builds a Taylor Rule model in which one of the countries sets monetary policy rate taking into consideration the level of real effective exchange rate (REER). The idea is that the country may be heavily externally dependent, and the monetary authority cares about the relative price of its exports. Assume that the (trade weighted) real effective exchange rate is a policy concern for the Chinese central bank. Re-estimate the Taylor rule model assuming that:\n",
    "  * the US central bank sets interest rate targeting inflation and output gap as before\n",
    "  * the Chinese central bank targets REER in addition\n",
    "\n",
    "1.\tCheck a credible online source for the definition of REER.\n",
    "2.\tEstimate the Taylor Rule model with REER using Chinese data. What’s the sign of the coefficient of REER? Is it significant? Is the sign consistent with your intuition?\n",
    "3.\tRe-do the out-of-sample forecast using Taylor Rule model with REER. Does the model produce smaller or larger RMSE than the original Taylor Rule model?"
   ]
  },
  {
   "cell_type": "markdown",
   "metadata": {},
   "source": [
    "** Answer to QII **\n",
    "\n",
    "*Part 1.* In short, the real effective exchange rate is a weighted real exchange rate that measures the relative price of a country's goods compared with a basket of other countries'. In practice, how the weights are determined depends on the intended use of the index. Here we use the trade-share-weighted index.\n",
    "\n",
    "*Part 2.* The Chinese and US monetary policy rules can be written as, respectively:\n",
    "\n",
    "$$ i_t = \\rho_{\\pi}\\pi_t + \\rho_yy_t + \\rho_eREER_t + \\nu_t $$\n",
    "\n",
    "If the monetary authority cares about the relative price of its export, it should try to loose monetary policy to alleviate the appreciation pressure when its currency gains value. Suggesting that $\\rho_e$ should be *negative*.\n",
    "\n",
    "$$ i_t^{*} = \\rho_{\\pi}\\pi_t^* + \\rho_yy_t^*  + \\nu_t^* $$\n",
    "\n",
    "Substitute into the UIP condition and re-arrange to get:\n",
    "\n",
    "$$ E_{t}(s_{t+1}-s_{t})=\\alpha+\\beta_1(\\pi_{t}-\\pi_{t}^{*})+\\beta_2(y_{t}-y_{t}^{*})+\\beta_3REER_t + \\epsilon_t $$\n",
    "\n",
    "The last equation suggests that we should re-estimate the Taylor-Rule model with the REER as an additional independent variable."
   ]
  },
  {
   "cell_type": "markdown",
   "metadata": {},
   "source": [
    "Let's estimate the full model to see if the coefficient makes sense."
   ]
  },
  {
   "cell_type": "code",
   "execution_count": 14,
   "metadata": {},
   "outputs": [
    {
     "name": "stdout",
     "output_type": "stream",
     "text": [
      "                            OLS Regression Results                            \n",
      "==============================================================================\n",
      "Dep. Variable:                  dep_1   R-squared:                       0.169\n",
      "Model:                            OLS   Adj. R-squared:                  0.151\n",
      "Method:                 Least Squares   F-statistic:                     9.796\n",
      "Date:                Wed, 07 Feb 2018   Prob (F-statistic):           6.33e-06\n",
      "Time:                        23:38:26   Log-Likelihood:                -137.20\n",
      "No. Observations:                 149   AIC:                             282.4\n",
      "Df Residuals:                     145   BIC:                             294.4\n",
      "Df Model:                           3                                         \n",
      "Covariance Type:            nonrobust                                         \n",
      "==============================================================================\n",
      "                 coef    std err          t      P>|t|      [0.025      0.975]\n",
      "------------------------------------------------------------------------------\n",
      "const         -2.2165      0.432     -5.136      0.000      -3.069      -1.363\n",
      "pi_diff       -0.0857      0.032     -2.715      0.007      -0.148      -0.023\n",
      "y_diff         0.0164      0.012      1.353      0.178      -0.008       0.040\n",
      "RMB_REER       0.0196      0.004      4.988      0.000       0.012       0.027\n",
      "==============================================================================\n",
      "Omnibus:                       90.657   Durbin-Watson:                   1.739\n",
      "Prob(Omnibus):                  0.000   Jarque-Bera (JB):             1315.934\n",
      "Skew:                           1.781   Prob(JB):                    1.77e-286\n",
      "Kurtosis:                      17.116   Cond. No.                         921.\n",
      "==============================================================================\n",
      "\n",
      "Warnings:\n",
      "[1] Standard Errors assume that the covariance matrix of the errors is correctly specified.\n"
     ]
    }
   ],
   "source": [
    "# in-sample estimation\n",
    "\n",
    "reg_tre = sm.OLS(endog=erf['dep_1'], exog=erf[['const', 'pi_diff','y_diff', 'RMB_REER']], missing='drop')\n",
    "results = reg_tre.fit()\n",
    "print(results.summary())\n"
   ]
  },
  {
   "cell_type": "markdown",
   "metadata": {},
   "source": [
    "We can see that the coefficient of the RMB real effective exchange rate was significantly positive, suggesting that monetary policy rate seems to be high precisely when the RMB was appreciating in real terms. This is counter-intuitve. - Or is it? Can you think of an explanation for this positive *correlation*?"
   ]
  },
  {
   "cell_type": "markdown",
   "metadata": {},
   "source": [
    "*Part 3.* Here's the rolling-window regression with the REER:"
   ]
  },
  {
   "cell_type": "code",
   "execution_count": 12,
   "metadata": {},
   "outputs": [
    {
     "data": {
      "text/plain": [
       "array([-0.72607244,  1.45856886, -0.22101211, -0.26704785,  0.29947521,\n",
       "        0.12987519, -0.18076062, -0.0091208 ,  0.55242062, -0.1066666 ,\n",
       "       -0.10993902,  0.04342912,  0.49135752,  0.15895563,  0.2411531 ,\n",
       "       -0.61072717,  0.76329439, -0.20334998,  0.25086308,  0.02636938,\n",
       "        0.22954276, -0.95964872,  0.15910484, -0.03000177, -0.10732494,\n",
       "        0.19187836,  0.81446051,  0.37410908,  0.18274428,  0.11059769,\n",
       "        0.06526864,  0.07032509,  0.77178126,  0.52779668, -0.09503696,\n",
       "       -0.18808634, -0.03701628,  0.17039096, -0.21631756, -0.15608758,\n",
       "        0.32006736, -0.33935046, -0.40452801, -0.59852942, -0.16760522,\n",
       "       -0.16103879,  0.2288252 , -0.28464814, -0.00860237,  0.11952526,\n",
       "        0.12398937,  0.16532904,  0.20183464, -0.32698434, -0.13100998,\n",
       "        0.13409223,  0.56006739, -0.11999241,  0.11307533, -0.08005171,\n",
       "       -4.34611624,  1.02734872,  0.62804561, -0.37643829, -1.0317638 ,\n",
       "       -0.283852  ,  0.69725412,  1.80514736,  0.33123073, -1.58824142,\n",
       "       -0.49877984, -0.12030853, -0.43304684,  0.51094631, -1.0793178 ,\n",
       "       -1.5468881 , -0.43296692,  1.46740836, -0.07032029, -0.22452882,\n",
       "        0.2533468 ,  0.58349033,  1.36702878,  0.58689508,  1.83917083,\n",
       "       -0.7798453 , -0.25264358,  0.45200148,  0.9318915 ])"
      ]
     },
     "execution_count": 12,
     "metadata": {},
     "output_type": "execute_result"
    }
   ],
   "source": [
    "# Taylor-rule model with REER\n",
    "fcst_tre = np.zeros(size_sample - size_subsample) #tre = taylor rule with exchange rate\n",
    "fcst_error_tre = np.zeros(size_sample - size_subsample)\n",
    "for i in range (size_sample - size_subsample):\n",
    "    # y_diff column should have been created before so we quote it out\n",
    "    # y_chn = erf['CHN PMI'] - np.mean(erf.loc[i:size_subsample-1+i, 'CHN PMI'])\n",
    "    # y_us = erf['USA PMI'] - np.mean(erf.loc[i:size_subsample-1+i, 'USA PMI'])\n",
    "    # erf['y_diff'] = y_chn - y_us\n",
    "    \n",
    "    reg_tresub = sm.OLS(endog=erf.loc[i:size_subsample-1+i,'dep_1'], exog=erf.loc[erf.index[i:size_subsample+i],['const', 'pi_diff','y_diff', 'RMB_REER']], missing='drop')\n",
    "    results_sub = reg_tresub.fit()\n",
    "    \n",
    "    # error = results_sub.predict(exog = [1, erf.loc[size_subsample+i,'int_diff']]) - erf.loc[size_subsample+i, 'dep_1']\n",
    "    \n",
    "    fcst_tre[i] = results_sub.predict(exog = [erf.loc[size_subsample+i,['const', 'pi_diff','y_diff', 'RMB_REER']]])\n",
    "    error = results_sub.predict(exog = [erf.loc[size_subsample+i,['const', 'pi_diff','y_diff', 'RMB_REER']]]) - erf.loc[size_subsample+i, 'dep_1']\n",
    "    fcst_error_tre[i] = error\n",
    "    \n",
    "fcst_error_tre"
   ]
  },
  {
   "cell_type": "code",
   "execution_count": 13,
   "metadata": {},
   "outputs": [
    {
     "data": {
      "text/plain": [
       "0.76057185980014974"
      ]
     },
     "execution_count": 13,
     "metadata": {},
     "output_type": "execute_result"
    }
   ],
   "source": [
    "rmse_tre = np.sqrt(np.mean(fcst_error_tre**2))\n",
    "rmse_tre"
   ]
  },
  {
   "cell_type": "markdown",
   "metadata": {},
   "source": [
    "Thus the model in which Chinese government targets the REER produces smaller RMSE than the standard Taylor Rule model."
   ]
  },
  {
   "cell_type": "markdown",
   "metadata": {},
   "source": [
    "### Question III\n",
    "\n",
    "In the literature, it is well known that the best model for one country may not be the best for another. Collect data for another pair of countries and re-examine the performance of the UIP model, the Taylor Rule model, and the random walk model using the RMSE as the criterion.\n",
    "\n",
    "As a first step, please make sure that you can find the required data at monthly frequency for at least 10 years for your choice of exchange rate. Please then go to our WeChat group and *post your choice of exchange rate* so that later groups will not accidentally pick the same exchange rate. It is your responsibility to make sure that your choice of country-pair has not already been claimed by another pair of groups. *Partner groups should use the same bilateral exchange rate*."
   ]
  },
  {
   "cell_type": "markdown",
   "metadata": {},
   "source": [
    "**Answer to QIII**\n",
    "\n",
    "Omitted. "
   ]
  },
  {
   "cell_type": "markdown",
   "metadata": {
    "collapsed": true
   },
   "source": [
    "### References"
   ]
  },
  {
   "cell_type": "markdown",
   "metadata": {},
   "source": [
    "Cerra, V. and S.C. Saxena (2010), The Monetary Model Strikes Back: Evidence from the World,Journal of International Economics 81, 184-196.\n",
    "\n",
    "Clark, T. E., & West, K. D. (2007). Approximately normal tests for equal predictive accuracy in nested models. Journal of econometrics, 138(1), 291-311.\n",
    "\n",
    "Diebold, Francis X., and Robert S. Mariano. \"Comparing predictive accuracy.\" Journal of Business & economic statistics 20.1 (2002): 134-144.\n",
    "\n",
    "Engel, C. (1994). Can the Markov switching model forecast exchange rates?. Journal of International Economics, 36(1-2), 151-165.\n",
    "\n",
    "Meese, R. A., & Rogoff, K. (1983). Empirical exchange rate models of the seventies: Do they fit out of sample?. Journal of international economics, 14(1-2), 3-24.\n",
    "\n",
    "Rossi, B. (2013). Exchange rate predictability. Journal of economic literature, 51(4), 1063-1119.\n",
    "\n",
    "West, K. D. (1996). Asymptotic inference about predictive ability. Econometrica: Journal of the Econometric Society, 1067-1084."
   ]
  },
  {
   "cell_type": "code",
   "execution_count": null,
   "metadata": {
    "collapsed": true
   },
   "outputs": [],
   "source": []
  }
 ],
 "metadata": {
  "kernelspec": {
   "display_name": "Python 3",
   "language": "python",
   "name": "python3"
  },
  "language_info": {
   "codemirror_mode": {
    "name": "ipython",
    "version": 3
   },
   "file_extension": ".py",
   "mimetype": "text/x-python",
   "name": "python",
   "nbconvert_exporter": "python",
   "pygments_lexer": "ipython3",
   "version": "3.7.0"
  }
 },
 "nbformat": 4,
 "nbformat_minor": 2
}

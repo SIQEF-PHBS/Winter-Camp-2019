{
 "cells": [
  {
   "cell_type": "markdown",
   "metadata": {},
   "source": [
    "## Practice questions on finite Markov Chain\n",
    "**Winter Camp of Quantitative Economics and Finance, 2019, Peking University HSBC Business School**\n",
    "\n",
    "Jiao Shi would like to thank Lingdi xu, Zihao Mao, and Gan Wu for their excellence assitance"
   ]
  },
  {
   "cell_type": "markdown",
   "metadata": {},
   "source": [
    "## Question 1: PageRank\n",
    "\n",
    "PageRank (PR) is an algorithm used by Google Search to rank web pages in their search engine results. PageRank was named after Larry Page, one of the founders of Google. PageRank is a way of measuring the importance of website pages. According to Google:\n",
    "\n",
    "*PageRank works by counting the number and quality of links to a page to determine a rough estimate of how important the website is. The underlying assumption is that more important websites are likely to receive more links from other websites.*\n",
    "\n",
    "Currently, PageRank is not the only algorithm used by Google to order search results, but it is the first algorithm that was used by the company, and it is the best known."
   ]
  },
  {
   "cell_type": "markdown",
   "metadata": {},
   "source": [
    "The PageRank algorithm outputs a probability distribution used to represent the likelihood that a person randomly clicking on links will arrive at any particular page. PageRank can be calculated for collections of documents of any size. It is assumed in several research papers that the distribution is evenly divided among all documents in the collection at the beginning of the computational process. The PageRank computations require several passes, called \"iterations\", through the collection to adjust approximate PageRank values to more closely reflect the theoretical true value.\n",
    "\n",
    "A probability is expressed as a numeric value between 0 and 1. A 0.5 probability is commonly expressed as a \"50% chance\" of something happening. Hence, a PageRank of 0.5 means there is a 50% chance that a person clicking on a random link will be directed to the document with the 0.5 PageRank."
   ]
  },
  {
   "cell_type": "markdown",
   "metadata": {},
   "source": [
    "Now consider a small universe of four webpages: Facebook(FB), Youtube(YT), Amazon(AM) and Google Maps(GM). Links from a page to itself are ignored. Multiple outbond links from one page to another page are treated as a single link. PageRank is initialized to the same value for all pages, which consists of a probability distribution with four states (FB, YT AM & GM).\n",
    "\n",
    "1. Write down the initial PageRank.\n",
    "2. Suppose that a person randomly clicks on the links available on each page.  YT has a link to AM and FB. AM has a link to FB. GM and FB have links to all three pages. Write down the transition matrix for this system.\n",
    "3. Compute the page rank after one iteration.\n",
    "4. Compute the page rank in the \"steady state\" (i.e. in the long run, what's the eventual page rank of the four webpages?)"
   ]
  },
  {
   "cell_type": "markdown",
   "metadata": {},
   "source": [
    "**Answer**: The transition matrix is\n",
    "\n",
    "$\\begin{bmatrix}0& \\frac{1}{3}&\\frac{1}{3}&\\frac{1}{3}\\\\\n",
    "\\frac{1}{2}& 0 &\\frac{1}{2}& 0\\\\\n",
    "1 & 0 & 0 & 0 \\\\\n",
    "\\frac{1}{3} & \\frac{1}{3} & \\frac{1}{3} & 0\\end{bmatrix} $"
   ]
  },
  {
   "cell_type": "code",
   "execution_count": 1,
   "metadata": {},
   "outputs": [
    {
     "data": {
      "text/plain": [
       "matrix([[0.45833333, 0.16666667, 0.29166667, 0.08333333]])"
      ]
     },
     "execution_count": 1,
     "metadata": {},
     "output_type": "execute_result"
    }
   ],
   "source": [
    "import numpy as np\n",
    "import quantecon as qe\n",
    "\n",
    "iPR= np.array([1/4, 1/4, 1/4, 1/4])\n",
    "\n",
    "tr=np.matrix([[0, 1/3, 1/3, 1/3], \n",
    "              [1/2, 0, 1/2, 0],\n",
    "              [1, 0, 0, 0],\n",
    "              [1/3, 1/3, 1/3, 0]], dtype=float)\n",
    "\n",
    "iPR@tr"
   ]
  },
  {
   "cell_type": "code",
   "execution_count": 2,
   "metadata": {},
   "outputs": [
    {
     "data": {
      "text/plain": [
       "array([[0.40909091, 0.18181818, 0.27272727, 0.13636364]])"
      ]
     },
     "execution_count": 2,
     "metadata": {},
     "output_type": "execute_result"
    }
   ],
   "source": [
    "mc=qe.MarkovChain(tr)\n",
    "mc.stationary_distributions"
   ]
  },
  {
   "cell_type": "markdown",
   "metadata": {},
   "source": [
    "## Question 2: Option pricing\n",
    "\n",
    "**Background**\n",
    "\n",
    "In finance, derivative is a contract which value is 'derived' from value of underlying assets. \n",
    "\n",
    "Option is one type of derivatives.\n",
    "\n",
    "A European call option gives holder (buyer) the right, but not obligation, to buy underlying assets at a prescribed price (strike price) at the speficed date (maturity). For example, the largest operating expense for an airline company is the oil expense. If current oil prices is 100 dollars per barrel, but the company worries that the oil price in one quarter may rise to over 105 per barrel. Then the company may purchase an oil option at say, 2 dollars, with a stirke price of 105 and matures in one quarter. If at maturity, the oil price is below 105, then the company does not exercise the option. However, if the option price is 108, then the company exercises the option, and is able to purchase oil at 105. The net gain for the company in the option trading is 108 - 105 - 2 = 1. In this way, the company can manage their risk exposure to adverse moverment in future oil price.\n",
    "\n",
    "Value of an European call option at time $t = 0$ that matures at time T with a strike price K, is given by\n",
    "\n",
    "$$ V_{0,T} = e^{-rT} \\mathbb{E}_0 [max(S_T - K, 0)] $$\n",
    "\n",
    "where $ S_T $ is underlying asset price at time T, and $ e^{-rT} $ is a continuous discount factor.\n",
    "\n",
    "**Setup** \n",
    "\n",
    "Suppose now that the underlying asset price, $S_t$, evolves according to a Markov process. Depending on the economy status of being good, normal, or bad, the asset has price 15, 10, or 5. The transition probability, $P(x,y)$, is given by\n",
    "\n",
    "$$\n",
    "P(x, y) = \n",
    "\\begin{bmatrix}\n",
    "0.75 & 0.15 & 0.1 \\\\\n",
    "0.1 & 0.8 & 0.1 \\\\\n",
    "0.1 & 0.2 & 0.7 \\\\\n",
    "\\end{bmatrix}\n",
    "$$\n",
    "\n",
    "That is, if the economy is in the 'good' state currently (the first row), then the probability that the economy is good, normal, or bad next period is 0.75, 0.15, and 0.1, respectively. Similar interpretation for the second and third row.\n",
    "\n",
    "**Question**\n",
    "\n",
    "Assume that the option has a strike price of K = 9, and mature in T periods.\n",
    "\n",
    "* Suppose that T = 1, condition on $ S_0 = 10 $, what is $ V_{0,1} $ ?\n",
    "\n",
    "That is, the option matures in one period, and current price of underlying asset is 10, what is the option price today?\n",
    "\n",
    "* For T = 1, 2, $\\cdots$, 30, condition on $ S_0 = 10 $, plot $V_{0,T}$ against the series of T. How to interpret the results?"
   ]
  },
  {
   "cell_type": "code",
   "execution_count": 2,
   "metadata": {},
   "outputs": [],
   "source": [
    "import numpy as np\n",
    "import matplotlib.pyplot as plt\n",
    "import quantecon as qe"
   ]
  },
  {
   "cell_type": "code",
   "execution_count": 89,
   "metadata": {},
   "outputs": [
    {
     "data": {
      "image/png": "[encoded data removed]",
      "text/plain": [
       "<Figure size 432x288 with 1 Axes>"
      ]
     },
     "metadata": {},
     "output_type": "display_data"
    },
    {
     "name": "stdout",
     "output_type": "stream",
     "text": [
      "ergodic distribution is  [[0.28571429 0.46428571 0.25      ]]\n",
      "ergodic distribution by iteration is  [0.28571429 0.46428571 0.25      ]\n",
      "ergodic distribution by formula is  [0.28571429 0.46428571 0.25      ]\n"
     ]
    }
   ],
   "source": [
    "def OptionValue(state, P, strike, r, p_0, T, ergodic=False):\n",
    "    'Calculate option value by sum of payoffs weighted by probability distribution of underlying asset price'\n",
    "    if ergodic == False:\n",
    "        dist_T = p_0 @ np.linalg.matrix_power(P, T)\n",
    "    else:     # to plot the orange line for comparison purposes\n",
    "        mc = qe.MarkovChain(P, state_values=state)\n",
    "        dist_T = mc.stationary_distributions\n",
    "    p_T = state - strike\n",
    "    p_T[p_T < 0.0] = 0.0  # payoff at time T\n",
    "    v_T = np.sum(dist_T * p_T) # weighted sum \n",
    "    v_0 = np.exp(-r * T) * v_T # discount to time 0\n",
    "    return v_0\n",
    "\n",
    "state = np.array([15.0, 10.0, 5.0])\n",
    "P = np.array([[0.75, 0.15, 0.1],\n",
    "             [0.1, 0.8, 0.1],\n",
    "             [0.1, 0.2, 0.7]])\n",
    "strike = 9\n",
    "r = 5e-3\n",
    "p_0 = np.array([0, 1, 0])\n",
    "T = 30\n",
    "\n",
    "v_path = np.zeros(T)\n",
    "v_path_ergodic = np.zeros(T)\n",
    "\n",
    "fig, ax = plt.subplots()\n",
    "for ii in range(T):\n",
    "    v_path[ii] = OptionValue(state, P, strike, r, p_0, ii+1, False)\n",
    "    v_path_ergodic[ii] = OptionValue(state, P, strike, r, p_0, ii+1, True)    \n",
    "ax.plot(range(len(v_path)), v_path, label='non-ergodic')\n",
    "ax.plot(range(len(v_path)), v_path_ergodic, label='ergodic')\n",
    "ax.legend(loc='lower right')\n",
    "ax.set(xlabel='T', ylabel='option price' )\n",
    "plt.show()\n",
    "\n",
    "# Appendix\n",
    "# Compute ergodic distribution using QuantEcon.MarkovChain\n",
    "mc = qe.MarkovChain(P, state_values=state)\n",
    "ergodic_dist = mc.stationary_distributions\n",
    "print('ergodic distribution is ', ergodic_dist)\n",
    "\n",
    "# Compute ergodic distribution by matrix power\n",
    "ergodic_dist= p_0 @ np.linalg.matrix_power(P, 100)\n",
    "print('ergodic distribution by iteration is ', ergodic_dist)\n",
    "\n",
    "# Compute ergodic distribution by formula\n",
    "def ErgodicDist(P):\n",
    "    dim = np.shape(P)[0]\n",
    "    A = P - np.identity(dim)\n",
    "    A[:, -1] = np.ones(dim)\n",
    "    b = np.zeros(dim)\n",
    "    b[-1] = 1\n",
    "    return np.linalg.solve(A.T, b)\n",
    "\n",
    "ergodic_dist = ErgodicDist(P)\n",
    "print('ergodic distribution by formula is ', ergodic_dist)"
   ]
  },
  {
   "cell_type": "markdown",
   "metadata": {},
   "source": [
    "Interpretation: From the figure, given that current price of underlying asset is 10, option value first increase with maturity T, and then decreases in around 9 periods. The intuition is that at time 0, underlying asset price has a distribution of  [0, 1, 0], i.e., current asset price is 10, and in several periods, probability distribution of underlying asset price converges to the ergodic distribution, which is [0.29, 0.46, 0.25]. Since the ergodic distribution has a higher weight on larger payoff value of 15, option price increases with T. However, for longer maturity, the discount factor comes into play, and option value gradually decreases with T. \n",
    "\n",
    "As a comparison, the orange curve plots option value against maturity T, assuming that for each period, distribution of underlying asset price is the ergodic distribution. We can observe that the two curves converge in around 13 periods. That is, distribution of underlying asset price, by assuming a start point at $ s_0 = 10 $ and evolving according to a Markov process, converges to the ergodic distribution, in around 13 periods."
   ]
  },
  {
   "cell_type": "markdown",
   "metadata": {},
   "source": [
    "## Question 3 (optional, try for fun): Bad loans"
   ]
  },
  {
   "cell_type": "markdown",
   "metadata": {},
   "source": [
    "In 2008, the subprime crisis swept the world. The investment banks in Wallstreet suffered the shock of collective default. The stock price of Citi Group drops from 55 dollar to only 1 dollar. Citi Group made losses in all 4 quarters in 2008 due to large loss in value of mortgage-backed securities. Rumors about its bankruptcy spread in Wallstreet. Now, assume that you are a Fund manager who is trying to gain insight into the bad loan problem of Citi Group."
   ]
  },
  {
   "cell_type": "markdown",
   "metadata": {},
   "source": [
    "The market is concerned that the bad loan and debt will crush Citi Group. Some investors speculate that Citi Group will take many years to dispose its huge bad loans, and thus will make no profit and zero dividend to stock-holders. \n"
   ]
  },
  {
   "cell_type": "markdown",
   "metadata": {},
   "source": [
    "In this canse, we want to learn the process of changes in loans. \n",
    "\n",
    "Following international standard, we could classify the loans into 5 categories:  \n",
    "\n",
    "$N_{1}=$ Normal loans\n",
    "\n",
    "$N_{2}=$ Special-mentioned　loans\n",
    "\n",
    "$N_{3}=$ Subprime　loans\n",
    "\n",
    "$N_{4}=$ Doubt　loans\n",
    "\n",
    "$N_{5}=$ Loss"
   ]
  },
  {
   "cell_type": "markdown",
   "metadata": {},
   "source": [
    "Next, we assume that the status of loans are governed by the Markov Matrix\n",
    "$M$=\n",
    "$$\n",
    " \\left\\{\n",
    " \\begin{matrix}\n",
    "   N_{11} & N_{12} & N_{13} & N_{14} & N_{15}\\\\\n",
    "   N_{21} & N_{22} & N_{23} & N_{24} & N_{25} \\\\\n",
    "   N_{31} & N_{32} & N_{33} & N_{34} & N_{35} \\\\\n",
    "   N_{41} & N_{42} & N_{43} & N_{44} & N_{45} \\\\\n",
    "   N_{51} & N_{52} & N_{53} & N_{54} & N_{55}\n",
    "  \\end{matrix}\n",
    "  \\right\\} \\tag{2}\n",
    "$$\n",
    "\n",
    "Where  $N_{xy}$ represents the probability of state $N_{x}$ transferring into $N_{y}$\n",
    "\n",
    "We assume the Markov Matrix is given by:\n",
    "\n",
    "$M$=\n",
    "$$\n",
    " \\left\\{\n",
    " \\begin{matrix}\n",
    "   0.9 & 0.05 & 0.05 & 0 & 0\\\\\n",
    "   0.1 & 0.8 & 0.05 & 0.05 & 0 \\\\\n",
    "   0.1 & 0.15 & 0.7 & 0.05 & 0 \\\\\n",
    "   0.05 & 0.05 & 0.05 & 0.7 & 0.15 \\\\\n",
    "   0 & 0 & 0.05 & 0.1 & 0.85\n",
    "  \\end{matrix}\n",
    "  \\right\\} \\tag{2}\n",
    "$$"
   ]
  },
  {
   "cell_type": "markdown",
   "metadata": {},
   "source": [
    "During the subprime crisis, most Home mortgage normal loans fell into Subprime loans level or even worse level because the collapes of real estate(collateral) could not support the value of home mortgage loan. At that time, nearly 40% of loans in Citi group are subprime loan. If those bad loans can not pay their principal and interest, Citi group would go bankrupt with no doubt. \n",
    "\n",
    "In our case, we assume that at the depth of crisis, the intial loan strucutre of Citi group is \n",
    "\n",
    "$LS_{0}$=\n",
    "$$\n",
    " \\left\\{\n",
    " \\begin{matrix}\n",
    "   0.15 \\\\\n",
    "   0.15 \\\\\n",
    "   0.4 \\\\\n",
    "   0.15 \\\\\n",
    "   0.15 \\\\\n",
    "  \\end{matrix}\n",
    "  \\right\\} \\tag{2}\n",
    "$$\n",
    "Which means at initial time 0, the normal loans, special-mentioned loans, subprime loans, doubt loans and loss account for 15%, 15%, 40%, 15%, 15% in Citi Group total Loan. The Citi Group loan structual consisted of 70% bad loans.\n",
    "\n",
    "Another factor we need to consider is the monetary policy of Federal Reserve. If FED turns dovish, cutting interest rate and using QE to provide excessive money supply, every period, Citi group will have 3% new normal loans. If Fed stay hawkish, Citi group will only have 1% new normal loans. If Fed are neutral, Citi group will have 2% new normal loans growth. At the initial period, FED is dovish, and monetary policy tranferring matrix is as follow:\n",
    "\n",
    "$MP$=\n",
    "$$\n",
    " \\left\\{\n",
    " \\begin{matrix}\n",
    "   0.8 & 0.1 & 0.1\\\\\n",
    "   0.6 & 0.4 & 0.1\\\\\n",
    "   0.3 & 0.3 & 0.4 \\\\\n",
    "  \\end{matrix}\n",
    "  \\right\\} \\tag{2}\n",
    "$$\n",
    "\n",
    "Where $N_{11}$=0.8 means if Fed is dovish at present period, there is 80% of probabilty that it will still hold the dovish position at the next period. $N_{12}$=0.1 means if Fed is dovish at present period, there is 10% of probabilty that it will turn netural in the next period. $N_{13}$=0.1 means if Fed is dovish at present period, there is 10% of probabilty that it will turn hawkish in the next period. \n",
    "\n",
    "**Question**\n",
    "\n",
    "Simulate the model, and find out how long it will take for Citi Group to recover? (i.e. Go back to its long-run level of bad loans.) \n",
    "What is the level of bad loan rate for Citi Group during the recovery and in the long run?"
   ]
  },
  {
   "cell_type": "code",
   "execution_count": 3,
   "metadata": {},
   "outputs": [],
   "source": [
    "import numpy as np\n",
    "import scipy.stats as stats # Distribution classes of random variable\n",
    "import matplotlib.pyplot as plt"
   ]
  },
  {
   "cell_type": "code",
   "execution_count": 4,
   "metadata": {},
   "outputs": [],
   "source": [
    "#initialize the first period value\n",
    "\n",
    "LS=[0.15, 0.15, 0.4, 0.15, 0.15]\n",
    "M=np.array([[0.9, 0.95, 1, 1],\n",
    "    [0.1, 0.9, 0.95, 1],\n",
    "    [0.1, 0.25, 0.95, 1],\n",
    "    [0.05, 0.1, 0.15, 0.85],\n",
    "    [0, 0, 0.05, 0.15]])\n",
    "MP=np.array([[0.8,0.9],[0.5,0.9],[0.3,0.6]])\n",
    "Fed=0 # Fed=0 Dovish, Fed=1 netural, Fed=2 hawks\n",
    "period=100\n",
    "stimulation_time=1000"
   ]
  },
  {
   "cell_type": "code",
   "execution_count": 5,
   "metadata": {},
   "outputs": [
    {
     "data": {
      "text/plain": [
       "array([0.58641115, 0.50670236, 0.45039264, 0.41443836, 0.39552161,\n",
       "       0.36547603, 0.35520387, 0.34955207, 0.35341485, 0.34470928,\n",
       "       0.34284386, 0.32287134, 0.31510114, 0.31595973, 0.3149508 ,\n",
       "       0.31825641, 0.30395501, 0.29990703, 0.28828037, 0.28757416,\n",
       "       0.29623741, 0.2872622 , 0.29063253, 0.28560351, 0.2830166 ,\n",
       "       0.27472457, 0.26291795, 0.26437783, 0.26784273, 0.27243536,\n",
       "       0.26622287, 0.25358827, 0.25195224, 0.2529206 , 0.25601203,\n",
       "       0.26418084, 0.25773922, 0.27624132, 0.26332455, 0.26207139,\n",
       "       0.26715071, 0.26392758, 0.26627378, 0.25947981, 0.26122632,\n",
       "       0.26962131, 0.27780582, 0.28113886, 0.27529927, 0.26915721,\n",
       "       0.27180062, 0.28525487, 0.27276758, 0.28173525, 0.28726307,\n",
       "       0.28195175, 0.27304749, 0.27253547, 0.28305309, 0.27312982,\n",
       "       0.27486238, 0.26880884, 0.27372428, 0.2802094 , 0.27024549,\n",
       "       0.27359145, 0.2747076 , 0.26722273, 0.26559162, 0.26176201,\n",
       "       0.27297915, 0.27714645, 0.27915886, 0.27227381, 0.28164093,\n",
       "       0.27899363, 0.28122983, 0.28456068, 0.27962689, 0.2853085 ,\n",
       "       0.27523231, 0.27407622, 0.27575452, 0.26207448, 0.25321534,\n",
       "       0.26130898, 0.2753252 , 0.26965458, 0.27456933, 0.27218039,\n",
       "       0.27390614, 0.26526126, 0.27896659, 0.27443181, 0.27493086,\n",
       "       0.28490099, 0.28155882, 0.27162763, 0.26717821, 0.27572259])"
      ]
     },
     "execution_count": 5,
     "metadata": {},
     "output_type": "execute_result"
    }
   ],
   "source": [
    "K=np.empty([1000,100],dtype=float) \n",
    "for k in range (stimulation_time):\n",
    "    Badrate=[]\n",
    "    LS=[0.15, 0.15, 0.4, 0.15, 0.15]\n",
    "    Fed=0\n",
    "    for i in range(period):\n",
    "        new_ls=np.array([0.,0.,0.,0.,0.])\n",
    "        m_rd=np.random.rand(5)\n",
    "        for j in range(5):\n",
    "            if m_rd[j-1]<M[j-1,0]:\n",
    "                new_ls[0]=new_ls[0]+LS[j-1]\n",
    "            elif m_rd[j-1]>M[j-1,0] and m_rd[j-1]<M[j-1,1]:\n",
    "                new_ls[1]=new_ls[1]+LS[j-1]\n",
    "            elif m_rd[j-1]>M[j-1,1] and m_rd[j-1]<M[j-1,2]:\n",
    "                new_ls[2]=new_ls[2]+LS[j-1]\n",
    "            elif m_rd[j-1]>M[j-1,2] and m_rd[j-1]<M[j-1,3]:    \n",
    "                new_ls[3]=new_ls[3]+LS[j-1]\n",
    "            else:\n",
    "                new_ls[4]=new_ls[4]+LS[j-1]\n",
    "        mp_rd=np.random.rand(1)\n",
    "        if Fed==0:\n",
    "            if mp_rd<MP[0,0]:\n",
    "                new_ls[0]=new_ls[0]+0.03\n",
    "                LS=new_ls/1.03\n",
    "                Badrate=np.append(Badrate,1-LS[0]-LS[1])\n",
    "                Fed=0\n",
    "            elif mp_rd>MP[0,0] and mp_rd<MP[0,1]:\n",
    "                new_ls[0]=new_ls[0]+0.02\n",
    "                LS=new_ls/1.02\n",
    "                Badrate=np.append(Badrate,1-LS[0]-LS[1])\n",
    "                Fed=1\n",
    "            else:\n",
    "                new_ls[0]=new_ls[0]+0.01\n",
    "                LS=new_ls/1.01\n",
    "                Badrate=np.append(Badrate,1-LS[0]-LS[1])\n",
    "                Fed=2      \n",
    "        elif Fed==1:\n",
    "            if mp_rd<MP[1,0]:               \n",
    "                new_ls[0]=new_ls[0]+0.03\n",
    "                LS=new_ls/1.03\n",
    "                Badrate=np.append(Badrate,1-LS[0]-LS[1])\n",
    "                Fed=0\n",
    "            elif mp_rd>MP[1,0] and mp_rd<MP[1,1]:\n",
    "                new_ls[0]=new_ls[0]+0.02\n",
    "                LS=new_ls/1.02\n",
    "                Badrate=np.append(Badrate,1-LS[0]-LS[1])\n",
    "                Fed=1\n",
    "            else:\n",
    "                new_ls[0]=new_ls[0]+0.01\n",
    "                LS=new_ls/1.01\n",
    "                Badrate=np.append(Badrate,1-LS[0]-LS[1])\n",
    "                Fed=2   \n",
    "        elif Fed==2:\n",
    "            if mp_rd<MP[2,0]:               \n",
    "                new_ls[0]=new_ls[0]+0.03\n",
    "                LS=new_ls/1.03\n",
    "                Badrate=np.append(Badrate,1-LS[0]-LS[1])\n",
    "                Fed=0\n",
    "            elif mp_rd>MP[2,0] and mp_rd<MP[2,1]:\n",
    "                new_ls[0]=new_ls[0]+0.02\n",
    "                LS=new_ls/1.02\n",
    "                Badrate=np.append(Badrate,1-LS[0]-LS[1])\n",
    "                Fed=1\n",
    "            else:\n",
    "                new_ls[0]=new_ls[0]+0.01\n",
    "                LS=new_ls/1.01\n",
    "                Badrate=np.append(Badrate,1-LS[0]-LS[1])\n",
    "                Fed=2 \n",
    "       \n",
    "    K[k,:]=Badrate\n",
    "    \n",
    "K_mean=np.mean(K,0)\n",
    "\n",
    "K_mean\n"
   ]
  },
  {
   "cell_type": "code",
   "execution_count": 6,
   "metadata": {},
   "outputs": [
    {
     "data": {
      "text/plain": [
       "[<matplotlib.lines.Line2D at 0x173c76ddac8>]"
      ]
     },
     "execution_count": 6,
     "metadata": {},
     "output_type": "execute_result"
    },
    {
     "data": {
      "image/png": "[encoded data removed]",
      "text/plain": [
       "<Figure size 432x288 with 1 Axes>"
      ]
     },
     "metadata": {
      "needs_background": "light"
     },
     "output_type": "display_data"
    }
   ],
   "source": [
    "plt.plot(K_mean)"
   ]
  },
  {
   "cell_type": "markdown",
   "metadata": {},
   "source": [
    "According to the Markov chain Model, we learn that the probable level of bad loans for Citi Group in the Future ranges from 24% to 29%, which is much lower than the level in 2008. Moverover, after about 30 periods, Citi group will recover to the level before the financial crisis. "
   ]
  },
  {
   "cell_type": "code",
   "execution_count": null,
   "metadata": {},
   "outputs": [],
   "source": []
  }
 ],
 "metadata": {
  "kernelspec": {
   "display_name": "Python 3",
   "language": "python",
   "name": "python3"
  },
  "language_info": {
   "codemirror_mode": {
    "name": "ipython",
    "version": 3
   },
   "file_extension": ".py",
   "mimetype": "text/x-python",
   "name": "python",
   "nbconvert_exporter": "python",
   "pygments_lexer": "ipython3",
   "version": "3.7.0"
  }
 },
 "nbformat": 4,
 "nbformat_minor": 2
}

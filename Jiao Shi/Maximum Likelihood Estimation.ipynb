{
 "cells": [
  {
   "cell_type": "markdown",
   "metadata": {},
   "source": [
    "# Maximum Likelihood Estimation\n",
    "Prepared by Jiao Shi for the Winter Camp of Quantitative Economics and Finance, Shenzhen 2019"
   ]
  },
  {
   "cell_type": "markdown",
   "metadata": {},
   "source": [
    "\n",
    "Maximum likelihood estimation (MLE) is a widely used estimation method. The core idea is to ask, given observations, what are the values of parameters under which the observed outcome is most likely to occur.\n",
    "\n",
    "Let's illustrate the basic idea with a simple example, before moving to more complete applications.\n",
    "\n"
   ]
  },
  {
   "cell_type": "markdown",
   "metadata": {},
   "source": [
    "## Bernoulli random variable\n",
    "Let's start with a familiar example of a coin flip. Assume that we are not sure how a coin is weighted.\n",
    "\n",
    "Denote a Head with H and Tail with T. The probability of getting H is $\\pi$. \n",
    "\n",
    "We flip the coin N times, and denote the outcome of the flip $i$ by $d_i$. What's the joint probability of a given sample $\\{d_i\\}_{i=1}^N $?"
   ]
  },
  {
   "cell_type": "markdown",
   "metadata": {},
   "source": [
    "$$\n",
    "L(\\{d_i\\}_{i=1}^N,\\pi)= \\prod_{i=1}^{N}\\pi^{d_i}(1-\\pi)^{(1-d_i)}\n",
    "= \\pi^{N_H}(1-\\pi)^{N_T}\n",
    "$$\n",
    "\n",
    "where $N_H$ is the number of times \"H\" appeared and $N_T$ is the number of times \"T\" appeared. Clearly $N_H + N_T = N$.\n",
    "\n",
    "The idea of maximum likelihood estiamtion is to treat the \"likelihood function\" $L$ as a function of the unknown parameter $\\pi$, and choose the value of $\\pi$ that maximizes $L$.\n",
    "\n",
    "$$\n",
    "\\hat{\\pi}_{ML}= \\arg \\max_{\\pi} L(\\pi)\n",
    "$$"
   ]
  },
  {
   "cell_type": "markdown",
   "metadata": {},
   "source": [
    "The likelihood function $L$ is multiplicative. In practice, we often take the the natural logarithm of $L$ before finding the maximizer. (As the value of $\\pi$ that maximizes a function also maximizes an increasing monotonic function of that function.)\n",
    "\n",
    "Write the log likelihood function:\n",
    "\n",
    "$$\n",
    "\\mathcal{L}(\\pi) \\equiv \\ln L(\\pi) = N_H\\ln\\pi + N_T\\ln(1-\\pi)\n",
    "$$\n",
    "\n",
    "At the value of $\\pi$ where the log likelihood function is maximized:\n",
    "- the first derivative of the log-likelihood function will be equal to 0 (a.k.a. the first-order condition)\n",
    "- the second derivative would be negative (a.k.a. the second-order condition)\n",
    "\n"
   ]
  },
  {
   "cell_type": "markdown",
   "metadata": {},
   "source": [
    "The maximum likelihood estimator of $\\pi$ is the solution to the first order condition\n",
    "$$\n",
    "\\frac {d\\mathcal{L}(\\hat{\\pi}_{ML})}{d\\pi}=0\n",
    "$$\n",
    "\n",
    "which has the convenient analytical solution\n",
    "\n",
    "$$\n",
    "\\hat{\\pi}_{ML}=\\frac {N_H}{N_H + N_T} = \\frac{N_H}{N}.\n",
    "$$"
   ]
  },
  {
   "cell_type": "markdown",
   "metadata": {},
   "source": [
    "### Numerical Example: Bernoulli random variable\n",
    "\n",
    "Let's visualize the likelihood function and check our analytical solution using numerical simulation in Python.\n",
    "\n",
    "Denote a Head by 1, and a Tail by 0. First let's define a function <font color = blue> likelihood </font> that returns the probability of observing a given outcome, conditioning on the parameter $\\pi$.\n",
    "\n",
    "\n"
   ]
  },
  {
   "cell_type": "code",
   "execution_count": 1,
   "metadata": {},
   "outputs": [],
   "source": [
    "import numpy as np\n",
    "import matplotlib.pyplot as plt"
   ]
  },
  {
   "cell_type": "code",
   "execution_count": 3,
   "metadata": {},
   "outputs": [],
   "source": [
    "def likelihood(observation, p):\n",
    "    # observation records the outcome of coin flips\n",
    "    # p is the probability of observing Head\n",
    "    \n",
    "    n = len(observation)\n",
    "    likelihood = 1\n",
    "    \n",
    "    for i in range(n):\n",
    "        head = p**observation[i]\n",
    "        tail = (1-p)**(1-observation[i])\n",
    "        single_trial = head*tail\n",
    "        likelihood = likelihood*single_trial\n",
    "    \n",
    "    return likelihood "
   ]
  },
  {
   "cell_type": "code",
   "execution_count": 6,
   "metadata": {},
   "outputs": [
    {
     "data": {
      "text/plain": [
       "0.25"
      ]
     },
     "execution_count": 6,
     "metadata": {},
     "output_type": "execute_result"
    }
   ],
   "source": [
    "# Check: what's the probability of flipping a fair coin twice and get \"Head\" both times?\n",
    "a = [1,1]\n",
    "likelihood(a,0.5)"
   ]
  },
  {
   "cell_type": "markdown",
   "metadata": {},
   "source": [
    "What if we suspect that the coin was not fair?\n",
    "\n",
    "Say, there could be a 75% chance of getting heads.\n",
    "\n",
    "What's the likelihood of observing two consecutive heads if probability of Head is 75%?"
   ]
  },
  {
   "cell_type": "code",
   "execution_count": 7,
   "metadata": {},
   "outputs": [
    {
     "data": {
      "text/plain": [
       "0.5625"
      ]
     },
     "execution_count": 7,
     "metadata": {},
     "output_type": "execute_result"
    }
   ],
   "source": [
    "c = [1,1]\n",
    "likelihood(c,0.75)"
   ]
  },
  {
   "cell_type": "markdown",
   "metadata": {},
   "source": [
    "Thus the coin is more likely to be unfair than fair.\n",
    "\n",
    "If we have no prior belief on how the coin is weighted, then based on the observed outcome, the parameter value under which our observation {H, H} is most likely is 1.\n"
   ]
  },
  {
   "cell_type": "code",
   "execution_count": 8,
   "metadata": {},
   "outputs": [
    {
     "data": {
      "image/png": "[encoded data removed]",
      "text/plain": [
       "<Figure size 432x288 with 1 Axes>"
      ]
     },
     "metadata": {
      "needs_background": "light"
     },
     "output_type": "display_data"
    }
   ],
   "source": [
    "n_p = 20\n",
    "p_vec = np.linspace(0,1,n_p)\n",
    "prob_1 = []\n",
    "for i in range(n_p):\n",
    "    prob_1.append(likelihood(c,p_vec[i]))\n",
    "    \n",
    "    \n",
    "plt.scatter(p_vec,prob_1)\n",
    "plt.xlabel('p')\n",
    "plt.ylabel('Probability')\n",
    "plt.title('HH')\n",
    "plt.show()"
   ]
  },
  {
   "cell_type": "markdown",
   "metadata": {},
   "source": [
    "Let's continue flipping the coin, and say the third time, we get a Tail.\n",
    "\n",
    "How will that change our \"maximum likelihood\" parameter value $\\hat{\\pi}$?\n"
   ]
  },
  {
   "cell_type": "code",
   "execution_count": 9,
   "metadata": {},
   "outputs": [],
   "source": [
    "d = [1,1,0]"
   ]
  },
  {
   "cell_type": "code",
   "execution_count": 10,
   "metadata": {},
   "outputs": [
    {
     "data": {
      "image/png": "[encoded data removed]",
      "text/plain": [
       "<Figure size 432x288 with 1 Axes>"
      ]
     },
     "metadata": {
      "needs_background": "light"
     },
     "output_type": "display_data"
    }
   ],
   "source": [
    "n_p = 20 \n",
    "p_vec = np.linspace(0,1,n_p)\n",
    "prob_2 = []\n",
    "for i in range(n_p):\n",
    "    prob_2.append(likelihood(d,p_vec[i]))\n",
    "    \n",
    "    \n",
    "plt.scatter(p_vec,prob_2)\n",
    "plt.xlabel('p')\n",
    "plt.ylabel('Probability')\n",
    "plt.title('HHT')\n",
    "plt.show()"
   ]
  },
  {
   "cell_type": "markdown",
   "metadata": {},
   "source": [
    "From our analytical solution, we know that the maximizer occurs at $\\hat{\\pi} = 2/3$."
   ]
  },
  {
   "cell_type": "code",
   "execution_count": 11,
   "metadata": {},
   "outputs": [
    {
     "data": {
      "text/plain": [
       "0.14814814814814817"
      ]
     },
     "execution_count": 11,
     "metadata": {},
     "output_type": "execute_result"
    }
   ],
   "source": [
    "likelihood(d,2/3)"
   ]
  },
  {
   "cell_type": "code",
   "execution_count": 12,
   "metadata": {},
   "outputs": [
    {
     "data": {
      "text/plain": [
       "0.125"
      ]
     },
     "execution_count": 12,
     "metadata": {},
     "output_type": "execute_result"
    }
   ],
   "source": [
    "# How likely is the case that the coin is fair?\n",
    "likelihood(d,0.5)"
   ]
  },
  {
   "cell_type": "markdown",
   "metadata": {},
   "source": [
    "If we ask how confident we are about our maximum likelihood estimator. We can compute and see that given the outcome {H,H,T}, it is 18.5% more likely that the coin turns up a Head with 2/3 chance than the case that the coin is fair."
   ]
  },
  {
   "cell_type": "code",
   "execution_count": 13,
   "metadata": {},
   "outputs": [
    {
     "data": {
      "text/plain": [
       "0.18518518518518534"
      ]
     },
     "execution_count": 13,
     "metadata": {},
     "output_type": "execute_result"
    }
   ],
   "source": [
    "(likelihood(d,2/3) - likelihood(d,0.5))/likelihood(d,0.5)"
   ]
  },
  {
   "cell_type": "markdown",
   "metadata": {},
   "source": [
    "Suppose instead of three flips, we observe the pattern (the particular ratio of H/T) with 300 flips. Would that increase our confidence?\n"
   ]
  },
  {
   "cell_type": "code",
   "execution_count": 14,
   "metadata": {},
   "outputs": [],
   "source": [
    "e = [1,1,0]*100"
   ]
  },
  {
   "cell_type": "code",
   "execution_count": 15,
   "metadata": {},
   "outputs": [
    {
     "data": {
      "image/png": "[encoded data removed]",
      "text/plain": [
       "<Figure size 432x288 with 1 Axes>"
      ]
     },
     "metadata": {
      "needs_background": "light"
     },
     "output_type": "display_data"
    }
   ],
   "source": [
    "n_p = 20 \n",
    "p_vec = np.linspace(0,1,n_p)\n",
    "prob_3 = []\n",
    "for i in range(n_p):\n",
    "    prob_3.append(likelihood(e,p_vec[i]))\n",
    "    \n",
    "\n",
    "\n",
    "    \n",
    "plt.scatter(p_vec,prob_3)\n",
    "plt.xlabel('p')\n",
    "plt.ylabel('Probability')\n",
    "plt.title('HHT*100')\n",
    "plt.ylim(ymin = 0, ymax = 10**(-83))\n",
    "plt.show()"
   ]
  },
  {
   "cell_type": "code",
   "execution_count": 16,
   "metadata": {},
   "outputs": [
    {
     "data": {
      "text/plain": [
       "23912303.602879208"
      ]
     },
     "execution_count": 16,
     "metadata": {},
     "output_type": "execute_result"
    }
   ],
   "source": [
    "likelihood(e,2/3)/likelihood(e,0.5)"
   ]
  },
  {
   "cell_type": "markdown",
   "metadata": {},
   "source": [
    "It is 23.9 million times more likely that the true probability of Head is 2/3 instead of 1/2."
   ]
  },
  {
   "cell_type": "markdown",
   "metadata": {},
   "source": [
    "We introduced the basic idea of maximum likelihood estimation in a simple example in which the estimator can be analytically solved.\n",
    "\n",
    "In most practical cases, analytical solutions cannot be directly obtained. \"Eyeballing\" the likelihood function graph is also infeasible. (Imagine estimating $n$ parameters instead of 1 or 2.)\n",
    "\n",
    "Next we will study a real-life case by replicating Daniel Treisman’s (2016) paper, [Russia’s Billionaires](http://pubs.aeaweb.org/doi/pdfplus/10.1257/aer.p20161068), which connects the number of billionaires in a country to its economic characteristics.\n",
    "\n",
    "Treisman [[Tre16]](https://lectures.quantecon.org/py/zreferences.html#treisman2016) is interested in estimating the number of billionaires in different countries, assuming that the dependent variable (number of billionaires) follows a Poisson distribution."
   ]
  },
  {
   "cell_type": "markdown",
   "metadata": {},
   "source": [
    "### In-class exercise 1: The negative exponential distribution\n",
    "\n",
    "The *negative exponential distribution* is defined on the positive real line $R_+$. Its cumulative distribution function (CDF) and probability distribution function (PDF) are given by\n",
    "\n",
    "$$\n",
    "F(t)=1-\\exp(-\\alpha t), \\alpha>0, t>0\n",
    "$$\n",
    "\n",
    "$$\n",
    "f(t)=\\alpha \\exp(-\\alpha t).\n",
    "$$\n",
    "\n",
    "The parameter $\\alpha$ completely characterizes the distribution.\n",
    "\n",
    "Say the random variable $T$ is the duration of time an individual spend unemployed. We have a random sample of N individuals, and assume that each individual's unemployment duration is an independent draw from the same distribution $F$.\n",
    "\n",
    "1. Given a sample {$t_1, t_2, ..., t_N$}, write down the likelihood function and log likelihood function.\n",
    "2. Check if there's a unique maximizer of the likelihood function. If so, find the maximum likelihood estimator $\\hat{\\alpha}_{ML}$."
   ]
  },
  {
   "cell_type": "markdown",
   "metadata": {},
   "source": [
    "## Poisson Regression\n",
    "\n",
    "In many occasions we need to work with **count variables**. A count variable can take on nonnegative integer values {0, 1, 2,...}.\n",
    "- the number of times an individual runs into a traffic accident in a year\n",
    "- the number of children ever born to a women\n",
    "\n",
    "Of particular interests are cases in which the dependent variable takes on relatively few value, including zero.\n",
    "\n",
    "The [Poisson distribution](https://en.wikipedia.org/wiki/Poisson_distribution) is commonly used to model count data.\n",
    "\n"
   ]
  },
  {
   "cell_type": "markdown",
   "metadata": {},
   "source": [
    "The probability mass function (pmf) of a Poisson distribution is\n",
    "\n",
    "$$\n",
    "f(y) = \\frac{\\mu^{y}}{y!} e^{-\\mu},\n",
    "\\qquad y = 0, 1, 2, \\ldots, \\infty\n",
    "$$\n",
    "\n",
    "A Poisson distribution is completely determined by its mean. We can plot the Poisson distribution over $ y $ for different values of $ \\mu $ as follows"
   ]
  },
  {
   "cell_type": "code",
   "execution_count": 1,
   "metadata": {
    "hide-output": false
   },
   "outputs": [
    {
     "data": {
      "image/png": "[encoded data removed]",
      "text/plain": [
       "<Figure size 864x576 with 1 Axes>"
      ]
     },
     "metadata": {
      "needs_background": "light"
     },
     "output_type": "display_data"
    }
   ],
   "source": [
    "from numpy import exp\n",
    "from scipy.special import factorial\n",
    "import matplotlib.pyplot as plt\n",
    "%matplotlib inline\n",
    "\n",
    "poisson_pmf = lambda y, μ: μ**y / factorial(y) * exp(-μ)\n",
    "y_values = range(0, 25)\n",
    "\n",
    "fig, ax = plt.subplots(figsize=(12, 8))\n",
    "\n",
    "for μ in [1, 5, 10]:\n",
    "    distribution = []\n",
    "    for y_i in y_values:\n",
    "        distribution.append(poisson_pmf(y_i, μ))\n",
    "    ax.plot(y_values,\n",
    "            distribution,\n",
    "            label=f'$\\mu$={μ}',\n",
    "            alpha=0.5,\n",
    "            marker='o',\n",
    "            markersize=8)\n",
    "\n",
    "ax.grid()\n",
    "ax.set_xlabel('$y$', fontsize=14)\n",
    "ax.set_ylabel('$f(y \\mid \\mu)$', fontsize=14)\n",
    "ax.axis(xmin=0, ymin=0)\n",
    "ax.legend(fontsize=14)\n",
    "\n",
    "plt.show()"
   ]
  },
  {
   "cell_type": "markdown",
   "metadata": {},
   "source": [
    "Notice that the Poisson distribution begins to resemble a normal distribution as the mean of $ y $ increases\n",
    "\n",
    "Let’s have a look at the distribution of the data we’ll be working with in this lecture\n",
    "\n",
    "Treisman’s main source of data is *Forbes’* annual rankings of billionaires and their estimated net worth\n",
    "\n",
    "The dataset `mle/fp.dta` can be downloaded <a href=/_static/code/mle/fp.dta download>here</a>\n",
    "or from its [AER page](https://www.aeaweb.org/articles?id=10.1257/aer.p20161068)"
   ]
  },
  {
   "cell_type": "code",
   "execution_count": 2,
   "metadata": {
    "hide-output": false
   },
   "outputs": [
    {
     "data": {
      "text/html": [
       "<div>\n",
       "<style scoped>\n",
       "    .dataframe tbody tr th:only-of-type {\n",
       "        vertical-align: middle;\n",
       "    }\n",
       "\n",
       "    .dataframe tbody tr th {\n",
       "        vertical-align: top;\n",
       "    }\n",
       "\n",
       "    .dataframe thead th {\n",
       "        text-align: right;\n",
       "    }\n",
       "</style>\n",
       "<table border=\"1\" class=\"dataframe\">\n",
       "  <thead>\n",
       "    <tr style=\"text-align: right;\">\n",
       "      <th></th>\n",
       "      <th>country</th>\n",
       "      <th>ccode</th>\n",
       "      <th>year</th>\n",
       "      <th>cyear</th>\n",
       "      <th>numbil</th>\n",
       "      <th>...</th>\n",
       "      <th>topint08</th>\n",
       "      <th>rintr</th>\n",
       "      <th>noyrs</th>\n",
       "      <th>roflaw</th>\n",
       "      <th>nrrents</th>\n",
       "    </tr>\n",
       "  </thead>\n",
       "  <tbody>\n",
       "    <tr>\n",
       "      <th>0</th>\n",
       "      <td>United States</td>\n",
       "      <td>2.0</td>\n",
       "      <td>1990.0</td>\n",
       "      <td>21990.0</td>\n",
       "      <td>NaN</td>\n",
       "      <td>...</td>\n",
       "      <td>39.799999</td>\n",
       "      <td>4.988405</td>\n",
       "      <td>20.0</td>\n",
       "      <td>1.61</td>\n",
       "      <td>NaN</td>\n",
       "    </tr>\n",
       "    <tr>\n",
       "      <th>1</th>\n",
       "      <td>United States</td>\n",
       "      <td>2.0</td>\n",
       "      <td>1991.0</td>\n",
       "      <td>21991.0</td>\n",
       "      <td>NaN</td>\n",
       "      <td>...</td>\n",
       "      <td>39.799999</td>\n",
       "      <td>4.988405</td>\n",
       "      <td>20.0</td>\n",
       "      <td>1.61</td>\n",
       "      <td>NaN</td>\n",
       "    </tr>\n",
       "    <tr>\n",
       "      <th>2</th>\n",
       "      <td>United States</td>\n",
       "      <td>2.0</td>\n",
       "      <td>1992.0</td>\n",
       "      <td>21992.0</td>\n",
       "      <td>NaN</td>\n",
       "      <td>...</td>\n",
       "      <td>39.799999</td>\n",
       "      <td>4.988405</td>\n",
       "      <td>20.0</td>\n",
       "      <td>1.61</td>\n",
       "      <td>NaN</td>\n",
       "    </tr>\n",
       "    <tr>\n",
       "      <th>3</th>\n",
       "      <td>United States</td>\n",
       "      <td>2.0</td>\n",
       "      <td>1993.0</td>\n",
       "      <td>21993.0</td>\n",
       "      <td>NaN</td>\n",
       "      <td>...</td>\n",
       "      <td>39.799999</td>\n",
       "      <td>4.988405</td>\n",
       "      <td>20.0</td>\n",
       "      <td>1.61</td>\n",
       "      <td>NaN</td>\n",
       "    </tr>\n",
       "    <tr>\n",
       "      <th>4</th>\n",
       "      <td>United States</td>\n",
       "      <td>2.0</td>\n",
       "      <td>1994.0</td>\n",
       "      <td>21994.0</td>\n",
       "      <td>NaN</td>\n",
       "      <td>...</td>\n",
       "      <td>39.799999</td>\n",
       "      <td>4.988405</td>\n",
       "      <td>20.0</td>\n",
       "      <td>1.61</td>\n",
       "      <td>NaN</td>\n",
       "    </tr>\n",
       "  </tbody>\n",
       "</table>\n",
       "<p>5 rows × 36 columns</p>\n",
       "</div>"
      ],
      "text/plain": [
       "         country  ccode    year    cyear  numbil   ...      topint08  \\\n",
       "0  United States    2.0  1990.0  21990.0     NaN   ...     39.799999   \n",
       "1  United States    2.0  1991.0  21991.0     NaN   ...     39.799999   \n",
       "2  United States    2.0  1992.0  21992.0     NaN   ...     39.799999   \n",
       "3  United States    2.0  1993.0  21993.0     NaN   ...     39.799999   \n",
       "4  United States    2.0  1994.0  21994.0     NaN   ...     39.799999   \n",
       "\n",
       "      rintr  noyrs  roflaw  nrrents  \n",
       "0  4.988405   20.0    1.61      NaN  \n",
       "1  4.988405   20.0    1.61      NaN  \n",
       "2  4.988405   20.0    1.61      NaN  \n",
       "3  4.988405   20.0    1.61      NaN  \n",
       "4  4.988405   20.0    1.61      NaN  \n",
       "\n",
       "[5 rows x 36 columns]"
      ]
     },
     "execution_count": 2,
     "metadata": {},
     "output_type": "execute_result"
    }
   ],
   "source": [
    "import pandas as pd\n",
    "pd.options.display.max_columns = 10\n",
    "\n",
    "# Load in data and view\n",
    "df = pd.read_stata('https://github.com/QuantEcon/QuantEcon.lectures.code/raw/master/mle/fp.dta')\n",
    "df.head()"
   ]
  },
  {
   "cell_type": "markdown",
   "metadata": {},
   "source": [
    "Using a histogram, we can view the distribution of the number of\n",
    "billionaires per country, `numbil0`, in 2008 (the United States is\n",
    "dropped for plotting purposes)"
   ]
  },
  {
   "cell_type": "code",
   "execution_count": 3,
   "metadata": {
    "hide-output": false
   },
   "outputs": [
    {
     "data": {
      "image/png": "[encoded data removed]",
      "text/plain": [
       "<Figure size 864x576 with 1 Axes>"
      ]
     },
     "metadata": {
      "needs_background": "light"
     },
     "output_type": "display_data"
    }
   ],
   "source": [
    "numbil0_2008 = df[(df['year'] == 2008) & (\n",
    "    df['country'] != 'United States')].loc[:, 'numbil0']\n",
    "\n",
    "plt.subplots(figsize=(12, 8))\n",
    "plt.hist(numbil0_2008, bins=30)\n",
    "plt.xlim(xmin=0)\n",
    "plt.grid()\n",
    "plt.xlabel('Number of billionaires in 2008')\n",
    "plt.ylabel('Count')\n",
    "plt.show()"
   ]
  },
  {
   "cell_type": "markdown",
   "metadata": {},
   "source": [
    "From the histogram, it appears that the Poisson assumption is not unreasonable (albeit with a very low $ \\mu $ and some outliers)"
   ]
  },
  {
   "cell_type": "markdown",
   "metadata": {},
   "source": [
    "## Conditional Distributions\n",
    "\n",
    "In Treisman’s paper, the dependent variable — the number of billionaires $ y_i $ in country $ i $ — is modeled as a function of GDP per capita, population size, and years membership in GATT and WTO, etc.\n",
    "\n",
    "Hence, the distribution of $ y_i $ needs to be conditioned on the vector of explanatory variables $ \\mathbf{x}_i $\n",
    "\n",
    "The standard formulation — the so-called *poisson regression* model — is as follows:\n",
    "\n",
    "\n",
    "<a id='equation-poissonreg'></a>\n",
    "$$\n",
    "f(y_i \\mid \\mathbf{x}_i) = \\frac{\\mu_i^{y_i}}{y_i!} e^{-\\mu_i}; \\qquad y_i = 0, 1, 2, \\ldots , \\infty . \\tag{1}\n",
    "$$\n",
    "\n",
    "$$\n",
    "\\text{where}\\ \\mu_i\n",
    "     = \\exp(\\mathbf{x}_i' \\boldsymbol{\\beta})\n",
    "     = \\exp(\\beta_0 + \\beta_1 x_{i1} + \\ldots + \\beta_k x_{ik})\n",
    "$$\n",
    "\n",
    "To illustrate the idea that the distribution of $ y_i $ depends on\n",
    "$ \\mathbf{x}_i $ let’s run a simple simulation\n",
    "\n",
    "We use our `poisson_pmf` function from above and arbitrary values for\n",
    "$ \\boldsymbol{\\beta} $ and $ \\mathbf{x}_i $"
   ]
  },
  {
   "cell_type": "code",
   "execution_count": 4,
   "metadata": {
    "hide-output": false
   },
   "outputs": [
    {
     "data": {
      "image/png": "[encoded data removed]",
      "text/plain": [
       "<Figure size 864x576 with 1 Axes>"
      ]
     },
     "metadata": {
      "needs_background": "light"
     },
     "output_type": "display_data"
    }
   ],
   "source": [
    "import numpy as np\n",
    "\n",
    "y_values = range(0, 20)\n",
    "\n",
    "# Define a parameter vector with estimates\n",
    "β = np.array([0.26, 0.18, 0.25, -0.1, -0.22]).T\n",
    "\n",
    "# Create some observations X\n",
    "datasets = [np.array([0, 1, 1, 1, 2]),\n",
    "            np.array([2, 3, 2, 4, 0]),\n",
    "            np.array([3, 4, 5, 3, 2]),\n",
    "            np.array([6, 5, 4, 4, 7])]\n",
    "\n",
    "\n",
    "fig, ax = plt.subplots(figsize=(12, 8))\n",
    "\n",
    "for X in datasets:\n",
    "    μ = exp(X @ β)\n",
    "    distribution = []\n",
    "    for y_i in y_values:\n",
    "        distribution.append(poisson_pmf(y_i, μ))\n",
    "    ax.plot(y_values,\n",
    "            distribution,\n",
    "            label=f'$\\mu_i$={μ:.1}',\n",
    "            marker='o',\n",
    "            markersize=8,\n",
    "            alpha=0.5)\n",
    "\n",
    "ax.grid()\n",
    "ax.legend()\n",
    "ax.set_xlabel('$y \\mid x_i$')\n",
    "ax.set_ylabel(r'$f(y \\mid x_i; \\beta )$')\n",
    "ax.axis(xmin=0, ymin=0)\n",
    "plt.show()"
   ]
  },
  {
   "cell_type": "markdown",
   "metadata": {},
   "source": [
    "We can see that the distribution of $ y_i $ is conditional on\n",
    "$ \\mathbf{x}_i $ ($ \\mu_i $ is no longer constant)"
   ]
  },
  {
   "cell_type": "markdown",
   "metadata": {},
   "source": [
    "## Maximum Likelihood Estimation\n",
    "\n",
    "In our model for number of billionaires, the conditional distribution\n",
    "contains 4 ($ k = 4 $) parameters that we need to estimate\n",
    "\n",
    "We will label our entire parameter vector as $ \\boldsymbol{\\beta} $ where\n",
    "\n",
    "$$\n",
    "\\boldsymbol{\\beta} = \\begin{bmatrix}\n",
    "                            \\beta_0 \\\\\n",
    "                            \\beta_1 \\\\\n",
    "                            \\beta_2 \\\\\n",
    "                            \\beta_3 \\\\\n",
    "                      \\end{bmatrix}\n",
    "$$\n",
    "\n",
    "To estimate the model using MLE, we want find the $ \\hat{\\boldsymbol{\\beta}} $ that best \"fits\" our data, in the sense that the likelihood of the given observation is maximized. \n",
    "\n",
    "First we need to construct the likelihood function $ \\mathcal{L}(\\boldsymbol{\\beta}) $"
   ]
  },
  {
   "cell_type": "markdown",
   "metadata": {},
   "source": [
    "The joint pmf of our data (which is distributed as a\n",
    "conditional Poisson distribution) can be written as\n",
    "\n",
    "$$\n",
    "f(y_1, y_2, \\ldots, y_n \\mid \\mathbf{x}_1, \\mathbf{x}_2, \\ldots, \\mathbf{x}_n; \\boldsymbol{\\beta})\n",
    "    = \\prod_{i=1}^{n} \\frac{\\mu_i^{y_i}}{y_i!} e^{-\\mu_i}\n",
    "$$\n",
    "\n",
    "$ y_i $ is conditional on both the values of $ \\mathbf{x}_i $ and the\n",
    "parameters $ \\boldsymbol{\\beta} $\n",
    "\n",
    "The likelihood function is the same as the joint pmf, but treats the\n",
    "parameter $ \\boldsymbol{\\beta} $ as a random variable and takes the observations\n",
    "$ (y_i, \\mathbf{x}_i) $ as given\n",
    "\n",
    "$$\n",
    "\\begin{split}\n",
    "\\mathcal{L}(\\beta \\mid y_1, y_2, \\ldots, y_n \\ ; \\ \\mathbf{x}_1, \\mathbf{x}_2, \\ldots, \\mathbf{x}_n) = &\n",
    "\\prod_{i=1}^{n} \\frac{\\mu_i^{y_i}}{y_i!} e^{-\\mu_i} \\\\ = &\n",
    "f(y_1, y_2, \\ldots, y_n \\mid  \\ \\mathbf{x}_1, \\mathbf{x}_2, \\ldots, \\mathbf{x}_n ; \\beta)\n",
    "\\end{split}\n",
    "$$\n",
    "\n",
    "Now that we have our likelihood function, we want to find the $ \\hat{\\boldsymbol{\\beta}} $ that yields the maximum likelihood value\n",
    "\n",
    "$$\n",
    "\\underset{\\boldsymbol{\\beta}}{\\max} \\mathcal{L}(\\boldsymbol{\\beta})\n",
    "$$\n",
    "\n",
    "Again it is generally easier to maximize the log-likelihood (consider\n",
    "differentiating $ f(x) = x \\exp(x) $  vs.  $ f(x) = \\log(x) + x $)\n",
    "\n",
    "In our case the log-likelihood is\n",
    "\n",
    "$$\n",
    "\\begin{split}\n",
    "\\log{ \\mathcal{L}} (\\boldsymbol{\\beta}) = \\ &\n",
    "    \\log \\Big(\n",
    "        f(y_1 ; \\boldsymbol{\\beta})\n",
    "        \\cdot\n",
    "        f(y_2 ; \\boldsymbol{\\beta})\n",
    "        \\cdot \\ldots \\cdot\n",
    "        f(y_n ; \\boldsymbol{\\beta})\n",
    "        \\Big) \\\\\n",
    "        = &\n",
    "        \\sum_{i=1}^{n} \\log{f(y_i ; \\boldsymbol{\\beta})} \\\\\n",
    "        = &\n",
    "        \\sum_{i=1}^{n}\n",
    "        \\log \\Big( {\\frac{\\mu_i^{y_i}}{y_i!} e^{-\\mu_i}} \\Big) \\\\\n",
    "        = &\n",
    "        \\sum_{i=1}^{n} y_i \\log{\\mu_i} -\n",
    "        \\sum_{i=1}^{n} \\mu_i -\n",
    "        \\sum_{i=1}^{n} \\log y!\n",
    "\\end{split}\n",
    "$$\n",
    "\n",
    "The MLE of the Poisson to the Poisson  for $ \\hat{\\beta} $ can be obtained by solving\n",
    "\n",
    "$$\n",
    "\\underset{\\beta}{\\max} \\Big(\n",
    "\\sum_{i=1}^{n} y_i \\log{\\mu_i} -\n",
    "\\sum_{i=1}^{n} \\mu_i -\n",
    "\\sum_{i=1}^{n} \\log y! \\Big)\n",
    "$$\n",
    "\n",
    "However, no analytical solution exists to the above problem – to find the MLE\n",
    "we need to use numerical methods"
   ]
  },
  {
   "cell_type": "markdown",
   "metadata": {},
   "source": [
    "## MLE with Numerical Methods\n",
    "\n",
    "Many distributions do not have nice, analytical solutions and therefore require\n",
    "numerical methods to solve for parameter estimates\n",
    "\n",
    "One such numerical method is the Newton-Raphson algorithm\n",
    "\n",
    "Our goal is find the maximum likelihood estimate $ \\hat{\\boldsymbol{\\beta}} $, at which point:\n",
    "\n",
    "- the first derivative of the log-likelihood function will be equal to 0\n",
    "- the second derivative would be negative\n",
    "\n",
    "(More on optimization in Day 7 lectures.)\n",
    "\n",
    "Let’s illustrate this by supposing\n",
    "\n",
    "$$\n",
    "\\log \\mathcal{L(\\beta)} = - (\\beta - 10) ^2 - 10\n",
    "$$"
   ]
  },
  {
   "cell_type": "code",
   "execution_count": 6,
   "metadata": {
    "hide-output": false
   },
   "outputs": [
    {
     "data": {
      "image/png": "[encoded data removed]",
      "text/plain": [
       "<Figure size 864x576 with 2 Axes>"
      ]
     },
     "metadata": {
      "needs_background": "light"
     },
     "output_type": "display_data"
    }
   ],
   "source": [
    "β = np.linspace(1, 20)\n",
    "logL = -(β - 10) ** 2 - 10\n",
    "dlogL = -2 * β + 20\n",
    "\n",
    "fig, (ax1, ax2) = plt.subplots(2, sharex=True, figsize=(12, 8))\n",
    "\n",
    "ax1.plot(β, logL, lw=2)\n",
    "ax2.plot(β, dlogL, lw=2)\n",
    "\n",
    "ax1.set_ylabel(r'$log \\mathcal{L(\\beta)}$',\n",
    "               rotation=0,\n",
    "               labelpad=35,\n",
    "               fontsize=15)\n",
    "ax2.set_ylabel(r'$\\frac{dlog \\mathcal{L(\\beta)}}{d \\beta}$ ',\n",
    "               rotation=0,\n",
    "               labelpad=35,\n",
    "               fontsize=19)\n",
    "ax2.set_xlabel(r'$\\beta$', fontsize=15)\n",
    "ax1.grid(), ax2.grid()\n",
    "plt.axhline(c='black')\n",
    "plt.show()"
   ]
  },
  {
   "cell_type": "markdown",
   "metadata": {},
   "source": [
    "The plot shows that the maximum likelihood value (the top plot) occurs\n",
    "when $ \\frac{d \\log \\mathcal{L(\\boldsymbol{\\beta})}}{d \\boldsymbol{\\beta}} = 0 $ (the bottom\n",
    "plot)\n",
    "\n",
    "Therefore, the likelihood is maximized when $ \\beta = 10 $\n",
    "\n",
    "We can also ensure that this value is a *maximum* (as opposed to a\n",
    "minimum) by checking that the second derivative (slope of the bottom\n",
    "plot) is negative\n",
    "\n"
   ]
  },
  {
   "cell_type": "markdown",
   "metadata": {},
   "source": [
    "### The Newton-Raphson algorithm\n",
    "\n",
    "To use the algorithm, we take an initial guess at the maximum value,\n",
    "$ \\beta_0 $ (the OLS parameter estimates might be a reasonable\n",
    "guess), then\n",
    "\n",
    "1. Use the updating rule to iterate the algorithm  \n",
    "  $$\n",
    "  \\boldsymbol{\\beta}_{(k+1)} = \\boldsymbol{\\beta}_{(k)} - \\frac{G(\\boldsymbol{\\beta}_{(k)})} {H(\\boldsymbol{\\beta}_{(k)})}\n",
    "  $$\n",
    "  where:  \n",
    "  $$\n",
    "  G(\\boldsymbol{\\beta}_{(k)}) = \\frac{d \\log \\mathcal{L(\\boldsymbol{\\beta}_{(k)})}}{d \\boldsymbol{\\beta}_{(k)}} \\\\\n",
    "  H(\\boldsymbol{\\beta}_{(k)}) = \\frac{d^2 \\log \\mathcal{L(\\boldsymbol{\\beta}_{(k)})}}{d \\boldsymbol{\\beta}_{(k)}^2}\n",
    "  $$\n",
    "1. Check whether $ \\boldsymbol{\\beta}_{(k+1)} - \\boldsymbol{\\beta}_{(k)} < tol $  \n",
    "  - If true, then stop iterating and set\n",
    "    $ \\hat{\\boldsymbol{\\beta}} = \\boldsymbol{\\beta}_{(k+1)} $  \n",
    "  - If false, then update $ \\boldsymbol{\\beta}_{(k+1)} $  \n",
    "\n",
    "\n",
    "As can be seen from the updating equation,\n",
    "$ \\boldsymbol{\\beta}_{(k+1)} = \\boldsymbol{\\beta}_{(k)} $ only when\n",
    "$ G(\\boldsymbol{\\beta}_{(k)}) = 0 $ ie. where the first derivative is equal to 0\n",
    "\n",
    "(In practice, we stop iterating when the difference is below a small\n",
    "tolerance threshold)\n",
    "\n"
   ]
  },
  {
   "cell_type": "markdown",
   "metadata": {},
   "source": [
    "To have a glimpse into why this works, assume $\\boldsymbol{\\beta}$ is a scalar for simplicity. Start with an initial guess of the parameter $\\boldsymbol{\\beta_0}$, and do the first-order Taylor expansion of the first-order condition around the initial value\n",
    "\n",
    "$$\n",
    "0 = \\frac{d \\log \\mathcal{L(\\boldsymbol{\\beta})}}{d \\boldsymbol{\\beta}} \\simeq\n",
    "\\frac{d \\log \\mathcal{L(\\boldsymbol{\\beta_0})}}{d \\boldsymbol{\\beta}}\n",
    "+(\\hat{\\boldsymbol{\\beta}}_{ML} - \\boldsymbol{\\beta_0})\\frac{d^2 \\log \\mathcal{L(\\boldsymbol{\\beta_0})}}{d \\boldsymbol{\\beta^2}}\n",
    "$$\n",
    "\n",
    "which can be rearranged as:\n",
    "\n",
    "$$\n",
    "\\hat{\\boldsymbol{\\beta}}_{ML} = \\boldsymbol{\\beta_0}\n",
    "- \\left[\\frac{d^{2}\\log\\mathcal{L\\left(\\beta_{0}\\right)}}{d\\beta^{2}}\\right]^{-1}\\frac{d\\log\\mathcal{L\\left(\\beta_{0}\\right)}}{d\\beta}\n",
    "$$\n",
    "\n",
    "If the log likelihood function is \"well-behaved\" (i.e. globally concave in $\\beta$), then $\\hat{\\boldsymbol{\\beta}}_{ML}$ that we solved from the equation above should be closer to the true solution than the initial guess."
   ]
  },
  {
   "cell_type": "markdown",
   "metadata": {},
   "source": [
    "### In-class exercise 2\n",
    "Back to the negative exponential distribution in in-class exercise 1. Say we have a sample of $N = 100$, and the total time in unemployment of the sample members was 148 months.\n",
    "\n",
    "Use the Newton-Raphson algorithm to find the maximum likelihood estimate of $\\alpha$, with an initial guess $\\alpha_0 = 5$."
   ]
  },
  {
   "cell_type": "code",
   "execution_count": null,
   "metadata": {},
   "outputs": [],
   "source": []
  },
  {
   "cell_type": "markdown",
   "metadata": {},
   "source": [
    "Let’s have a go at implementing the Newton-Raphson algorithm\n",
    "\n",
    "First, we’ll create a class called `PoissonRegression` so we can\n",
    "easily recompute the values of the log likelihood, gradient and Hessian\n",
    "for every iteration"
   ]
  },
  {
   "cell_type": "code",
   "execution_count": 7,
   "metadata": {
    "collapsed": true,
    "hide-output": false
   },
   "outputs": [],
   "source": [
    "class PoissonRegression:\n",
    "\n",
    "    def __init__(self, y, X, β):\n",
    "        self.X, self.y, self.β = X, y, β\n",
    "        self.n, self.k = X.shape\n",
    "\n",
    "    def μ(self):\n",
    "        return np.exp(self.X @ self.β.T)\n",
    "\n",
    "    def logL(self):\n",
    "        y = self.y\n",
    "        μ = self.μ()\n",
    "        return np.sum(y * np.log(μ) - μ - np.log(factorial(y)))\n",
    "\n",
    "    def G(self):\n",
    "        μ = self.μ()\n",
    "        return ((self.y - μ) @ self.X).reshape(self.k, 1)\n",
    "\n",
    "    def H(self):\n",
    "        X = self.X\n",
    "        μ = self.μ()\n",
    "        return -(μ * X.T @ X)"
   ]
  },
  {
   "cell_type": "markdown",
   "metadata": {},
   "source": [
    "Our function `newton_raphson` will take a `PoissonRegression` object\n",
    "that has an initial guess of the parameter vector $ \\boldsymbol{\\beta}_0 $\n",
    "\n",
    "The algorithm will update the parameter vector according to the updating\n",
    "rule, and recalculate the gradient and Hessian matrices at the new\n",
    "parameter estimates\n",
    "\n",
    "Iteration will end when either:\n",
    "\n",
    "- The difference between the parameter and the updated parameter is below a tolerance level  \n",
    "- The maximum number of iterations has been achieved (meaning convergence is not achieved)  \n",
    "\n",
    "\n",
    "So we can get an idea of what’s going on while the algorithm is running,\n",
    "an option `display=True` is added to print out values at each\n",
    "iteration"
   ]
  },
  {
   "cell_type": "code",
   "execution_count": 8,
   "metadata": {
    "collapsed": true,
    "hide-output": false
   },
   "outputs": [],
   "source": [
    "def newton_raphson(model, tol=1e-3, max_iter=1000, display=True):\n",
    "\n",
    "    i = 0\n",
    "    error = 100  # Initial error value\n",
    "\n",
    "    # Print header of output\n",
    "    if display:\n",
    "        header = f'{\"Iteration_k\":<13}{\"Log-likelihood\":<16}{\"θ\":<60}'\n",
    "        print(header)\n",
    "        print(\"-\" * len(header))\n",
    "\n",
    "    # While loop runs while any value in error is greater\n",
    "    # than the tolerance until max iterations are reached\n",
    "    while np.any(error > tol) and i < max_iter:\n",
    "        H, G = model.H(), model.G()\n",
    "        β_new = model.β - (np.linalg.inv(H) @ G).T\n",
    "        error = β_new - model.β\n",
    "        model.β = β_new.flatten()\n",
    "\n",
    "        # Print iterations\n",
    "        if display:\n",
    "            β_list = [f'{t:.3}' for t in list(model.β)]\n",
    "            update = f'{i:<13}{model.logL():<16.8}{β_list}'\n",
    "            print(update)\n",
    "\n",
    "        i += 1\n",
    "\n",
    "    print(f'Number of iterations: {i}')\n",
    "    print(f'β_hat = {model.β}')\n",
    "\n",
    "    return model.β"
   ]
  },
  {
   "cell_type": "markdown",
   "metadata": {},
   "source": [
    "Let’s try out our algorithm with a small dataset of 5 observations and 3\n",
    "variables in $ \\mathbf{X} $"
   ]
  },
  {
   "cell_type": "code",
   "execution_count": 9,
   "metadata": {
    "hide-output": false
   },
   "outputs": [
    {
     "name": "stdout",
     "output_type": "stream",
     "text": [
      "Iteration_k  Log-likelihood  θ                                                           \n",
      "-----------------------------------------------------------------------------------------\n",
      "0            -4.3447622      ['-1.49', '0.265', '0.244']\n",
      "1            -3.5742413      ['-3.38', '0.528', '0.474']\n",
      "2            -3.3999526      ['-5.06', '0.782', '0.702']\n",
      "3            -3.3788646      ['-5.92', '0.909', '0.82']\n",
      "4            -3.3783559      ['-6.07', '0.933', '0.843']\n",
      "5            -3.3783555      ['-6.08', '0.933', '0.843']\n",
      "Number of iterations: 6\n",
      "β_hat = [-6.07848205  0.93340226  0.84329625]\n"
     ]
    }
   ],
   "source": [
    "X = np.array([[1, 2, 5],\n",
    "              [1, 1, 3],\n",
    "              [1, 4, 2],\n",
    "              [1, 5, 2],\n",
    "              [1, 3, 1]])\n",
    "\n",
    "y = np.array([1, 0, 1, 1, 0])\n",
    "\n",
    "# Take a guess at initial βs\n",
    "init_β = np.array([0.1, 0.1, 0.1])\n",
    "\n",
    "# Create an object with Poisson model values\n",
    "poi = PoissonRegression(y, X, β=init_β)\n",
    "\n",
    "# Use newton_raphson to find the MLE\n",
    "β_hat = newton_raphson(poi, display=True)"
   ]
  },
  {
   "cell_type": "markdown",
   "metadata": {},
   "source": [
    "As this was a simple model with few observations, the algorithm achieved\n",
    "convergence in only 6 iterations\n",
    "\n",
    "You can see that with each iteration, the log-likelihood value increased\n",
    "\n",
    "Remember, our objective was to maximize the log-likelihood function,\n",
    "which the algorithm has worked to achieve\n",
    "\n",
    "Also note that the increase in $ \\log \\mathcal{L}(\\boldsymbol{\\beta}_{(k)}) $\n",
    "becomes smaller with each iteration\n",
    "\n",
    "This is because the gradient is approaching 0 as we reach the maximum,\n",
    "and therefore the numerator in our updating equation is becoming smaller\n",
    "\n",
    "The gradient vector should be close to 0 at $ \\hat{\\boldsymbol{\\beta}} $"
   ]
  },
  {
   "cell_type": "code",
   "execution_count": 10,
   "metadata": {
    "hide-output": false
   },
   "outputs": [
    {
     "data": {
      "text/plain": [
       "array([[-3.95169228e-07],\n",
       "       [-1.00114805e-06],\n",
       "       [-7.73114563e-07]])"
      ]
     },
     "execution_count": 10,
     "metadata": {},
     "output_type": "execute_result"
    }
   ],
   "source": [
    "poi.G()"
   ]
  },
  {
   "cell_type": "markdown",
   "metadata": {},
   "source": [
    "The iterative process can be visualized in the following diagram, where\n",
    "the maximum is found at $ \\beta = 10 $"
   ]
  },
  {
   "cell_type": "code",
   "execution_count": 11,
   "metadata": {
    "hide-output": false,
    "html-class": "collapse"
   },
   "outputs": [
    {
     "data": {
      "image/png": "[encoded data removed]",
      "text/plain": [
       "<Figure size 864x576 with 1 Axes>"
      ]
     },
     "metadata": {
      "needs_background": "light"
     },
     "output_type": "display_data"
    }
   ],
   "source": [
    "logL = lambda x: -(x - 10) ** 2 - 10\n",
    "\n",
    "def find_tangent(β, a=0.01):\n",
    "    y1 = logL(β)\n",
    "    y2 = logL(β+a)\n",
    "    x = np.array([[β, 1], [β+a, 1]])\n",
    "    m, c = np.linalg.lstsq(x, np.array([y1, y2]), rcond=None)[0]\n",
    "    return m, c\n",
    "\n",
    "β = np.linspace(2, 18)\n",
    "fig, ax = plt.subplots(figsize=(12, 8))\n",
    "ax.plot(β, logL(β), lw=2, c='black')\n",
    "\n",
    "for β in [7, 8.5, 9.5, 10]:\n",
    "    β_line = np.linspace(β-2, β+2)\n",
    "    m, c = find_tangent(β)\n",
    "    y = m * β_line + c\n",
    "    ax.plot(β_line, y, '-', c='purple', alpha=0.8)\n",
    "    ax.text(β+2.05, y[-1], f'$G({β}) = {abs(m):.0f}$', fontsize=12)\n",
    "    ax.vlines(β, -24, logL(β), linestyles='--', alpha=0.5)\n",
    "    ax.hlines(logL(β), 6, β, linestyles='--', alpha=0.5)\n",
    "\n",
    "ax.set(ylim=(-24, -4), xlim=(6, 13))\n",
    "ax.set_xlabel(r'$\\beta$', fontsize=15)\n",
    "ax.set_ylabel(r'$log \\mathcal{L(\\beta)}$',\n",
    "               rotation=0,\n",
    "               labelpad=25,\n",
    "               fontsize=15)\n",
    "ax.grid(alpha=0.3)\n",
    "plt.show()"
   ]
  },
  {
   "cell_type": "markdown",
   "metadata": {},
   "source": [
    "Note that our implementation of the Newton-Raphson algorithm is rather\n",
    "basic — for more robust implementations see,\n",
    "for example, [scipy.optimize](https://docs.scipy.org/doc/scipy/reference/optimize.html)"
   ]
  },
  {
   "cell_type": "markdown",
   "metadata": {},
   "source": [
    "## Maximum Likelihood Estimation with `statsmodels`\n",
    "\n",
    "Now that we know what’s going on under the hood, we can apply MLE to an interesting application\n",
    "\n",
    "We’ll use the Poisson regression model in `statsmodels` to obtain\n",
    "richer output with standard errors, test values, and more\n",
    "\n",
    "`statsmodels` uses the same algorithm as above to find the maximum\n",
    "likelihood estimates\n",
    "\n",
    "Before we begin, let’s re-estimate our simple model with `statsmodels`\n",
    "to confirm we obtain the same coefficients and log-likelihood value"
   ]
  },
  {
   "cell_type": "code",
   "execution_count": 12,
   "metadata": {
    "hide-output": false
   },
   "outputs": [
    {
     "name": "stdout",
     "output_type": "stream",
     "text": [
      "Optimization terminated successfully.\n",
      "         Current function value: 0.675671\n",
      "         Iterations 7\n",
      "                          Poisson Regression Results                          \n",
      "==============================================================================\n",
      "Dep. Variable:                      y   No. Observations:                    5\n",
      "Model:                        Poisson   Df Residuals:                        2\n",
      "Method:                           MLE   Df Model:                            2\n",
      "Date:                Mon, 07 Jan 2019   Pseudo R-squ.:                  0.2546\n",
      "Time:                        12:10:09   Log-Likelihood:                -3.3784\n",
      "converged:                       True   LL-Null:                       -4.5325\n",
      "                                        LLR p-value:                    0.3153\n",
      "==============================================================================\n",
      "                 coef    std err          z      P>|z|      [0.025      0.975]\n",
      "------------------------------------------------------------------------------\n",
      "const         -6.0785      5.279     -1.151      0.250     -16.425       4.268\n",
      "x1             0.9334      0.829      1.126      0.260      -0.691       2.558\n",
      "x2             0.8433      0.798      1.057      0.291      -0.720       2.407\n",
      "==============================================================================\n"
     ]
    }
   ],
   "source": [
    "from statsmodels.api import Poisson\n",
    "from scipy import stats\n",
    "stats.chisqprob = lambda chisq, df: stats.chi2.sf(chisq, df)\n",
    "\n",
    "X = np.array([[1, 2, 5],\n",
    "              [1, 1, 3],\n",
    "              [1, 4, 2],\n",
    "              [1, 5, 2],\n",
    "              [1, 3, 1]])\n",
    "\n",
    "y = np.array([1, 0, 1, 1, 0])\n",
    "\n",
    "stats_poisson = Poisson(y, X).fit()\n",
    "print(stats_poisson.summary())"
   ]
  },
  {
   "cell_type": "markdown",
   "metadata": {},
   "source": [
    "Now let’s replicate results from Daniel Treisman’s paper, [Russia’s\n",
    "Billionaires](http://pubs.aeaweb.org/doi/pdfplus/10.1257/aer.p20161068),\n",
    "mentioned earlier in the lecture\n",
    "\n",
    "Treisman starts by estimating equation [(1)](#equation-poissonreg), where:\n",
    "\n",
    "- $ y_i $ is $ {number\\ of\\ billionaires}_i $  \n",
    "- $ x_{i1} $ is $ \\log{GDP\\ per\\ capita}_i $  \n",
    "- $ x_{i2} $ is $ \\log{population}_i $  \n",
    "- $ x_{i3} $ is $ {years\\ in\\ GATT}_i $ – years membership in GATT and WTO (to proxy access to international markets)  \n",
    "\n",
    "\n",
    "The paper only considers the year 2008 for estimation\n",
    "\n",
    "We will set up our variables for estimation like so (you should have the\n",
    "data assigned to `df` from earlier in the lecture)"
   ]
  },
  {
   "cell_type": "code",
   "execution_count": 13,
   "metadata": {
    "collapsed": true,
    "hide-output": false
   },
   "outputs": [],
   "source": [
    "# Keep only year 2008\n",
    "df = df[df['year'] == 2008]\n",
    "\n",
    "# Add a constant\n",
    "df['const'] = 1\n",
    "\n",
    "# Variable sets\n",
    "reg1 = ['const', 'lngdppc', 'lnpop', 'gattwto08']\n",
    "reg2 = ['const', 'lngdppc', 'lnpop',\n",
    "        'gattwto08', 'lnmcap08', 'rintr', 'topint08']\n",
    "reg3 = ['const', 'lngdppc', 'lnpop', 'gattwto08', 'lnmcap08',\n",
    "        'rintr', 'topint08', 'nrrents', 'roflaw']"
   ]
  },
  {
   "cell_type": "markdown",
   "metadata": {},
   "source": [
    "Then we can use the `Poisson` function from `statsmodels` to fit the\n",
    "model\n",
    "\n",
    "We’ll use robust standard errors as in the author’s paper"
   ]
  },
  {
   "cell_type": "code",
   "execution_count": 14,
   "metadata": {
    "hide-output": false
   },
   "outputs": [
    {
     "name": "stdout",
     "output_type": "stream",
     "text": [
      "Optimization terminated successfully.\n",
      "         Current function value: 2.226090\n",
      "         Iterations 9\n",
      "                          Poisson Regression Results                          \n",
      "==============================================================================\n",
      "Dep. Variable:                numbil0   No. Observations:                  197\n",
      "Model:                        Poisson   Df Residuals:                      193\n",
      "Method:                           MLE   Df Model:                            3\n",
      "Date:                Mon, 07 Jan 2019   Pseudo R-squ.:                  0.8574\n",
      "Time:                        12:10:09   Log-Likelihood:                -438.54\n",
      "converged:                       True   LL-Null:                       -3074.7\n",
      "                                        LLR p-value:                     0.000\n",
      "==============================================================================\n",
      "                 coef    std err          z      P>|z|      [0.025      0.975]\n",
      "------------------------------------------------------------------------------\n",
      "const        -29.0495      2.578    -11.268      0.000     -34.103     -23.997\n",
      "lngdppc        1.0839      0.138      7.834      0.000       0.813       1.355\n",
      "lnpop          1.1714      0.097     12.024      0.000       0.980       1.362\n",
      "gattwto08      0.0060      0.007      0.868      0.386      -0.008       0.019\n",
      "==============================================================================\n"
     ]
    }
   ],
   "source": [
    "import statsmodels.api as sm\n",
    "\n",
    "# Specify model\n",
    "poisson_reg = sm.Poisson(df[['numbil0']], df[reg1],\n",
    "                         missing='drop').fit(cov_type='HC0')\n",
    "print(poisson_reg.summary())"
   ]
  },
  {
   "cell_type": "markdown",
   "metadata": {},
   "source": [
    "Here we received a warning message saying “Maximum number of iterations has been exceeded.”\n",
    "\n",
    "Let’s try increasing the maximum number of iterations that the algorithm\n",
    "is allowed (the `.fit()` docstring tells us the default number of\n",
    "iterations is 35)"
   ]
  },
  {
   "cell_type": "code",
   "execution_count": 15,
   "metadata": {
    "hide-output": false
   },
   "outputs": [
    {
     "name": "stdout",
     "output_type": "stream",
     "text": [
      "Optimization terminated successfully.\n",
      "         Current function value: 2.226090\n",
      "         Iterations 9\n",
      "                          Poisson Regression Results                          \n",
      "==============================================================================\n",
      "Dep. Variable:                numbil0   No. Observations:                  197\n",
      "Model:                        Poisson   Df Residuals:                      193\n",
      "Method:                           MLE   Df Model:                            3\n",
      "Date:                Mon, 07 Jan 2019   Pseudo R-squ.:                  0.8574\n",
      "Time:                        12:10:09   Log-Likelihood:                -438.54\n",
      "converged:                       True   LL-Null:                       -3074.7\n",
      "                                        LLR p-value:                     0.000\n",
      "==============================================================================\n",
      "                 coef    std err          z      P>|z|      [0.025      0.975]\n",
      "------------------------------------------------------------------------------\n",
      "const        -29.0495      2.578    -11.268      0.000     -34.103     -23.997\n",
      "lngdppc        1.0839      0.138      7.834      0.000       0.813       1.355\n",
      "lnpop          1.1714      0.097     12.024      0.000       0.980       1.362\n",
      "gattwto08      0.0060      0.007      0.868      0.386      -0.008       0.019\n",
      "==============================================================================\n"
     ]
    }
   ],
   "source": [
    "poisson_reg = sm.Poisson(df[['numbil0']], df[reg1],\n",
    "                         missing='drop').fit(cov_type='HC0', maxiter=100)\n",
    "print(poisson_reg.summary())"
   ]
  },
  {
   "cell_type": "markdown",
   "metadata": {},
   "source": [
    "Success! The algorithm was able to achieve convergence in 36 iterations\n",
    "\n",
    "Our output indicates that GDP per capita, population, and years of\n",
    "membership in the General Agreement in Tariffs and Trade (GATT) are\n",
    "positively related to the number of billionaires a country has, as\n",
    "expected\n",
    "\n",
    "Let’s also estimate the author’s more full-featured models and display\n",
    "them in a single table"
   ]
  },
  {
   "cell_type": "code",
   "execution_count": 16,
   "metadata": {
    "hide-output": false
   },
   "outputs": [
    {
     "name": "stdout",
     "output_type": "stream",
     "text": [
      "Table 1 - Explaining the Number of Billionaires in 2008\n",
      "=================================================\n",
      "                  Model 1    Model 2    Model 3  \n",
      "-------------------------------------------------\n",
      "const            -29.050*** -19.444*** -20.858***\n",
      "                 (2.578)    (4.820)    (4.255)   \n",
      "lngdppc          1.084***   0.717***   0.737***  \n",
      "                 (0.138)    (0.244)    (0.233)   \n",
      "lnpop            1.171***   0.806***   0.929***  \n",
      "                 (0.097)    (0.213)    (0.195)   \n",
      "gattwto08        0.006      0.007      0.004     \n",
      "                 (0.007)    (0.006)    (0.006)   \n",
      "lnmcap08                    0.399**    0.286*    \n",
      "                            (0.172)    (0.167)   \n",
      "rintr                       -0.010     -0.009    \n",
      "                            (0.010)    (0.010)   \n",
      "topint08                    -0.051***  -0.058*** \n",
      "                            (0.011)    (0.012)   \n",
      "nrrents                                -0.005    \n",
      "                                       (0.010)   \n",
      "roflaw                                 0.203     \n",
      "                                       (0.372)   \n",
      "Pseudo R-squared 0.86       0.90       0.90      \n",
      "No. observations 197        131        131       \n",
      "=================================================\n",
      "Standard errors in parentheses.\n",
      "* p<.1, ** p<.05, ***p<.01\n"
     ]
    }
   ],
   "source": [
    "from statsmodels.iolib.summary2 import summary_col\n",
    "\n",
    "regs = [reg1, reg2, reg3]\n",
    "reg_names = ['Model 1', 'Model 2', 'Model 3']\n",
    "info_dict = {'Pseudo R-squared': lambda x: f\"{x.prsquared:.2f}\",\n",
    "             'No. observations': lambda x: f\"{int(x.nobs):d}\"}\n",
    "regressor_order = ['const',\n",
    "                   'lngdppc',\n",
    "                   'lnpop',\n",
    "                   'gattwto08',\n",
    "                   'lnmcap08',\n",
    "                   'rintr',\n",
    "                   'topint08',\n",
    "                   'nrrents',\n",
    "                   'roflaw']\n",
    "results = []\n",
    "\n",
    "for reg in regs:\n",
    "    result = sm.Poisson(df[['numbil0']], df[reg],\n",
    "                        missing='drop').fit(cov_type='HC0', maxiter=100, disp=0)\n",
    "    results.append(result)\n",
    "\n",
    "results_table = summary_col(results=results,\n",
    "                            float_format='%0.3f',\n",
    "                            stars=True,\n",
    "                            model_names=reg_names,\n",
    "                            info_dict=info_dict,\n",
    "                            regressor_order=regressor_order)\n",
    "results_table.add_title('Table 1 - Explaining the Number of Billionaires in 2008')\n",
    "print(results_table)"
   ]
  },
  {
   "cell_type": "markdown",
   "metadata": {},
   "source": [
    "The output suggests that the frequency of billionaires is positively\n",
    "correlated with GDP per capita, population size, stock market\n",
    "capitalization, and negatively correlated with top marginal income tax\n",
    "rate\n",
    "\n",
    "To analyze our results by country, we can plot the difference between\n",
    "the predicted an actual values, then sort from highest to lowest and\n",
    "plot the first 15"
   ]
  },
  {
   "cell_type": "code",
   "execution_count": 17,
   "metadata": {
    "hide-output": false
   },
   "outputs": [
    {
     "data": {
      "image/png": "[encoded data removed]",
      "text/plain": [
       "<Figure size 864x576 with 1 Axes>"
      ]
     },
     "metadata": {
      "needs_background": "light"
     },
     "output_type": "display_data"
    }
   ],
   "source": [
    "data = ['const', 'lngdppc', 'lnpop', 'gattwto08', 'lnmcap08', 'rintr',\n",
    "        'topint08', 'nrrents', 'roflaw', 'numbil0', 'country']\n",
    "results_df = df[data].dropna()\n",
    "\n",
    "# Use last model (model 3)\n",
    "results_df['prediction'] = results[-1].predict()\n",
    "\n",
    "# Calculate difference\n",
    "results_df['difference'] = results_df['numbil0'] - results_df['prediction']\n",
    "\n",
    "# Sort in descending order\n",
    "results_df.sort_values('difference', ascending=False, inplace=True)\n",
    "\n",
    "# Plot the first 15 data points\n",
    "results_df[:15].plot('country', 'difference', kind='bar', figsize=(12,8), legend=False)\n",
    "plt.ylabel('Number of billionaires above predicted level')\n",
    "plt.xlabel('Country')\n",
    "plt.show()"
   ]
  },
  {
   "cell_type": "markdown",
   "metadata": {},
   "source": [
    "As we can see, Russia has by far the highest number of billionaires in\n",
    "excess of what is predicted by the model (around 50 more than expected)\n",
    "\n",
    "Treisman uses this empirical result to discuss possible reasons for\n",
    "Russia’s excess of billionaires, including the origination of wealth in\n",
    "Russia, the political climate, and the history of privatization in the\n",
    "years after the USSR"
   ]
  },
  {
   "cell_type": "markdown",
   "metadata": {},
   "source": [
    "## Summary\n",
    "\n",
    "In this lecture we used Maximum Likelihood Estimation to estimate the\n",
    "parameters of a Poisson model\n",
    "\n",
    "`statsmodels` contains other built-in likelihood models such as\n",
    "[Probit](http://www.statsmodels.org/dev/generated/statsmodels.discrete.discrete_model.Probit.html)\n",
    "and\n",
    "[Logit](http://www.statsmodels.org/dev/generated/statsmodels.discrete.discrete_model.Logit.html)\n",
    "\n",
    "For further flexibility, `statsmodels` provides a way to specify the\n",
    "distribution manually using the `GenericLikelihoodModel` class - an\n",
    "example notebook can be found\n",
    "[here](http://www.statsmodels.org/dev/examples/notebooks/generated/generic_mle.html)"
   ]
  },
  {
   "cell_type": "markdown",
   "metadata": {},
   "source": [
    "## Exercises"
   ]
  },
  {
   "cell_type": "markdown",
   "metadata": {},
   "source": [
    "### Exercise 1\n",
    "\n",
    "Suppose we wanted to estimate the probability of an event $ y_i $\n",
    "occurring, given some observations\n",
    "\n",
    "We could use a probit regression model, where the pmf of $ y_i $ is\n",
    "\n",
    "$$\n",
    "f(y_i; \\boldsymbol{\\beta}) = \\mu_i^{y_i} (1-\\mu_i)^{1-y_i}, \\quad y_i = 0,1 \\\\\n",
    "\\text{where} \\quad \\mu_i = \\Phi(\\mathbf{x}_i' \\boldsymbol{\\beta})\n",
    "$$\n",
    "\n",
    "$ \\Phi $ represents the *cumulative normal distribution* and\n",
    "constrains the predicted $ y_i $ to be between 0 and 1 (as required\n",
    "for a probability)\n",
    "\n",
    "$ \\boldsymbol{\\beta} $ is a vector of coefficients\n",
    "\n",
    "Following the example in the lecture, write a class to represent the\n",
    "Probit model\n",
    "\n",
    "To begin, find the log-likelihood function and derive the gradient and\n",
    "Hessian\n",
    "\n",
    "The `scipy` module `stats.norm` contains the functions needed to\n",
    "compute the cmf and pmf of the normal distribution"
   ]
  },
  {
   "cell_type": "markdown",
   "metadata": {},
   "source": [
    "### Exercise 2\n",
    "\n",
    "Use the following dataset and initial values of $ \\boldsymbol{\\beta} $ to\n",
    "estimate the MLE with the Newton-Raphson algorithm developed earlier in\n",
    "the lecture\n",
    "\n",
    "$$\n",
    "\\mathbf{X} =\n",
    "\\begin{bmatrix}\n",
    "1 & 2 & 4 \\\\\n",
    "1 & 1 & 1 \\\\\n",
    "1 & 4 & 3 \\\\\n",
    "1 & 5 & 6 \\\\\n",
    "1 & 3 & 5\n",
    "\\end{bmatrix}\n",
    "\\quad\n",
    "y =\n",
    "\\begin{bmatrix}\n",
    "1 \\\\\n",
    "0 \\\\\n",
    "1 \\\\\n",
    "1 \\\\\n",
    "0\n",
    "\\end{bmatrix}\n",
    "\\quad\n",
    "\\boldsymbol{\\beta}_{(0)} =\n",
    "\\begin{bmatrix}\n",
    "0.1 \\\\\n",
    "0.1 \\\\\n",
    "0.1\n",
    "\\end{bmatrix}\n",
    "$$\n",
    "\n",
    "Verify your results with `statsmodels` - you can import the Probit\n",
    "function with the following import statement"
   ]
  },
  {
   "cell_type": "code",
   "execution_count": 18,
   "metadata": {
    "collapsed": true,
    "hide-output": false
   },
   "outputs": [],
   "source": [
    "from statsmodels.discrete.discrete_model import Probit"
   ]
  },
  {
   "cell_type": "markdown",
   "metadata": {},
   "source": [
    "Note that the simple Newton-Raphson algorithm developed in this lecture\n",
    "is very sensitive to initial values, and therefore you may fail to\n",
    "achieve convergence with different starting values"
   ]
  },
  {
   "cell_type": "markdown",
   "metadata": {},
   "source": [
    "## Solutions"
   ]
  },
  {
   "cell_type": "markdown",
   "metadata": {},
   "source": [
    "### Exercise 1\n",
    "\n",
    "The log-likelihood can be written as\n",
    "\n",
    "$$\n",
    "\\log \\mathcal{L} = \\sum_{i=1}^n\n",
    "\\big[\n",
    "y_i \\log \\Phi(\\mathbf{x}_i' \\boldsymbol{\\beta}) +\n",
    "(1 - y_i) \\log (1 - \\Phi(\\mathbf{x}_i' \\boldsymbol{\\beta})) \\big]\n",
    "$$\n",
    "\n",
    "Using the **fundamental theorem of calculus**, the derivative of a\n",
    "cumulative probability distribution is its marginal distribution\n",
    "\n",
    "$$\n",
    "\\frac{ \\partial} {\\partial s} \\Phi(s) = \\phi(s)\n",
    "$$\n",
    "\n",
    "where $ \\phi $ is the marginal normal distribution\n",
    "\n",
    "The gradient vector of the Probit model is\n",
    "\n",
    "$$\n",
    "\\frac {\\partial \\log \\mathcal{L}} {\\partial \\boldsymbol{\\beta}} =\n",
    "\\sum_{i=1}^n \\Big[\n",
    "y_i \\frac{\\phi(\\mathbf{x}'_i \\boldsymbol{\\beta})}{\\Phi(\\mathbf{x}'_i \\boldsymbol{\\beta)}} -\n",
    "(1 - y_i) \\frac{\\phi(\\mathbf{x}'_i \\boldsymbol{\\beta)}}{1 - \\Phi(\\mathbf{x}'_i \\boldsymbol{\\beta)}}\n",
    "\\Big] \\mathbf{x}_i\n",
    "$$\n",
    "\n",
    "The Hessian of the Probit model is\n",
    "\n",
    "$$\n",
    "\\frac {\\partial^2 \\log \\mathcal{L}} {\\partial \\boldsymbol{\\beta} \\partial \\boldsymbol{\\beta}'} =\n",
    "- \\sum_{i=1}^n \\phi (\\mathbf{x}_i' \\boldsymbol{\\beta})\n",
    "\\Big[\n",
    "y_i \\frac{ \\phi (\\mathbf{x}_i' \\boldsymbol{\\beta}) + \\mathbf{x}_i' \\boldsymbol{\\beta} \\Phi (\\mathbf{x}_i' \\boldsymbol{\\beta}) } { [\\Phi (\\mathbf{x}_i' \\boldsymbol{\\beta})]^2 } +\n",
    "(1 - y_i) \\frac{ \\phi_i (\\mathbf{x}_i' \\boldsymbol{\\beta}) - \\mathbf{x}_i' \\boldsymbol{\\beta} (1 - \\Phi (\\mathbf{x}_i' \\boldsymbol{\\beta})) } { [1 - \\Phi (\\mathbf{x}_i' \\boldsymbol{\\beta})]^2 }\n",
    "\\Big]\n",
    "\\mathbf{x}_i \\mathbf{x}_i'\n",
    "$$\n",
    "\n",
    "Using these results, we can write a class for the Probit model as\n",
    "follows"
   ]
  },
  {
   "cell_type": "code",
   "execution_count": 19,
   "metadata": {
    "collapsed": true,
    "hide-output": false
   },
   "outputs": [],
   "source": [
    "from scipy.stats import norm\n",
    "\n",
    "class ProbitRegression:\n",
    "\n",
    "    def __init__(self, y, X, β):\n",
    "        self.X, self.y, self.β = X, y, β\n",
    "        self.n, self.k = X.shape\n",
    "\n",
    "    def μ(self):\n",
    "        return norm.cdf(self.X @ self.β.T)\n",
    "\n",
    "    def ϕ(self):\n",
    "        return norm.pdf(self.X @ self.β.T)\n",
    "\n",
    "    def logL(self):\n",
    "        μ = self.μ()\n",
    "        return np.sum(y * np.log(μ) + (1 - y) * np.log(1 - μ))\n",
    "\n",
    "    def G(self):\n",
    "        μ = self.μ()\n",
    "        ϕ = self.ϕ()\n",
    "        return np.sum((X.T * y * ϕ / μ - X.T * (1 - y) * ϕ / (1 - μ)), axis=1)\n",
    "\n",
    "    def H(self):\n",
    "        X = self.X\n",
    "        β = self.β\n",
    "        μ = self.μ()\n",
    "        ϕ = self.ϕ()\n",
    "        a = (ϕ + (X @ β.T) * μ) / μ**2\n",
    "        b = (ϕ - (X @ β.T) * (1 - μ)) / (1 - μ)**2\n",
    "        return -(ϕ * (y * a + (1 - y) * b) * X.T) @ X"
   ]
  },
  {
   "cell_type": "markdown",
   "metadata": {},
   "source": [
    "### Exercise 2"
   ]
  },
  {
   "cell_type": "code",
   "execution_count": 20,
   "metadata": {
    "hide-output": false
   },
   "outputs": [
    {
     "name": "stdout",
     "output_type": "stream",
     "text": [
      "Iteration_k  Log-likelihood  θ                                                           \n",
      "-----------------------------------------------------------------------------------------\n",
      "0            -2.3796884      ['-1.34', '0.775', '-0.157']\n",
      "1            -2.3687526      ['-1.53', '0.775', '-0.0981']\n",
      "2            -2.3687294      ['-1.55', '0.778', '-0.0971']\n",
      "3            -2.3687294      ['-1.55', '0.778', '-0.0971']\n",
      "Number of iterations: 4\n",
      "β_hat = [-1.54625858  0.77778952 -0.09709757]\n"
     ]
    },
    {
     "data": {
      "text/plain": [
       "array([-1.54625858,  0.77778952, -0.09709757])"
      ]
     },
     "execution_count": 20,
     "metadata": {},
     "output_type": "execute_result"
    }
   ],
   "source": [
    "X = np.array([[1, 2, 4],\n",
    "              [1, 1, 1],\n",
    "              [1, 4, 3],\n",
    "              [1, 5, 6],\n",
    "              [1, 3, 5]])\n",
    "\n",
    "y = np.array([1, 0, 1, 1, 0])\n",
    "\n",
    "# Take a guess at initial βs\n",
    "β = np.array([0.1, 0.1, 0.1])\n",
    "\n",
    "# Create instance of Probit regression class\n",
    "prob = ProbitRegression(y, X, β)\n",
    "\n",
    "# Run Newton-Raphson algorithm\n",
    "newton_raphson(prob)"
   ]
  },
  {
   "cell_type": "code",
   "execution_count": 21,
   "metadata": {
    "hide-output": false
   },
   "outputs": [
    {
     "name": "stdout",
     "output_type": "stream",
     "text": [
      "Optimization terminated successfully.\n",
      "         Current function value: 0.473746\n",
      "         Iterations 6\n",
      "                          Probit Regression Results                           \n",
      "==============================================================================\n",
      "Dep. Variable:                      y   No. Observations:                    5\n",
      "Model:                         Probit   Df Residuals:                        2\n",
      "Method:                           MLE   Df Model:                            2\n",
      "Date:                Mon, 07 Jan 2019   Pseudo R-squ.:                  0.2961\n",
      "Time:                        12:10:09   Log-Likelihood:                -2.3687\n",
      "converged:                       True   LL-Null:                       -3.3651\n",
      "                                        LLR p-value:                    0.3692\n",
      "==============================================================================\n",
      "                 coef    std err          z      P>|z|      [0.025      0.975]\n",
      "------------------------------------------------------------------------------\n",
      "const         -1.5463      1.866     -0.829      0.407      -5.204       2.111\n",
      "x1             0.7778      0.788      0.986      0.324      -0.768       2.323\n",
      "x2            -0.0971      0.590     -0.165      0.869      -1.254       1.060\n",
      "==============================================================================\n"
     ]
    }
   ],
   "source": [
    "# Use statsmodels to verify results\n",
    "\n",
    "print(Probit(y, X).fit().summary())"
   ]
  }
 ],
 "metadata": {
  "filename": "mle.rst",
  "kernelspec": {
   "display_name": "Python 3",
   "language": "python",
   "name": "python3"
  },
  "language_info": {
   "codemirror_mode": {
    "name": "ipython",
    "version": 3
   },
   "file_extension": ".py",
   "mimetype": "text/x-python",
   "name": "python",
   "nbconvert_exporter": "python",
   "pygments_lexer": "ipython3",
   "version": "3.7.0"
  },
  "title": "Maximum Likelihood Estimation"
 },
 "nbformat": 4,
 "nbformat_minor": 2
}

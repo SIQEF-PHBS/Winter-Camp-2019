{
 "cells": [
  {
   "cell_type": "markdown",
   "metadata": {},
   "source": [
    "## Efficient Simulation in the Inventory Model\n",
    "\n",
    "\n",
    "#### John Stachurski"
   ]
  },
  {
   "cell_type": "markdown",
   "metadata": {},
   "source": [
    "Simulation can be time consuming, especially if we need to simulate many paths\n",
    "\n",
    "And it's often true that large sample sizes are necessary to get an accurate picture\n",
    "\n",
    "Let's look at speeding up our simulations using [Numba](https://numba.pydata.org/)"
   ]
  },
  {
   "cell_type": "code",
   "execution_count": 5,
   "metadata": {},
   "outputs": [],
   "source": [
    "import numpy as np\n",
    "from numba import jit, njit, prange"
   ]
  },
  {
   "cell_type": "markdown",
   "metadata": {},
   "source": [
    "Parameters:"
   ]
  },
  {
   "cell_type": "code",
   "execution_count": 6,
   "metadata": {},
   "outputs": [],
   "source": [
    "s, S = 10, 100\n",
    "p = 0.4\n",
    "initial_x = 50.0"
   ]
  },
  {
   "cell_type": "markdown",
   "metadata": {},
   "source": [
    "### Simulating One Path"
   ]
  },
  {
   "cell_type": "markdown",
   "metadata": {},
   "source": [
    "Let's look at simulating one path with minimal optimization.\n",
    "\n",
    "(There's at least some efficiency gain over pure Python because we'll use a vectorized function to generate the random variables.)"
   ]
  },
  {
   "cell_type": "code",
   "execution_count": 7,
   "metadata": {},
   "outputs": [],
   "source": [
    "def sim_one_inventory_path(sim_length=10_000_000):\n",
    "        \n",
    "    dvals = np.random.geometric(p, size=sim_length-1) - 1\n",
    "    X = np.empty(sim_length, dtype=np.int64)\n",
    "    X[0] = initial_x\n",
    "    \n",
    "    for t, d in enumerate(dvals):\n",
    "        x = X[t]\n",
    "        if x <= s:\n",
    "            X[t+1] = max(S - d, 0)\n",
    "        else:\n",
    "            X[t+1] = max(x - d, 0)\n",
    "            \n",
    "    return X"
   ]
  },
  {
   "cell_type": "markdown",
   "metadata": {},
   "source": [
    "How fast does this run?"
   ]
  },
  {
   "cell_type": "code",
   "execution_count": 8,
   "metadata": {},
   "outputs": [
    {
     "name": "stdout",
     "output_type": "stream",
     "text": [
      "CPU times: user 7.36 s, sys: 94 ms, total: 7.45 s\n",
      "Wall time: 7.56 s\n"
     ]
    }
   ],
   "source": [
    "%%time\n",
    "X = sim_one_inventory_path()"
   ]
  },
  {
   "cell_type": "markdown",
   "metadata": {},
   "source": [
    "Now let's build a jitted version."
   ]
  },
  {
   "cell_type": "code",
   "execution_count": 9,
   "metadata": {},
   "outputs": [],
   "source": [
    "@jit(nopython=True)\n",
    "def update(x):        \n",
    "    d = np.random.geometric(p) - 1\n",
    "    if x <= s:\n",
    "        y = np.maximum(S - d, 0)\n",
    "    else:\n",
    "        y = np.maximum(x - d, 0)\n",
    "    return y"
   ]
  },
  {
   "cell_type": "code",
   "execution_count": 10,
   "metadata": {},
   "outputs": [
    {
     "data": {
      "text/plain": [
       "20"
      ]
     },
     "execution_count": 10,
     "metadata": {},
     "output_type": "execute_result"
    }
   ],
   "source": [
    "update(20)"
   ]
  },
  {
   "cell_type": "code",
   "execution_count": 11,
   "metadata": {},
   "outputs": [],
   "source": [
    "@jit(nopython=True)\n",
    "def sim_one_path_jitted(sim_length=10_000_000):\n",
    "    X = np.empty(sim_length, dtype=np.int64)\n",
    "    X[0] = initial_x\n",
    "    for t in range(sim_length-1):\n",
    "        X[t+1] = update(X[t])"
   ]
  },
  {
   "cell_type": "markdown",
   "metadata": {},
   "source": [
    "This is **much** faster:"
   ]
  },
  {
   "cell_type": "code",
   "execution_count": 12,
   "metadata": {
    "scrolled": true
   },
   "outputs": [
    {
     "name": "stdout",
     "output_type": "stream",
     "text": [
      "309 ms ± 1.77 ms per loop (mean ± std. dev. of 7 runs, 1 loop each)\n"
     ]
    }
   ],
   "source": [
    "%%timeit\n",
    "X = sim_one_path_jitted()"
   ]
  },
  {
   "cell_type": "markdown",
   "metadata": {},
   "source": [
    "### Task: Calculate Stationary Order Rate"
   ]
  },
  {
   "cell_type": "markdown",
   "metadata": {},
   "source": [
    "As we've seen, the inventory model has a stationary distribution.\n",
    "\n",
    "Let's call it $\\psi^*$, with the corresponding random variable denoted $X^*$.\n",
    "\n",
    "For a large population with independent demand shocks,\n",
    "\n",
    "$$ \\mathbb P\\{X^* = k\\} \\simeq \\text{fraction of firms with inventory } k $$\n",
    "\n",
    "We are interested in calculating\n",
    "\n",
    "$$ \\mathbb P\\{X^* \\leq s\\} \\simeq \\text{fraction of firms currently placing orders } $$\n",
    "\n",
    "The law of large numbers for stationary and ergodic sequences tells us that\n",
    "\n",
    "$$ \\mathbb P\\{X^* \\leq s\\} \\simeq \\frac{1}{n} \\sum_{t=1}^n \\mathbb 1\\{X_t \\leq s\\} $$\n",
    "\n",
    "In other words, we can calculate the stationary probability $\\mathbb P\\{X^* \\leq s\\}$ by generating a single time series and calculating the fraction of time that it spends below $s$.\n",
    "\n",
    "We can do this fast with the jitted code above, thanks to Numba.\n",
    "\n",
    "#### Exploiting parallelization\n",
    "\n",
    "However, the above approach is difficult to parallelize because it's inherently sequential\n",
    "\n",
    "An approach that's easier to parallelize is to \n",
    "\n",
    "* pick some large value $T$\n",
    "\n",
    "* generate many independent observations $X^i_T$ of $X_T$\n",
    "\n",
    "* calculate the fraction of observations that are less than $s$\n",
    "\n",
    "This works because \n",
    "\n",
    "$$ \\mathbb P\\{X^* \\leq s\\} \\simeq \\mathbb P \\{X_T \\leq s\\} $$\n",
    "\n",
    "when $T$ is large (since, as previously discussed, $\\psi_t \\to \\psi^*$).\n",
    "\n",
    "Thus, letting $m$ be the number of paths we'll generate, our goal is to fix large $T$ and compute\n",
    "\n",
    "$$ p(m, T) = \\frac{1}{m} \\sum_{i=1}^m \\mathbb 1\\{X_T^i \\leq s\\} $$"
   ]
  },
  {
   "cell_type": "markdown",
   "metadata": {},
   "source": [
    "### Simulating Many Paths"
   ]
  },
  {
   "cell_type": "markdown",
   "metadata": {},
   "source": [
    "Here's a jitted (and hence fast) piece of code for simulating many paths."
   ]
  },
  {
   "cell_type": "code",
   "execution_count": 16,
   "metadata": {},
   "outputs": [],
   "source": [
    "@njit\n",
    "def sim_prob(m=500_000, T=1000):\n",
    "    \n",
    "    is_below_s = 0\n",
    "    for i in range(m):\n",
    "        x = initial_x\n",
    "        for t in range(T):\n",
    "            x = update(x)\n",
    "        if x <= s:\n",
    "            is_below_s += 1\n",
    "    p_m_T = is_below_s / m\n",
    "    return p_m_T"
   ]
  },
  {
   "cell_type": "markdown",
   "metadata": {},
   "source": [
    "Let's get a reading on the time."
   ]
  },
  {
   "cell_type": "code",
   "execution_count": 22,
   "metadata": {},
   "outputs": [
    {
     "name": "stdout",
     "output_type": "stream",
     "text": [
      "CPU times: user 15.9 s, sys: 128 ms, total: 16 s\n",
      "Wall time: 16.1 s\n"
     ]
    }
   ],
   "source": [
    "%%time\n",
    "p = sim_prob()"
   ]
  },
  {
   "cell_type": "code",
   "execution_count": 23,
   "metadata": {},
   "outputs": [
    {
     "data": {
      "text/plain": [
       "0.016104"
      ]
     },
     "execution_count": 23,
     "metadata": {},
     "output_type": "execute_result"
    }
   ],
   "source": [
    "p"
   ]
  },
  {
   "cell_type": "markdown",
   "metadata": {},
   "source": [
    "Now let's try a simple parallelization:"
   ]
  },
  {
   "cell_type": "code",
   "execution_count": 24,
   "metadata": {},
   "outputs": [],
   "source": [
    "@njit(parallel=True)\n",
    "def sim_prob_parallel(m=500_000, T=1000):\n",
    "    \n",
    "    is_below_s = 0\n",
    "    for i in prange(m):\n",
    "        x = initial_x\n",
    "        for t in range(T):\n",
    "            x = update(x)\n",
    "        if x <= s:\n",
    "            is_below_s += 1\n",
    "    p_m_T = is_below_s / m\n",
    "    return p_m_T\n"
   ]
  },
  {
   "cell_type": "code",
   "execution_count": 26,
   "metadata": {},
   "outputs": [
    {
     "name": "stdout",
     "output_type": "stream",
     "text": [
      "CPU times: user 21.2 s, sys: 48.8 ms, total: 21.3 s\n",
      "Wall time: 5.62 s\n"
     ]
    }
   ],
   "source": [
    "%%time\n",
    "p = sim_prob_parallel()"
   ]
  },
  {
   "cell_type": "code",
   "execution_count": 27,
   "metadata": {},
   "outputs": [
    {
     "data": {
      "text/plain": [
       "0.016468"
      ]
     },
     "execution_count": 27,
     "metadata": {},
     "output_type": "execute_result"
    }
   ],
   "source": [
    "p"
   ]
  },
  {
   "cell_type": "markdown",
   "metadata": {},
   "source": [
    "# Homework"
   ]
  },
  {
   "cell_type": "markdown",
   "metadata": {},
   "source": [
    "Recall our inventory problem where inventory follows\n",
    "\n",
    "\n",
    "\\begin{equation*}\n",
    "  X_{t+1} = \n",
    "  \\begin{cases}\n",
    "      ( S - D_{t+1})^+ & \\quad \\text{if } X_t \\leq s \\\\\n",
    "      ( X_t - D_{t+1} )^+ &  \\quad \\text{if } X_t > s\n",
    "  \\end{cases}\n",
    "\\end{equation*}\n",
    "\n",
    "The demand sequence is IID and obeys\n",
    "\n",
    "$$ \\mathbb P \\{D_t = d\\} = (1 - p)^d p $$\n",
    "\n",
    "for $d = 0, 1, \\ldots$.  Here $p$ is a parameter in $(0, 1)$."
   ]
  },
  {
   "cell_type": "markdown",
   "metadata": {},
   "source": [
    "Let\n",
    "\n",
    "$$ \n",
    "    h_s(x) = x + (S - x) \\mathbb 1\\{x \\leq s \\}\n",
    "$$\n",
    "\n",
    "denote stock on hand after the restocking decision is made.  Profits are given by\n",
    "\n",
    "$$ \n",
    "    \\pi(X_t, D_{t+1}) \n",
    "    = \\min\\{h_s(X_t), D_{t+1}\\} - c \\mathbb 1\\{X_t \\leq s\\}\n",
    "$$\n",
    "\n",
    "Here $c$ is a fixed cost of restocking.  We are assuming that the marginal cost of stock is zero for simplicity, and that the unit price of output is 1."
   ]
  },
  {
   "cell_type": "markdown",
   "metadata": {},
   "source": [
    "Maximize long run average profits for the firm by choosing $s$ optimally.  You can do this visually, if you like, by plotting profits as a function of $s$.\n",
    "\n",
    "In doing so, assume that $c=0.1$, $S=20$ and $p=0.5$.\n",
    "\n",
    "Use simulation and the law of large numbers.  Try to optimize the execution speed of your implementation."
   ]
  },
  {
   "cell_type": "code",
   "execution_count": null,
   "metadata": {},
   "outputs": [],
   "source": []
  }
 ],
 "metadata": {
  "kernelspec": {
   "display_name": "Python 3",
   "language": "python",
   "name": "python3"
  },
  "language_info": {
   "codemirror_mode": {
    "name": "ipython",
    "version": 3
   },
   "file_extension": ".py",
   "mimetype": "text/x-python",
   "name": "python",
   "nbconvert_exporter": "python",
   "pygments_lexer": "ipython3",
   "version": "3.7.0"
  }
 },
 "nbformat": 4,
 "nbformat_minor": 2
}

{
 "cells": [
  {
   "cell_type": "markdown",
   "metadata": {},
   "source": [
    "# Intro to Python exercises"
   ]
  },
  {
   "cell_type": "markdown",
   "metadata": {},
   "source": [
    "## Reading: Python essentials\n",
    "\n",
    "It's important that you have a solid understanding of data types and functions for later lectures.\n",
    "\n",
    "Please read QuantEcon's Python Essentials: https://lectures.quantecon.org/py/python_essentials.html\n",
    "\n",
    "Complete exercise 1 through 5 below - you may check your answers but please attempt the question before checking!"
   ]
  },
  {
   "cell_type": "markdown",
   "metadata": {},
   "source": [
    "**Exercise 1**"
   ]
  },
  {
   "cell_type": "code",
   "execution_count": null,
   "metadata": {
    "collapsed": true
   },
   "outputs": [],
   "source": []
  },
  {
   "cell_type": "markdown",
   "metadata": {},
   "source": [
    "**Exercise 2**"
   ]
  },
  {
   "cell_type": "code",
   "execution_count": null,
   "metadata": {
    "collapsed": true
   },
   "outputs": [],
   "source": []
  },
  {
   "cell_type": "markdown",
   "metadata": {},
   "source": [
    "**Exercise 3**"
   ]
  },
  {
   "cell_type": "code",
   "execution_count": null,
   "metadata": {
    "collapsed": true
   },
   "outputs": [],
   "source": []
  },
  {
   "cell_type": "markdown",
   "metadata": {},
   "source": [
    "**Exercise 4**"
   ]
  },
  {
   "cell_type": "code",
   "execution_count": null,
   "metadata": {
    "collapsed": true
   },
   "outputs": [],
   "source": []
  },
  {
   "cell_type": "markdown",
   "metadata": {},
   "source": [
    "**Exercise 5**"
   ]
  },
  {
   "cell_type": "code",
   "execution_count": null,
   "metadata": {
    "collapsed": true
   },
   "outputs": [],
   "source": []
  },
  {
   "cell_type": "markdown",
   "metadata": {},
   "source": [
    "## For loops\n",
    "\n",
    "**Exercise:** write a function `factorial` which takes an argument `n` and returns n! (the factorial of n)\n",
    "\n",
    "$$\n",
    "n! = n \\times (n - 1) \\times (n - 2) \\times \\ldots \\times 1\n",
    "$$"
   ]
  },
  {
   "cell_type": "code",
   "execution_count": null,
   "metadata": {},
   "outputs": [],
   "source": []
  },
  {
   "cell_type": "markdown",
   "metadata": {},
   "source": [
    "## While loops"
   ]
  },
  {
   "cell_type": "markdown",
   "metadata": {},
   "source": [
    "In addition to for loops, **while loops** can also be used for iteration"
   ]
  },
  {
   "cell_type": "code",
   "execution_count": 3,
   "metadata": {},
   "outputs": [
    {
     "name": "stdout",
     "output_type": "stream",
     "text": [
      "10\n",
      "9\n",
      "8\n",
      "7\n",
      "6\n",
      "5\n",
      "4\n",
      "3\n",
      "2\n"
     ]
    }
   ],
   "source": [
    "i = 10\n",
    "\n",
    "while i > 1:\n",
    "    print(i)\n",
    "    i = i - 1  # Subtract 1 from i"
   ]
  },
  {
   "cell_type": "markdown",
   "metadata": {},
   "source": [
    "**Exercise:** Rewrite the `white_noise` function using a **while loop** instead of a **for loop**"
   ]
  },
  {
   "cell_type": "code",
   "execution_count": null,
   "metadata": {},
   "outputs": [],
   "source": []
  },
  {
   "cell_type": "markdown",
   "metadata": {},
   "source": [
    "## Generate a time series"
   ]
  },
  {
   "cell_type": "markdown",
   "metadata": {},
   "source": [
    "Consider the following autoregressive model (AR(1) model)\n",
    "\n",
    "$$\n",
    "y_{t+1} = \\mu + \\rho y_t + \\varepsilon_t \\quad \\quad \\varepsilon_t \\sim (0, 1)\n",
    "$$\n",
    "\n",
    "Where:\n",
    "* $\\mu$ is the unconditional mean\n",
    "* $\\rho$ is the persistence parameter\n",
    "* $\\varepsilon_t$ is an i.i.d random shock\n",
    "\n",
    "**Exercise:** Write a function called `generate_AR1` that takes `mu`, `rho` and `T` as arguments\n",
    "* `mu` and `rho` should be positional arguments\n",
    "* `T` should be a keyword argument with a default value of 200\n",
    "* Let $y_0 = 10$\n",
    "\n",
    "The function should **return** a plot of the AR(1) series\n",
    "\n",
    "Use your function to plot a time series of an AR(1) process where `mu = 5` and `rho = 0.8`"
   ]
  },
  {
   "cell_type": "code",
   "execution_count": null,
   "metadata": {},
   "outputs": [],
   "source": []
  },
  {
   "cell_type": "markdown",
   "metadata": {},
   "source": [
    "**Exercise:** Create an interactive plot using your `generate_AR1` function\n",
    "* `mu` should take values between 0 and 10\n",
    "* `rho` should take values between 0 and 0.99, with steps of 0.01"
   ]
  },
  {
   "cell_type": "code",
   "execution_count": null,
   "metadata": {},
   "outputs": [],
   "source": []
  }
 ],
 "metadata": {
  "kernelspec": {
   "display_name": "Python 3",
   "language": "python",
   "name": "python3"
  },
  "language_info": {
   "codemirror_mode": {
    "name": "ipython",
    "version": 3
   },
   "file_extension": ".py",
   "mimetype": "text/x-python",
   "name": "python",
   "nbconvert_exporter": "python",
   "pygments_lexer": "ipython3",
   "version": "3.7.0"
  }
 },
 "nbformat": 4,
 "nbformat_minor": 2
}

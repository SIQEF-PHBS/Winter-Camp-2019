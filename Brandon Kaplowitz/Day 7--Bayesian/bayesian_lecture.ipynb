{
 "cells": [
  {
   "cell_type": "markdown",
   "metadata": {},
   "source": [
    "# Introduction to Bayesian Statistics and Inference in Python"
   ]
  },
  {
   "cell_type": "markdown",
   "metadata": {},
   "source": [
    "## Before We Get Started\n"
   ]
  },
  {
   "cell_type": "markdown",
   "metadata": {},
   "source": [
    "**Basic Material**: \n",
    "Material will come from selections from the following sources. Feel free to follow along or refer back to later.\n",
    "* Think Bayes, https://greenteapress.com/wp/think-bayes/ \n",
    "* Bayesian Methods for Hackers https://camdavidsonpilon.github.io/Probabilistic-Programming-and-Bayesian-Methods-for-Hackers/\n",
    "* Information Theory, Inference and Learning Algorithms https://www.ece.uvic.ca/~agullive/Mackay.pdf \n",
    "\n",
    "**More advanced references for further reading**:\n",
    "* Bayesian Data Analysis, Gelman et. al http://www.stat.columbia.edu/~gelman/book/ \n",
    "* Statistical Rethinking: A Bayesian Course with Examples in R and Stan, McElreath https://xcelab.net/rm/statistical-rethinking/\n",
    "* Towards a Principled Bayesian Workflow and prerequisites, Betancourt https://betanalpha.github.io/writing/ \n",
    "\n",
    "Materials for this course inspired/taken from Think Bayes, Bayesian Methods for Hackers, and Statistical Rethinking."
   ]
  },
  {
   "cell_type": "markdown",
   "metadata": {},
   "source": [
    "### Installation Instructions:\n",
    "Before coming to class please install the packages using the following commands:\n",
    "\n",
    "```pip install thinkbayesx```\n",
    "\n",
    "If pip is not found, please conda install pip first then run the command above."
   ]
  },
  {
   "cell_type": "markdown",
   "metadata": {},
   "source": [
    "# Basic Probability and Bayes Rule for Brief Review"
   ]
  },
  {
   "cell_type": "markdown",
   "metadata": {},
   "source": [
    "We will start with some basic ideas of probability. In the simplest cases, this is literally just counting."
   ]
  },
  {
   "cell_type": "markdown",
   "metadata": {},
   "source": [
    "<img src=\"probability_A.svg\">"
   ]
  },
  {
   "cell_type": "markdown",
   "metadata": {},
   "source": [
    "$$P(A) = \\frac{\\# A}{\\#A+\\#B}$$"
   ]
  },
  {
   "cell_type": "markdown",
   "metadata": {},
   "source": [
    "<img src=\"probably_A|B.svg\">"
   ]
  },
  {
   "cell_type": "markdown",
   "metadata": {},
   "source": [
    "$$P(A \\& B) = \\frac{\\# A \\& B}{\\#A + \\#B} $$\n",
    "Note order doesn't matter\n",
    "$$P(A|B) = \\frac{\\# A \\& B}{\\#B}$$\n",
    "But remember \n",
    "$$P(B) = \\frac{\\# B}{\\#A + \\#B}$$\n",
    "Then we can see $$P(A \\& B) = P(A|B)P(B)$$\n",
    "Also $$P(B \\& A) = P(B|A)P(A)$$\n",
    "Therefore, $$P(B|A)=\\frac{P(A|B)P(B)}{P(A)}$$\n",
    "This is bayes rule.\n",
    "\n",
    "What is bayesian statistics?  In short it is bayes'rule applied for statistical inference."
   ]
  },
  {
   "cell_type": "markdown",
   "metadata": {},
   "source": [
    "Sometimes this is rewritten as \n",
    "\n",
    "$$\\frac{P(B|A)P(A)}{P(B|A)P(A)+P(B|A^c)P(A^c)}=P(A|B)$$, which is the same thing."
   ]
  },
  {
   "cell_type": "markdown",
   "metadata": {},
   "source": [
    "## Intuition Behind Bayes Rule and Some Bayesian Terminology\n",
    "Let's label the variables differently. \n",
    "\n",
    "We call B now D, meaning data, and A now H meaning a particular hypothesis.\n",
    "\n",
    "We then have: \n",
    "\n",
    "$$\\frac{P(D|H)P(H)}{P(D)}=P(H|D)$$"
   ]
  },
  {
   "cell_type": "markdown",
   "metadata": {},
   "source": [
    "We have names for each part of this:\n",
    "\n",
    "$P(D|H)$ we call the **likelihood**.\n",
    "\n",
    "$P(H)$ we call the **prior**.\n",
    "    \n",
    "$P(D)$ we call the normalizing constant, which is just the probability of the data occuring.\n",
    "    \n",
    "$P(H|D)$ we call the **posterior**"
   ]
  },
  {
   "cell_type": "markdown",
   "metadata": {},
   "source": [
    "This tells us that if we know the likelihood of the data occuring, and have a prior, we can get the posterior of the data, which reflects what we expect our hypothesis to be given the observed data. Compare this to empirical likelihood methods, which just tell us the probability of generating a particular sequence of data given a hypothesis.\n",
    "\n",
    "This is also useful, if we have information about $P(B|A)$ and want to find out information about $P(A|B)$"
   ]
  },
  {
   "cell_type": "markdown",
   "metadata": {},
   "source": [
    "In general, we ignore the normalizing constant, because it just converts the product of the likelihood and prior into probabilities and it is easy to find given we know our generated data and the different hypotheses we were  considering. Thus, we often say:\n",
    "\n",
    "$$likelihood \\times prior \\propto posterior$$"
   ]
  },
  {
   "cell_type": "markdown",
   "metadata": {},
   "source": [
    "##  PMFs and PDFs/Examples\n",
    "\n",
    "We now consider some practical examples that will help clarify this concept. We will explore this from a few different perspectives using PDFs and PMFs.\n",
    "\n",
    "### Example 1: \n",
    "We first consider the case of balls from two different bowls. The first bowl has 10 white balls, and 30 black balls, the second bowl has 20 balls of each. We draw a ball and it is black. What is the probability that we draw from the first bowl?\n",
    "\n",
    "We can do this purely mathematically with bayes' rule."
   ]
  },
  {
   "cell_type": "markdown",
   "metadata": {},
   "source": [
    "#### Derivation with Bayes' Rule\n",
    "\n",
    "We want to find $P(\\text{bowl 1}|\\text{ball is black})$. We can get this from Bayes' Rule directly:\n",
    "\n",
    "$$P(\\text{ball from bowl 1}|\\text{ball is black})=\\frac{P(\\text{ball is black}|\\text{ball from bowl 1})P(\\text{ball from bowl 1})}{P(\\text{ball is black})}$$\n",
    "\n",
    "We know that:\n",
    "\n",
    "$$P(\\text{ball is black}|\\text{ball from bowl 1})=30/(10+30)=3/4$$\n",
    "\n",
    "$$P(\\text{ball from bowl 1})=40/(40+40)=1/2$$\n",
    "\n",
    "$$P(\\text{ball is black})=(30+20)/(40+40)=5/8$$\n",
    "\n",
    "Thus, $$P(\\text{ball from bowl 1}|\\text{ball is black})=\\frac{3/4*1/2}{5/8}=3/5$$\n",
    "\n",
    "Note here, once again, 5/8 is acting as a normalizing constant that gives the chance of drawing a black ball period, whereas the top gives us the chance of drawing a black ball from bowl 1. Thus, we are really counting the number of black balls from bowl 1 and then normalizing by the number of black balls overall, to give us the chance of drawing a ball from bowl 1 given the ball is black (note we could have gotten it directly this way by diving 30 by 50.) \n",
    "\n",
    "Note also that 5/8 in the denominator is really just 3/8 chance of drawing a black ball that is from  bowl one, plus the chance of drawing a black ball that is from bowl 2 (2/8). This is the second formulation of bayes' rule we talked about earlier using complements."
   ]
  },
  {
   "cell_type": "markdown",
   "metadata": {},
   "source": [
    "#### Derivation with ThinkBayes Software\n",
    "\n",
    "We now do the same calculation, except now using the thinkbayes software to show how it works.\n",
    "\n",
    "First, though, we will show off some  basic properties of thinkbayes."
   ]
  },
  {
   "cell_type": "markdown",
   "metadata": {},
   "source": [
    "#### Constructing a PMF Object and some basic properties"
   ]
  },
  {
   "cell_type": "markdown",
   "metadata": {},
   "source": [
    "First, we import thinkbayes"
   ]
  },
  {
   "cell_type": "code",
   "execution_count": 1,
   "metadata": {},
   "outputs": [],
   "source": [
    "%matplotlib inline\n",
    "from numba import jit\n",
    "import matplotlib.pyplot as plt\n",
    "import thinkbayes2 as tb\n",
    "import thinkstats2 as ts\n",
    "import numpy as np\n",
    "from mpl_toolkits.mplot3d import Axes3D\n",
    "plt.style.use('seaborn')"
   ]
  },
  {
   "cell_type": "markdown",
   "metadata": {},
   "source": [
    "Now we construct our first PMF. A PMF (probability mass function) as you probably remember from statistics, is a map from a set of outcomes to their probabilities. We will consider the PMF for a six sided die.\n",
    "We initialize the object 'd6' our six sided die."
   ]
  },
  {
   "cell_type": "code",
   "execution_count": 2,
   "metadata": {},
   "outputs": [],
   "source": [
    "d6=tb.Pmf()"
   ]
  },
  {
   "cell_type": "markdown",
   "metadata": {},
   "source": [
    "Now we have to assign values to each of the six sides. Since we will weight all sides equally, we will assign them all the value 1. If we didn't want to put weight on one side, we would assign it value 0. The object underlying this is a dictionary that maps outcomes to values, with some added methods."
   ]
  },
  {
   "cell_type": "code",
   "execution_count": 3,
   "metadata": {},
   "outputs": [],
   "source": [
    "for i in range(1,7):\n",
    "       d6[i]=1 "
   ]
  },
  {
   "cell_type": "code",
   "execution_count": 4,
   "metadata": {},
   "outputs": [
    {
     "name": "stdout",
     "output_type": "stream",
     "text": [
      "Pmf({1: 1, 2: 1, 3: 1, 4: 1, 5: 1, 6: 1})\n",
      "1 1\n",
      "2 1\n",
      "3 1\n",
      "4 1\n",
      "5 1\n",
      "6 1\n"
     ]
    }
   ],
   "source": [
    "print(d6)\n",
    "d6[1]\n",
    "# We can print outcomes using the 'Print method'\n",
    "d6.Print()"
   ]
  },
  {
   "cell_type": "markdown",
   "metadata": {},
   "source": [
    "Now we use the 'normalize' method that each pmf object has to convert the values to probabilities. Normalize works by taking each of the values we assigned the object, summing across the values and dividing by the sum. This ensures that the sum of the values always add up to 1, which creates the probabilities."
   ]
  },
  {
   "cell_type": "code",
   "execution_count": 5,
   "metadata": {},
   "outputs": [
    {
     "data": {
      "text/plain": [
       "0.16666666666666666"
      ]
     },
     "execution_count": 5,
     "metadata": {},
     "output_type": "execute_result"
    }
   ],
   "source": [
    "d6.Normalize()\n",
    "d6[2]"
   ]
  },
  {
   "cell_type": "markdown",
   "metadata": {},
   "source": [
    "This converted it to 1/6 as expected. Now, we can do  some more interesting things. First, let's plot these. To do this, we use the 'Hist' method that is built into thinkplot, which creates a histogram."
   ]
  },
  {
   "cell_type": "markdown",
   "metadata": {},
   "source": [
    "We can calculate the mean with the 'Mean' method (as long as we normalize first. )"
   ]
  },
  {
   "cell_type": "code",
   "execution_count": 6,
   "metadata": {},
   "outputs": [
    {
     "data": {
      "text/plain": [
       "3.5"
      ]
     },
     "execution_count": 6,
     "metadata": {},
     "output_type": "execute_result"
    }
   ],
   "source": [
    "d6.Mean()"
   ]
  },
  {
   "cell_type": "markdown",
   "metadata": {},
   "source": [
    "We can also select a random value with the 'Random' method with the correct probabilities.\n"
   ]
  },
  {
   "cell_type": "code",
   "execution_count": 7,
   "metadata": {},
   "outputs": [
    {
     "data": {
      "text/plain": [
       "3"
      ]
     },
     "execution_count": 7,
     "metadata": {},
     "output_type": "execute_result"
    }
   ],
   "source": [
    "d6.Random()"
   ]
  },
  {
   "cell_type": "markdown",
   "metadata": {},
   "source": [
    "Finally, using Hist from thinkbayes, we can plot this histogram."
   ]
  },
  {
   "cell_type": "code",
   "execution_count": 8,
   "metadata": {},
   "outputs": [
    {
     "data": {
      "image/png": "[encoded data removed]",
      "text/plain": [
       "<Figure size 432x288 with 1 Axes>"
      ]
     },
     "metadata": {
      "needs_background": "light"
     },
     "output_type": "display_data"
    }
   ],
   "source": [
    "tb.thinkplot.Hist(d6)"
   ]
  },
  {
   "cell_type": "markdown",
   "metadata": {},
   "source": [
    "### Exercise 1:\n",
    "\n",
    "Thinkbayes includes an \\_add\\_ (+) function that enables you to calculate the sum of two PMFs. Please print the histogram of the sum of numbers from two six-sided fair dice and the mean of the two dice."
   ]
  },
  {
   "cell_type": "code",
   "execution_count": 9,
   "metadata": {},
   "outputs": [],
   "source": [
    "# Solution goes here."
   ]
  },
  {
   "cell_type": "markdown",
   "metadata": {},
   "source": [
    "### Exercise 2: \n",
    "\n",
    "Suppose I tell you that I roll two dice and the outcome of the two rolls is larger than 3. Please plot the histogram of the PMF for the probability distribution conditional on the fact that I observe an outcome larger than 2 and report the mean of the outcomes $E(\\text{dice sum}|\\text{dice sum}>2)$. "
   ]
  },
  {
   "cell_type": "code",
   "execution_count": 11,
   "metadata": {},
   "outputs": [],
   "source": [
    "# Solution goes here."
   ]
  },
  {
   "cell_type": "markdown",
   "metadata": {},
   "source": [
    "### Example 2: Reanalyzing the Bowl Example"
   ]
  },
  {
   "cell_type": "markdown",
   "metadata": {},
   "source": [
    "We will now do the bowl example again and show how easy it is to solve in thinkbayes.\n",
    "\n",
    "First, we define our prior. Note if not specified, thinkbayes assumes equal weight on each object."
   ]
  },
  {
   "cell_type": "code",
   "execution_count": 13,
   "metadata": {},
   "outputs": [
    {
     "name": "stdout",
     "output_type": "stream",
     "text": [
      "bowl 1 0.5\n",
      "bowl 2 0.5\n"
     ]
    }
   ],
   "source": [
    "ballsfrombowl=tb.Pmf(['bowl 1','bowl 2']) #prior\n",
    "ballsfrombowl.Print() "
   ]
  },
  {
   "cell_type": "markdown",
   "metadata": {},
   "source": [
    "Now we update by our likelihood. To do this, we use the '\\*=' operator, which multiplies each object by whatever you feed it. In our case this will represent the likelihood."
   ]
  },
  {
   "cell_type": "code",
   "execution_count": 14,
   "metadata": {},
   "outputs": [],
   "source": [
    "ballsfrombowl['bowl 1']*=(3/4) #probability of a black ball from bowl 1\n",
    "ballsfrombowl['bowl 2']*=(1/2) #probability of a black ball from bowl 2"
   ]
  },
  {
   "cell_type": "code",
   "execution_count": 15,
   "metadata": {},
   "outputs": [
    {
     "data": {
      "text/plain": [
       "0.625"
      ]
     },
     "execution_count": 15,
     "metadata": {},
     "output_type": "execute_result"
    }
   ],
   "source": [
    "ballsfrombowl.Normalize() #normalizing constant in denominator"
   ]
  },
  {
   "cell_type": "code",
   "execution_count": 16,
   "metadata": {},
   "outputs": [
    {
     "name": "stdout",
     "output_type": "stream",
     "text": [
      "bowl 1 0.6000000000000001\n",
      "bowl 2 0.4\n"
     ]
    },
    {
     "data": {
      "image/png": "[encoded data removed]",
      "text/plain": [
       "<Figure size 432x288 with 1 Axes>"
      ]
     },
     "metadata": {
      "needs_background": "light"
     },
     "output_type": "display_data"
    }
   ],
   "source": [
    "ballsfrombowl.Print()  #posterior values\n",
    "tb.thinkplot.Hist(ballsfrombowl)"
   ]
  },
  {
   "cell_type": "markdown",
   "metadata": {},
   "source": [
    "Note these are the exact same results we got previously. "
   ]
  },
  {
   "cell_type": "markdown",
   "metadata": {},
   "source": [
    "### Exercise 3\n",
    "\n",
    "Now suppose we replace the black ball we drew and draw again from the **same bowl**, this time getting a white ball. What is the probability that we drew first a black ball then a white ball from bowl 1? Use thinkbayes and the '\\*=' operator to calculate this probability"
   ]
  },
  {
   "cell_type": "code",
   "execution_count": 17,
   "metadata": {},
   "outputs": [],
   "source": [
    "# Solution goes here."
   ]
  },
  {
   "cell_type": "markdown",
   "metadata": {},
   "source": [
    "### Suites and Classes"
   ]
  },
  {
   "cell_type": "markdown",
   "metadata": {},
   "source": [
    "Suppose we had a bunch of non-identical, mutually exclusive and collectively exhaustive set of *hypotheses* we wanted to consider, like bowls in the previous problem, but didn't want to spend all of our time multiplying likelihoods out one by one like before to take into account differences between them. We can represent these as **suites**. Suites are mainly useful in thinkbayes for defining **classes** of objects that make our life a lot easier. We will consider two brief examples where this will be useful. "
   ]
  },
  {
   "cell_type": "markdown",
   "metadata": {},
   "source": [
    "### Example 4"
   ]
  },
  {
   "cell_type": "markdown",
   "metadata": {},
   "source": [
    "Suppose instead of having 2 six-sided dice, we had one four-sided die, one six-sided die, one eight-sided die, and one 12-sided die. Suppose we observe a six. What is the probability that the six came from each of the dice? Let's solve this using  suites and classes.\n"
   ]
  },
  {
   "cell_type": "code",
   "execution_count": 20,
   "metadata": {},
   "outputs": [
    {
     "name": "stdout",
     "output_type": "stream",
     "text": [
      "4 0.0\n",
      "6 0.4444444444444445\n",
      "8 0.33333333333333337\n",
      "12 0.22222222222222224\n"
     ]
    },
    {
     "data": {
      "image/png": "[encoded data removed]",
      "text/plain": [
       "<Figure size 432x288 with 1 Axes>"
      ]
     },
     "metadata": {
      "needs_background": "light"
     },
     "output_type": "display_data"
    }
   ],
   "source": [
    "#solution 1\n",
    "\n",
    "suite=tb.Suite([4,6,8,12])\n",
    "suite[4]=0 #no 6 on 4 sided die\n",
    "suite[6]=(1/6)\n",
    "suite[8]=(1/8)\n",
    "suite[12]=(1/12)\n",
    "suite.Normalize()\n",
    "suite.Print()\n",
    "tb.thinkplot.Hist(suite)"
   ]
  },
  {
   "cell_type": "markdown",
   "metadata": {},
   "source": [
    "Note that this is cumbersome. Let's try something a bit easier and automate the process of finding the likelihood by defining a **class**. Our class will be an exntension of the suite class, and automatically comes with an 'Update' method. We just need to provide a likelihood method for computing the likelihood."
   ]
  },
  {
   "cell_type": "markdown",
   "metadata": {},
   "source": [
    "#### Exercise 4:\n",
    "\n",
    "Fill in the outline for the class below. We want it to compute the likelihood for each die, given a data (observed outcome), and a hypothesis (some known information about the dice).\n",
    "\n",
    "Once this is filled it, it automatically provides a built in Update function via the Suite. Note that you only need to provide the likelihood. The fairdice will 'inherit' the update method (and some other methods we aren't using) from suite.\n",
    "\n",
    "The update function is \n",
    "\n",
    "```{python3}\n",
    "def Update(self,data):\n",
    "    for hypo in self.Values():\n",
    "        like=self.Likelihood(data,hypo)\n",
    "        self[hypo] *= like\n",
    "    \n",
    "    self.Normalize()\n",
    "```"
   ]
  },
  {
   "cell_type": "code",
   "execution_count": 53,
   "metadata": {},
   "outputs": [],
   "source": [
    "#solution goes here\n",
    "class fairdice(tb.Suite):\n",
    "    # hypo is number of sides on the die\n",
    "    # data is the outcome\n",
    "    def Likelihood(self,data,hypo):\n",
    "    # fill in this\n",
    "    # HINT: You should check and make sure the data occurs at all given the hypo (# of sides)\n",
    "        return ..."
   ]
  },
  {
   "cell_type": "markdown",
   "metadata": {},
   "source": [
    "Now we create a dice object and update it. "
   ]
  },
  {
   "cell_type": "code",
   "execution_count": 23,
   "metadata": {},
   "outputs": [
    {
     "name": "stdout",
     "output_type": "stream",
     "text": [
      "4 0.0\n",
      "6 0.4444444444444445\n",
      "8 0.33333333333333337\n",
      "12 0.22222222222222224\n"
     ]
    }
   ],
   "source": [
    "fairdice=Fairdice([4,6,8,12]) \n",
    "fairdice.Update(6) #normalizes and calculates posterior automatically.\n",
    "fairdice.Print()"
   ]
  },
  {
   "cell_type": "markdown",
   "metadata": {},
   "source": [
    "We can do even further updates."
   ]
  },
  {
   "cell_type": "code",
   "execution_count": 24,
   "metadata": {},
   "outputs": [
    {
     "name": "stdout",
     "output_type": "stream",
     "text": [
      "4 0.0\n",
      "6 0.0\n",
      "8 0.9192938209331653\n",
      "12 0.08070617906683476\n"
     ]
    }
   ],
   "source": [
    "for roll in [8,7,7,5,4]:\n",
    "    fairdice.Update(roll)\n",
    "fairdice.Print()"
   ]
  },
  {
   "cell_type": "markdown",
   "metadata": {},
   "source": [
    "#### PDFs and Updating\n",
    "\n",
    "We will now explore one of the most famous historical problems in statistics, called the **German Tank Problem** and use modern computational tools from ThinkBayes to solve it easily. It turns out it is nearly equivalent to the dice problem. \n",
    "\n",
    "\n",
    "Setting: it is World War II and the US (along with other nations like China and Great Britian) is at war with Germany. The Allies have captured records indicating that the Germans are producing tanks in blocks of 100 sequential numbers per month with not all numbers necessarily used. The Allies recently captured a tank bearing the number 13. They want to estimate how many numbers were used in this block. To solve this, we will use a thinkbayes class again\n"
   ]
  },
  {
   "cell_type": "markdown",
   "metadata": {},
   "source": [
    "<img src=\"Panzer_I_Norway.PNG\">\n",
    "Source: US National Archives"
   ]
  },
  {
   "cell_type": "code",
   "execution_count": 25,
   "metadata": {},
   "outputs": [],
   "source": [
    "class Tank(tb.Suite):\n",
    "    #hypo is the number of tanks\n",
    "    # data is the observed serial number\n",
    "    def Likelihood(self,data,hypo):\n",
    "        if data>hypo:\n",
    "            return 0\n",
    "        else:\n",
    "            return 1/hypo"
   ]
  },
  {
   "cell_type": "markdown",
   "metadata": {},
   "source": [
    "Now, we just use a range for the suite object. Here are the posterior probabilities\n"
   ]
  },
  {
   "cell_type": "code",
   "execution_count": 26,
   "metadata": {},
   "outputs": [
    {
     "name": "stdout",
     "output_type": "stream",
     "text": [
      "Mean: 42.22310725570888\n",
      "Median: 35\n"
     ]
    },
    {
     "data": {
      "image/png": "[encoded data removed]",
      "text/plain": [
       "<Figure size 432x288 with 1 Axes>"
      ]
     },
     "metadata": {
      "needs_background": "light"
     },
     "output_type": "display_data"
    }
   ],
   "source": [
    "tank=Tank(range(1,101))\n",
    "tank.Update(13) #normalizes and calculates posterior automatically.\n",
    "tb.thinkplot.Pdf(tank)\n",
    "print('Mean:',tank.Mean())\n",
    "print('Median:',tank.Median())"
   ]
  },
  {
   "cell_type": "markdown",
   "metadata": {},
   "source": [
    "So if we just wanted to guess the mean, we would guess they had made about 42 tanks, while if we wanted the median we would have guessed 35 tanks. What is the maximum likelihood estimate? The PDF here shows the continous distribution that corresponds to our posterior. "
   ]
  },
  {
   "cell_type": "markdown",
   "metadata": {},
   "source": [
    "Now suppose we observe another tank with number 37. What are our new estimates?"
   ]
  },
  {
   "cell_type": "code",
   "execution_count": 27,
   "metadata": {},
   "outputs": [
    {
     "name": "stdout",
     "output_type": "stream",
     "text": [
      "Mean: 58.056534230793154\n",
      "Median: 54\n"
     ]
    },
    {
     "data": {
      "image/png": "[encoded data removed]",
      "text/plain": [
       "<Figure size 432x288 with 1 Axes>"
      ]
     },
     "metadata": {
      "needs_background": "light"
     },
     "output_type": "display_data"
    }
   ],
   "source": [
    "tank.Update(37)\n",
    "tb.thinkplot.Pdf(tank)\n",
    "print('Mean:',tank.Mean())\n",
    "print('Median:',tank.Median())"
   ]
  },
  {
   "cell_type": "markdown",
   "metadata": {},
   "source": [
    "As you can also see, we can also use bayesian inference for PDFs, which loosely are continuous versions of a PMF (a map from a continuum of values to a density now, rather than a probability. The densities, however, integrate to probabilities.)\n",
    "\n",
    "Note also, that when we update, we take the previous posterior as our new prior. We then multiply by a new likelihood and generate a new posterior.\n",
    "\n",
    "How has this posterior changed from the previous update?|"
   ]
  },
  {
   "cell_type": "markdown",
   "metadata": {},
   "source": [
    "### Exercise 5:\n",
    "\n",
    "Take the tank problem, but suppose there are first 200, then 1000, then 10000 possibilities. Given the two updates from before, plot the pdfs of these graphs and report the means and medians. What happens in the limit to the median as the number of possibilities goes to infinity? What is thte maximum of the posterior? Is this what you expected?"
   ]
  },
  {
   "cell_type": "code",
   "execution_count": 54,
   "metadata": {},
   "outputs": [],
   "source": [
    "# solution goes here"
   ]
  },
  {
   "cell_type": "markdown",
   "metadata": {},
   "source": [
    "### Adding in a different prior. \n",
    "\n",
    "Suppose instead of a uniform prior, we had a pareto distribution (sometimes called a power-law distribution) that puts more weight on less observations. A simplified formula for a pareto distribution that starts at 0 is $f(x)=x^{-\\alpha}$  What would our posterior look like now? \n",
    "\n",
    "We can choose a different prior by using the \\_init\\_ method inside our tank class. We demonstrate this below."
   ]
  },
  {
   "cell_type": "code",
   "execution_count": 30,
   "metadata": {},
   "outputs": [],
   "source": [
    "class Tank2(tb.Suite):\n",
    "    #hypo is the number of tanks\n",
    "    # data is the observed serial number\n",
    "    \n",
    "    \n",
    "    # our prior \n",
    "    def __init__(self, hypos, alpha=1.0):\n",
    "        \"\"\"Initializes the hypotheses with a power law distribution.\n",
    "        hypos: sequence of hypotheses\n",
    "        alpha: parameter of the power law prior\n",
    "        \"\"\"\n",
    "        tb.Pmf.__init__(self)\n",
    "        for hypo in hypos:\n",
    "            self.Set(hypo, hypo**(-alpha))\n",
    "        self.Normalize()\n",
    "        \n",
    "\n",
    "    def Likelihood(self,data,hypo):\n",
    "        if data>hypo:\n",
    "            return 0\n",
    "        else:\n",
    "            return 1/hypo\n",
    "\n",
    "def MakePosterior(high, dataset, constructor=Tank): ## automatically generates a posterior\n",
    "    \"\"\"Solves the tank problem.\n",
    "    \n",
    "    high: int maximum number of tank\n",
    "    dataset: sequence of observed train numbers\n",
    "    constructor: function used to construct the Tank object\n",
    "    \n",
    "    returns: Tank object representing the posterior suite\n",
    "    \"\"\"\n",
    "    hypos = range(1, high+1)\n",
    "    suite = constructor(hypos)\n",
    "\n",
    "    for data in dataset:\n",
    "        suite.Update(data)\n",
    "\n",
    "    return suite"
   ]
  },
  {
   "cell_type": "markdown",
   "metadata": {},
   "source": [
    "Let's see how this changes our results. We will also show how you can plot multiple plots at the same time."
   ]
  },
  {
   "cell_type": "code",
   "execution_count": 31,
   "metadata": {},
   "outputs": [
    {
     "data": {
      "image/png": "[encoded data removed]",
      "text/plain": [
       "<Figure size 432x288 with 1 Axes>"
      ]
     },
     "metadata": {
      "needs_background": "light"
     },
     "output_type": "display_data"
    }
   ],
   "source": [
    "high = 100\n",
    "hypos = range(1, high+1)\n",
    "suite1 = Tank(hypos) #uniform\n",
    "suite2 = Tank2(hypos) #power law\n",
    "suite1.label='uniform'\n",
    "suite2.label='power law'\n",
    "#priors\n",
    "tb.thinkplot.Pdf(suite1)\n",
    "tb.thinkplot.Pdf(suite2)\n",
    "tb.thinkplot.Config(title=\"Prior on Tanks\", xlabel='Number of Tanks',ylabel=\"Probability\")\n"
   ]
  },
  {
   "cell_type": "markdown",
   "metadata": {},
   "source": [
    "Now let's observe our first tank"
   ]
  },
  {
   "cell_type": "code",
   "execution_count": 32,
   "metadata": {},
   "outputs": [
    {
     "data": {
      "image/png": "[encoded data removed]",
      "text/plain": [
       "<Figure size 432x288 with 1 Axes>"
      ]
     },
     "metadata": {
      "needs_background": "light"
     },
     "output_type": "display_data"
    }
   ],
   "source": [
    "dataset = [13]\n",
    "high = 1000 #max observation.\n",
    "\n",
    "tb.thinkplot.PrePlot(num=2) #number of graphs\n",
    "\n",
    "constructors = [Tank, Tank2] #tells classes to use\n",
    "labels = ['uniform', 'power law']\n",
    "\n",
    "\n",
    "for constructor, label in zip(constructors, labels): #zip returns iterable of tuples\n",
    "    suite = MakePosterior(high, dataset, constructor) #generates posterior automatically given data, high and the class type by running update\n",
    "    suite.label = label #assigns label\n",
    "    tb.thinkplot.Pmf(suite)\n",
    "\n",
    "tb.thinkplot.Config(title=\"posterior of tanks\", xlabel='Number of tanks',\n",
    "                 ylabel='Probability')\n"
   ]
  },
  {
   "cell_type": "markdown",
   "metadata": {},
   "source": [
    "Now we look at the mean and median for this problem after observing 13,and 37 numbered tanks"
   ]
  },
  {
   "cell_type": "code",
   "execution_count": 33,
   "metadata": {},
   "outputs": [
    {
     "name": "stdout",
     "output_type": "stream",
     "text": [
      "Mean  500 68.04641878039395\n",
      "Median  500 51\n",
      "Mean  1000 70.43922797262216\n",
      "Median  1000 52\n",
      "Mean  2000 71.70083587043216\n",
      "Median  2000 52\n",
      "Mean  10000 72.74361188704168\n",
      "Median  10000 52\n",
      "Mean  100000 72.98248919765109\n",
      "Median  100000 52\n",
      "Mean  1000000 73.00646443705355\n",
      "Median  1000000 52\n"
     ]
    }
   ],
   "source": [
    "dataset = [13,37]\n",
    "for high in [500, 1000, 2000,10000,100000,1000000]:\n",
    "    suite = MakePosterior(high, dataset, Tank2)\n",
    "    print('Mean ', high, suite.Mean())\n",
    "    print('Median ', high, suite.Median())"
   ]
  },
  {
   "cell_type": "markdown",
   "metadata": {},
   "source": [
    "Unlike before, we now have both the mean and median of the posterior converging. The median is now 52, while the mean seems to be converging to ~73"
   ]
  },
  {
   "cell_type": "markdown",
   "metadata": {},
   "source": [
    "### Credible Intervals\n",
    "Finally, we can compute the so-called  credible interval, which we can think of as a bayesian analogue to the confidence interval. This tells us where we expect our observations to fall x% of the time given our data. Here we will calculate the bounds below which we expect our data to fall 5% of the time and above which we expect our data to fall 5% of the time. We return to the uniform prior with one observation of 13."
   ]
  },
  {
   "cell_type": "code",
   "execution_count": 34,
   "metadata": {},
   "outputs": [
    {
     "data": {
      "text/plain": [
       "(16, 804)"
      ]
     },
     "execution_count": 34,
     "metadata": {},
     "output_type": "execute_result"
    }
   ],
   "source": [
    "hypos = range(1, 1001)\n",
    "suite = Tank(hypos)\n",
    "suite.Update(13)\n",
    "\n",
    "suite.Percentile(5), suite.Percentile(95)"
   ]
  },
  {
   "cell_type": "markdown",
   "metadata": {},
   "source": [
    "We can see for the uniform case that our 90% credible interval is (16,804) We can also plot the cdf."
   ]
  },
  {
   "cell_type": "code",
   "execution_count": 35,
   "metadata": {},
   "outputs": [
    {
     "data": {
      "image/png": "[encoded data removed]",
      "text/plain": [
       "<Figure size 432x288 with 1 Axes>"
      ]
     },
     "metadata": {
      "needs_background": "light"
     },
     "output_type": "display_data"
    }
   ],
   "source": [
    "cdf = tb.Cdf(suite)\n",
    "tb.thinkplot.Cdf(cdf)\n",
    "tb.thinkplot.Config(xlabel='Number of tanks',\n",
    "                 ylabel='Cumulative Probability',\n",
    "                 legend=False)"
   ]
  },
  {
   "cell_type": "markdown",
   "metadata": {},
   "source": [
    "### Exercise 6"
   ]
  },
  {
   "cell_type": "markdown",
   "metadata": {},
   "source": [
    "Please plot the CDF and the 90% and 95% credible interval for the Tank problem with 1000 possible tanks with the powerlaw prior after observing 13 tanks. How does it compare to the uniform prior case? Why?"
   ]
  },
  {
   "cell_type": "code",
   "execution_count": null,
   "metadata": {},
   "outputs": [],
   "source": [
    "# solution goes here"
   ]
  },
  {
   "cell_type": "markdown",
   "metadata": {},
   "source": [
    "## Choosing a prior\n",
    "\n",
    "There are several different ways we can think about choosing a prior? Any suggestions? \n",
    "\n",
    "\n",
    "1. One option is to choose a prior that tells us nothing that the data doesn't already tell us. This is a so-called uninformative prior. The most commonly used prior of this type is called Jeffrey's prior, and lies beyond the scope of this class. However, we rarely want to use this in practice. Why?\n",
    "\n",
    "2. The second type is a prior that makes the problem really about the likelihood. This makes the bayesian method equivalent to some of the 'frequentist' likelihood methods you learned previously. This actually carries some additional information, however,  as it tells you the range of the variables. It is not totally uninformative.\n",
    "\n",
    "3. The third option is to use so-called 'expert information'. What do you think this means?\n",
    "\n",
    "4. The fourth option is to use a so-called regularizing prior. If we observe less data than the variables we have or only slightly more data than as variables, we oftentimes want to reduce the number of variables we can use. This 'ties our hands' and prevents us from overfitting the data. We can do this in bayesian statistics.\n",
    "\n",
    "5. The fifth option is to use some aspect of the data or previously observed data to inform our estimates. For example, suppose we know the mean and variance of the data from a previous example. It turns out the 'least informative' prior given that we know that additional information is a normal prior with that mean and variance. For any statistic we know, there are lists online that give the least informative variable. These are sometimes referred to as 'weakly informative' priors.\n",
    "\n",
    "6. Finally, we can cheat and make our lives easier. It turns out there are some priors that given a likelihood from some distribution, produce a posterior from the same distribution family as the prior. This makes computing the prior trivial. These are called 'conjugate priors'. \n",
    "**Example**: if we have a normal prior and normal likelihood, we get a normal posterior.  \n",
    "**Example 2**: If we have a beta prior with a binomial likelihood, it turns out our posterior is also from a beta distribution. We can plug this into a calculator and instantly get any answer we want and know the shape of the entire distribution without doing anything fancy. "
   ]
  },
  {
   "cell_type": "markdown",
   "metadata": {},
   "source": [
    "### Monte Carlo Simulation\n",
    "\n",
    "Now for something completely different. Suppose we have a difficult problem. We want to numerically estimate $\\pi$. How can we do this?\n",
    "\n",
    "As you probably remember, we know that the area of a unit circle is exactly $\\pi$. We will take advantage of this. Consider the first quadrant of the circle, which we know has area $\\pi/4$. We will try the following algorithm: \n",
    "\n",
    "Take a random  draw of $\\left(x,y\\right) \\sim \\text{Uniform}[0,1]\\times \\text{Uniform}[0,1]$. This is a uniform draw from the unit square. If that number satisfies $x^2+y^2\\leq 1$, we will give it the value 1. Otherwise we will give it the value 0.\n",
    "\n",
    "The probability of a point falling inside the unit square is 1. The probability of a point falling inside $x^2+y^2\\leq 1$ is $A(circle)/A(square) = \\pi/4$. If we take the mean of our points (sum their value and divide by the number), we get $$E(points) =  (1*P(circle)+0*P(not in circle))$$ which can be approximated by the sample average $$\\# \\text{samples in circle}/\\#\\text{ samples}$$. In the limit as $n$ goes to infinity, we expect that our sample average will go exactly to $\\pi/4$, which if we multiply this by 4, we exactly get the value of $\\pi$.\n",
    "\n",
    "We will try implementing this below and see if it works."
   ]
  },
  {
   "cell_type": "markdown",
   "metadata": {},
   "source": [
    "### Exercise 7: \n",
    "\n",
    "Try writing out this monte carlo simulation and graphing the result. "
   ]
  },
  {
   "cell_type": "code",
   "execution_count": 55,
   "metadata": {},
   "outputs": [],
   "source": [
    "# solution goes here"
   ]
  },
  {
   "cell_type": "markdown",
   "metadata": {},
   "source": [
    "The Monte Carlo method is useful for Bayesian statistics, because oftentimes it can be difficult to analytically find the posterior. \n",
    "\n",
    "In those cases, we can use Monte Carlo to simulate what the distribution looks like. You will see an example of this on your homework."
   ]
  },
  {
   "cell_type": "markdown",
   "metadata": {},
   "source": [
    "\n",
    "### Homework Problems"
   ]
  },
  {
   "cell_type": "markdown",
   "metadata": {},
   "source": [
    "#### HW 1: Solving the Monty Hall problem"
   ]
  },
  {
   "cell_type": "markdown",
   "metadata": {},
   "source": [
    "<img src=\"Monty_open_door.svg.png\">\n",
    "Source: Wikipedia"
   ]
  },
  {
   "cell_type": "markdown",
   "metadata": {},
   "source": [
    "We have the following problem. Suppose that you have 3 doors. Behind 2 of the doors are goats, but behind one of the doors is a Ferrari. You want the Ferrari. The game works as follows. First, you can choose a door at random. Then, the game-host will open one of the other doors containing a goat. You have the option to switch doors to the remaining door or keep the door you started with.\n",
    "\n",
    "What is the probability of the Ferrari being behind the door you could switch to? What about the one you started with?\n",
    "\n",
    "What is the best strategy? Should you switch, stay with your door, or does it not matter?\n",
    "\n",
    "(Hint: Use thinkbayes to solve this problem. What is the prior here? What is the likelihood? )\n",
    "\n",
    "(Hint 2: Consider the case where you choose door 1. The likelihood is what is the probability of door 3 being opened given the different possible positions of the car?) \n"
   ]
  },
  {
   "cell_type": "code",
   "execution_count": null,
   "metadata": {},
   "outputs": [],
   "source": [
    "# you can put solution here or in new notebook with the imported libraries called at the top of this notebook"
   ]
  },
  {
   "cell_type": "markdown",
   "metadata": {},
   "source": [
    "#### HW 2: Flipping a coin with a PMF\n",
    "\n",
    "Suppose we have a coin that has the following property. You flip a coin 10 times and get 8 heads in the order HTHHHHHHTH. Implement a class that represents all the possibilities of a possibly biased coin by extending a suite in thinkbayes. Start with a $\\text{Uniform}[0,1]$ prior. Then, update sequentially. Plot the posterior probability density function at each update over p, the probability of getting heads. What happens to the distribution over time? What is the probability that the coin has a greater than 50% chance of heads (hint: use the CDF)? What is the mean, and median of these estimates? \n",
    "\n",
    "Hint: for any coin that has n flips, the coin will have a likelihood from the binomial distribution. You can look up the formula for the likelihood of the binomial online. Remember that in a likelihood, $p$ is variable while the parameters are fixed.\n",
    "\n",
    "\n",
    "Now suppose, we started with a $\\text{Beta}(2,2)$ prior.  Plot the posterior distribution at each update and report the mean. How does this change the resulting posterior distribution from the uniform case. (Hint, for the beta prior, you can use thinkbayes but you don't need to. You can use the beta distribution built into numpy noting that the beta is a conjugate prior for the binomial. You can find the formula for how the binomial updates at [Wikipedia](https://en.wikipedia.org/wiki/Conjugate_prior).)"
   ]
  },
  {
   "cell_type": "code",
   "execution_count": null,
   "metadata": {},
   "outputs": [],
   "source": [
    "# you can put solution here or in new notebook with the imported libraries called at the top of this notebook"
   ]
  },
  {
   "cell_type": "markdown",
   "metadata": {},
   "source": [
    "#### HW 3: Monty Hall Continued\n",
    "Your friend doesn't believe that Bayesian methods work and still doesn't believe the result you got for Monty Hall. You want to prove to your friend that they do. We will convince them numerically. Let's write a Monte Carlo simulation program that will prove that the results you got in the Monty Hall problem are accurate. Simulate the probabilities of the car being behind the door you can switch to and the door you chose over 1000 runs and prove that these results converge to the probability estimates you got earlier. Plot the probability from each of these runs. Remember that in Monte Carlo, the probabilities are sample averages of the runs.  (Note: the famous mathematician Paul Erdős was only convinced of the accuracy of the results after seeing this simulation.) "
   ]
  },
  {
   "cell_type": "code",
   "execution_count": null,
   "metadata": {},
   "outputs": [],
   "source": [
    "# you can put solution here or in new notebook with the imported libraries called at the top of this notebook"
   ]
  }
 ],
 "metadata": {
  "kernelspec": {
   "display_name": "Python 3",
   "language": "python",
   "name": "python3"
  },
  "language_info": {
   "codemirror_mode": {
    "name": "ipython",
    "version": 3
   },
   "file_extension": ".py",
   "mimetype": "text/x-python",
   "name": "python",
   "nbconvert_exporter": "python",
   "pygments_lexer": "ipython3",
   "version": "3.6.5"
  }
 },
 "nbformat": 4,
 "nbformat_minor": 2
}

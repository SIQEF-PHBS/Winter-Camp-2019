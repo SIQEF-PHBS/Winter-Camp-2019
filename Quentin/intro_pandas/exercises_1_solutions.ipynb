{
 "cells": [
  {
   "cell_type": "markdown",
   "metadata": {},
   "source": [
    "## Exercises\n",
    "\n",
    "Answer the  following questions."
   ]
  },
  {
   "cell_type": "code",
   "execution_count": 14,
   "metadata": {},
   "outputs": [],
   "source": [
    "import pandas as pd\n",
    "import numpy as np\n",
    "import matplotlib.pyplot as plt\n",
    "\n",
    "%matplotlib notebook\n",
    "\n",
    "stocks_filename = 'stocks_data.csv'\n",
    "stocks_df = pd.read_csv(stocks_filename)"
   ]
  },
  {
   "cell_type": "markdown",
   "metadata": {},
   "source": [
    "### Q1: What is the maximum intra-day price change in nominal terms in this dataset?"
   ]
  },
  {
   "cell_type": "code",
   "execution_count": 3,
   "metadata": {},
   "outputs": [
    {
     "data": {
      "text/plain": [
       "138.75"
      ]
     },
     "execution_count": 3,
     "metadata": {},
     "output_type": "execute_result"
    }
   ],
   "source": [
    "(stocks_df.open - stocks_df.close).max()"
   ]
  },
  {
   "cell_type": "markdown",
   "metadata": {},
   "source": [
    "### Q2: Which ticker had this price change and when?"
   ]
  },
  {
   "cell_type": "code",
   "execution_count": 4,
   "metadata": {},
   "outputs": [
    {
     "data": {
      "text/plain": [
       "ticker                                      AIG\n",
       "open                                    1918.75\n",
       "close                                      1780\n",
       "adj_close                               1356.67\n",
       "low                                        1760\n",
       "high                                       1920\n",
       "volume                                   619200\n",
       "date                                 2001-01-04\n",
       "exchange                                   NYSE\n",
       "name         AMERICAN INTERNATIONAL GROUP, INC.\n",
       "industry             PROPERTY-CASUALTY INSURERS\n",
       "Name: 71289, dtype: object"
      ]
     },
     "execution_count": 4,
     "metadata": {},
     "output_type": "execute_result"
    }
   ],
   "source": [
    "stocks_df.iloc[(stocks_df.open - stocks_df.close).idxmax()]"
   ]
  },
  {
   "cell_type": "markdown",
   "metadata": {},
   "source": [
    "### Q3: How many companies have experienced closing at a price 5 or higher than their open?"
   ]
  },
  {
   "cell_type": "code",
   "execution_count": 5,
   "metadata": {},
   "outputs": [
    {
     "data": {
      "text/plain": [
       "279"
      ]
     },
     "execution_count": 5,
     "metadata": {},
     "output_type": "execute_result"
    }
   ],
   "source": [
    "stocks_df[stocks_df.close - stocks_df.open > 5].ticker.unique().size"
   ]
  },
  {
   "cell_type": "markdown",
   "metadata": {},
   "source": [
    "### Q4: How many companies have traded at an `adj_close` between 20 and 21?"
   ]
  },
  {
   "cell_type": "code",
   "execution_count": 6,
   "metadata": {},
   "outputs": [
    {
     "data": {
      "text/plain": [
       "455"
      ]
     },
     "execution_count": 6,
     "metadata": {},
     "output_type": "execute_result"
    }
   ],
   "source": [
    "stocks_df[(stocks_df.adj_close > 20) & (stocks_df.adj_close < 21)].ticker.unique().size"
   ]
  },
  {
   "cell_type": "markdown",
   "metadata": {},
   "source": [
    "### Q5: How can you select the 10th row of `stocks_df` in one line without using `loc` or `iloc`? Find at least 3 different ways."
   ]
  },
  {
   "cell_type": "code",
   "execution_count": 8,
   "metadata": {},
   "outputs": [
    {
     "data": {
      "text/html": [
       "<div>\n",
       "<style scoped>\n",
       "    .dataframe tbody tr th:only-of-type {\n",
       "        vertical-align: middle;\n",
       "    }\n",
       "\n",
       "    .dataframe tbody tr th {\n",
       "        vertical-align: top;\n",
       "    }\n",
       "\n",
       "    .dataframe thead th {\n",
       "        text-align: right;\n",
       "    }\n",
       "</style>\n",
       "<table border=\"1\" class=\"dataframe\">\n",
       "  <thead>\n",
       "    <tr style=\"text-align: right;\">\n",
       "      <th></th>\n",
       "      <th>ticker</th>\n",
       "      <th>open</th>\n",
       "      <th>close</th>\n",
       "      <th>adj_close</th>\n",
       "      <th>low</th>\n",
       "      <th>high</th>\n",
       "      <th>volume</th>\n",
       "      <th>date</th>\n",
       "      <th>exchange</th>\n",
       "      <th>name</th>\n",
       "      <th>industry</th>\n",
       "    </tr>\n",
       "  </thead>\n",
       "  <tbody>\n",
       "    <tr>\n",
       "      <th>9</th>\n",
       "      <td>AAPL</td>\n",
       "      <td>0.633929</td>\n",
       "      <td>0.633929</td>\n",
       "      <td>0.02863</td>\n",
       "      <td>0.633929</td>\n",
       "      <td>0.636161</td>\n",
       "      <td>13893600</td>\n",
       "      <td>1980-12-26</td>\n",
       "      <td>NASDAQ</td>\n",
       "      <td>APPLE INC.</td>\n",
       "      <td>COMPUTER MANUFACTURING</td>\n",
       "    </tr>\n",
       "  </tbody>\n",
       "</table>\n",
       "</div>"
      ],
      "text/plain": [
       "  ticker      open     close  adj_close       low      high    volume  \\\n",
       "9   AAPL  0.633929  0.633929    0.02863  0.633929  0.636161  13893600   \n",
       "\n",
       "         date exchange        name                industry  \n",
       "9  1980-12-26   NASDAQ  APPLE INC.  COMPUTER MANUFACTURING  "
      ]
     },
     "execution_count": 8,
     "metadata": {},
     "output_type": "execute_result"
    }
   ],
   "source": [
    "stocks_df[9:10]"
   ]
  },
  {
   "cell_type": "code",
   "execution_count": 9,
   "metadata": {},
   "outputs": [
    {
     "data": {
      "text/html": [
       "<div>\n",
       "<style scoped>\n",
       "    .dataframe tbody tr th:only-of-type {\n",
       "        vertical-align: middle;\n",
       "    }\n",
       "\n",
       "    .dataframe tbody tr th {\n",
       "        vertical-align: top;\n",
       "    }\n",
       "\n",
       "    .dataframe thead th {\n",
       "        text-align: right;\n",
       "    }\n",
       "</style>\n",
       "<table border=\"1\" class=\"dataframe\">\n",
       "  <thead>\n",
       "    <tr style=\"text-align: right;\">\n",
       "      <th></th>\n",
       "      <th>ticker</th>\n",
       "      <th>open</th>\n",
       "      <th>close</th>\n",
       "      <th>adj_close</th>\n",
       "      <th>low</th>\n",
       "      <th>high</th>\n",
       "      <th>volume</th>\n",
       "      <th>date</th>\n",
       "      <th>exchange</th>\n",
       "      <th>name</th>\n",
       "      <th>industry</th>\n",
       "    </tr>\n",
       "  </thead>\n",
       "  <tbody>\n",
       "    <tr>\n",
       "      <th>9</th>\n",
       "      <td>AAPL</td>\n",
       "      <td>0.633929</td>\n",
       "      <td>0.633929</td>\n",
       "      <td>0.02863</td>\n",
       "      <td>0.633929</td>\n",
       "      <td>0.636161</td>\n",
       "      <td>13893600</td>\n",
       "      <td>1980-12-26</td>\n",
       "      <td>NASDAQ</td>\n",
       "      <td>APPLE INC.</td>\n",
       "      <td>COMPUTER MANUFACTURING</td>\n",
       "    </tr>\n",
       "  </tbody>\n",
       "</table>\n",
       "</div>"
      ],
      "text/plain": [
       "  ticker      open     close  adj_close       low      high    volume  \\\n",
       "9   AAPL  0.633929  0.633929    0.02863  0.633929  0.636161  13893600   \n",
       "\n",
       "         date exchange        name                industry  \n",
       "9  1980-12-26   NASDAQ  APPLE INC.  COMPUTER MANUFACTURING  "
      ]
     },
     "execution_count": 9,
     "metadata": {},
     "output_type": "execute_result"
    }
   ],
   "source": [
    "stocks_df[stocks_df.index == 9]"
   ]
  },
  {
   "cell_type": "code",
   "execution_count": 10,
   "metadata": {},
   "outputs": [
    {
     "data": {
      "text/plain": [
       "array(['AAPL', 0.633928596973419, 0.633928596973419, 0.0286301076412201,\n",
       "       0.633928596973419, 0.6361607313156129, 13893600, '1980-12-26',\n",
       "       'NASDAQ', 'APPLE INC.', 'COMPUTER MANUFACTURING'], dtype=object)"
      ]
     },
     "execution_count": 10,
     "metadata": {},
     "output_type": "execute_result"
    }
   ],
   "source": [
    "stocks_df.values[9]"
   ]
  },
  {
   "cell_type": "markdown",
   "metadata": {},
   "source": [
    "### Q6: Create a histogram of the number of observations for each exchange."
   ]
  },
  {
   "cell_type": "code",
   "execution_count": 19,
   "metadata": {},
   "outputs": [
    {
     "data": {
      "text/plain": [
       "<matplotlib.axes._subplots.AxesSubplot at 0x113867da0>"
      ]
     },
     "execution_count": 19,
     "metadata": {},
     "output_type": "execute_result"
    },
    {
     "data": {
      "image/png": "[encoded data removed]",
      "text/plain": [
       "<Figure size 432x288 with 1 Axes>"
      ]
     },
     "metadata": {
      "needs_background": "light"
     },
     "output_type": "display_data"
    }
   ],
   "source": [
    "stocks_df.exchange.value_counts().plot(kind='bar')"
   ]
  },
  {
   "cell_type": "markdown",
   "metadata": {},
   "source": [
    "### Q7: How many companies' ticker contain 3 or more letters?\n",
    "\n",
    "Hint: Use the `drop_duplicates` method of a Series."
   ]
  },
  {
   "cell_type": "code",
   "execution_count": 68,
   "metadata": {},
   "outputs": [
    {
     "data": {
      "text/plain": [
       "433"
      ]
     },
     "execution_count": 68,
     "metadata": {},
     "output_type": "execute_result"
    }
   ],
   "source": [
    "(stocks_df.ticker.drop_duplicates().str.len() >= 3).sum()"
   ]
  },
  {
   "cell_type": "markdown",
   "metadata": {},
   "source": [
    "### Q8: Create a Series which contains the first word of each company's name."
   ]
  },
  {
   "cell_type": "code",
   "execution_count": 26,
   "metadata": {},
   "outputs": [
    {
     "data": {
      "text/plain": [
       "0            APPLE\n",
       "1            APPLE\n",
       "2            APPLE\n",
       "3            APPLE\n",
       "4            APPLE\n",
       "5            APPLE\n",
       "6            APPLE\n",
       "7            APPLE\n",
       "8            APPLE\n",
       "9            APPLE\n",
       "10           APPLE\n",
       "11           APPLE\n",
       "12           APPLE\n",
       "13           APPLE\n",
       "14           APPLE\n",
       "15           APPLE\n",
       "16           APPLE\n",
       "17           APPLE\n",
       "18           APPLE\n",
       "19           APPLE\n",
       "20           APPLE\n",
       "21           APPLE\n",
       "22           APPLE\n",
       "23           APPLE\n",
       "24           APPLE\n",
       "25           APPLE\n",
       "26           APPLE\n",
       "27           APPLE\n",
       "28           APPLE\n",
       "29           APPLE\n",
       "            ...   \n",
       "3597506    MONSTER\n",
       "3597507    MONSTER\n",
       "3597508    MONSTER\n",
       "3597509    MONSTER\n",
       "3597510    MONSTER\n",
       "3597511    MONSTER\n",
       "3597512    MONSTER\n",
       "3597513    MONSTER\n",
       "3597514    MONSTER\n",
       "3597515    MONSTER\n",
       "3597516    MONSTER\n",
       "3597517    MONSTER\n",
       "3597518    MONSTER\n",
       "3597519    MONSTER\n",
       "3597520    MONSTER\n",
       "3597521    MONSTER\n",
       "3597522    MONSTER\n",
       "3597523    MONSTER\n",
       "3597524    MONSTER\n",
       "3597525    MONSTER\n",
       "3597526    MONSTER\n",
       "3597527    MONSTER\n",
       "3597528    MONSTER\n",
       "3597529    MONSTER\n",
       "3597530    MONSTER\n",
       "3597531    MONSTER\n",
       "3597532    MONSTER\n",
       "3597533    MONSTER\n",
       "3597534    MONSTER\n",
       "3597535    MONSTER\n",
       "Name: 0, Length: 3597536, dtype: object"
      ]
     },
     "execution_count": 26,
     "metadata": {},
     "output_type": "execute_result"
    }
   ],
   "source": [
    "stocks_df.name.str.split(expand=True)[0]"
   ]
  },
  {
   "cell_type": "markdown",
   "metadata": {},
   "source": [
    "### Q9: Classify the percentage difference between the `close` and `open` for each observation as large if it is greater or equal to 3% and small otherwise."
   ]
  },
  {
   "cell_type": "code",
   "execution_count": 75,
   "metadata": {},
   "outputs": [
    {
     "data": {
      "text/plain": [
       "0          Small\n",
       "1          Small\n",
       "2          Small\n",
       "3          Small\n",
       "4          Small\n",
       "5          Small\n",
       "6          Small\n",
       "7          Small\n",
       "8          Small\n",
       "9          Small\n",
       "10         Small\n",
       "11         Small\n",
       "12         Small\n",
       "13         Small\n",
       "14         Small\n",
       "15         Small\n",
       "16         Small\n",
       "17         Small\n",
       "18         Small\n",
       "19         Small\n",
       "20         Small\n",
       "21         Small\n",
       "22         Small\n",
       "23         Small\n",
       "24         Small\n",
       "25         Small\n",
       "26         Small\n",
       "27         Small\n",
       "28         Small\n",
       "29         Small\n",
       "           ...  \n",
       "3597506    Small\n",
       "3597507    Small\n",
       "3597508    Small\n",
       "3597509    Small\n",
       "3597510    Small\n",
       "3597511    Small\n",
       "3597512    Small\n",
       "3597513    Small\n",
       "3597514    Small\n",
       "3597515    Small\n",
       "3597516    Small\n",
       "3597517    Small\n",
       "3597518    Small\n",
       "3597519    Small\n",
       "3597520    Small\n",
       "3597521    Small\n",
       "3597522    Small\n",
       "3597523    Small\n",
       "3597524    Small\n",
       "3597525    Small\n",
       "3597526    Small\n",
       "3597527    Small\n",
       "3597528    Small\n",
       "3597529    Small\n",
       "3597530    Small\n",
       "3597531    Small\n",
       "3597532    Small\n",
       "3597533    Small\n",
       "3597534    Small\n",
       "3597535    Small\n",
       "Length: 3597536, dtype: object"
      ]
     },
     "execution_count": 75,
     "metadata": {},
     "output_type": "execute_result"
    }
   ],
   "source": [
    "# Approach 1\n",
    "def difference_classifier(difference):\n",
    "    if difference > 0.03:\n",
    "        return 'Large'\n",
    "    else:\n",
    "        return 'Small'\n",
    "\n",
    "(stocks_df.close / stocks_df.open - 1).abs().map(difference_classifier)"
   ]
  },
  {
   "cell_type": "code",
   "execution_count": 76,
   "metadata": {},
   "outputs": [
    {
     "data": {
      "text/plain": [
       "0          Small\n",
       "1          Small\n",
       "2          Small\n",
       "3          Small\n",
       "4          Small\n",
       "5          Small\n",
       "6          Small\n",
       "7          Small\n",
       "8          Small\n",
       "9          Small\n",
       "10         Small\n",
       "11         Small\n",
       "12         Small\n",
       "13         Small\n",
       "14         Small\n",
       "15         Small\n",
       "16         Small\n",
       "17         Small\n",
       "18         Small\n",
       "19         Small\n",
       "20         Small\n",
       "21         Small\n",
       "22         Small\n",
       "23         Small\n",
       "24         Small\n",
       "25         Small\n",
       "26         Small\n",
       "27         Small\n",
       "28         Small\n",
       "29         Small\n",
       "           ...  \n",
       "3597506    Small\n",
       "3597507    Small\n",
       "3597508    Small\n",
       "3597509    Small\n",
       "3597510    Small\n",
       "3597511    Small\n",
       "3597512    Small\n",
       "3597513    Small\n",
       "3597514    Small\n",
       "3597515    Small\n",
       "3597516    Small\n",
       "3597517    Small\n",
       "3597518    Small\n",
       "3597519    Small\n",
       "3597520    Small\n",
       "3597521    Small\n",
       "3597522    Small\n",
       "3597523    Small\n",
       "3597524    Small\n",
       "3597525    Small\n",
       "3597526    Small\n",
       "3597527    Small\n",
       "3597528    Small\n",
       "3597529    Small\n",
       "3597530    Small\n",
       "3597531    Small\n",
       "3597532    Small\n",
       "3597533    Small\n",
       "3597534    Small\n",
       "3597535    Small\n",
       "Length: 3597536, dtype: object"
      ]
     },
     "execution_count": 76,
     "metadata": {},
     "output_type": "execute_result"
    }
   ],
   "source": [
    "# Approach 2\n",
    "mapping = {True: 'Large', False: 'Small'}\n",
    "\n",
    "((stocks_df.close / stocks_df.open - 1).abs() > 0.03).map(mapping)"
   ]
  }
 ],
 "metadata": {
  "kernelspec": {
   "display_name": "Python 3",
   "language": "python",
   "name": "python3"
  },
  "language_info": {
   "codemirror_mode": {
    "name": "ipython",
    "version": 3
   },
   "file_extension": ".py",
   "mimetype": "text/x-python",
   "name": "python",
   "nbconvert_exporter": "python",
   "pygments_lexer": "ipython3",
   "version": "3.6.7"
  },
  "latex_envs": {
   "LaTeX_envs_menu_present": true,
   "autoclose": false,
   "autocomplete": true,
   "bibliofile": "biblio.bib",
   "cite_by": "apalike",
   "current_citInitial": 1,
   "eqLabelWithNumbers": true,
   "eqNumInitial": 1,
   "hotkeys": {
    "equation": "Ctrl-E",
    "itemize": "Ctrl-I"
   },
   "labels_anchors": false,
   "latex_user_defs": false,
   "report_style_numbering": false,
   "user_envs_cfg": false
  }
 },
 "nbformat": 4,
 "nbformat_minor": 2
}

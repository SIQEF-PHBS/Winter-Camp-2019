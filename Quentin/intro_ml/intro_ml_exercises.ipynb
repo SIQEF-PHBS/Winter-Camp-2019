{
 "cells": [
  {
   "cell_type": "code",
   "execution_count": null,
   "metadata": {},
   "outputs": [],
   "source": [
    "import matplotlib.pyplot as plt\n",
    "from sklearn.linear_model import LinearRegression\n",
    "from sklearn.preprocessing import PolynomialFeatures\n",
    "import numpy as np\n",
    "from sklearn.linear_model import Ridge, Lasso\n",
    "from sklearn.metrics import mean_squared_error"
   ]
  },
  {
   "cell_type": "markdown",
   "metadata": {},
   "source": [
    "## Exercise 1"
   ]
  },
  {
   "cell_type": "markdown",
   "metadata": {},
   "source": [
    "The datasets `exercise1_x.csv` and `exercise1_y.csv` were generated using a linear model of the form $y=\\sum_{n=0}^{N}a_{n}x^{n}+\\epsilon$. First, state a capacity parameter for this type of model and then find an appropriate value for this dataset. You may find `sklearn.linear_model.LinearRegression` and `sklearn.preprocessing.PolynomialFeatures` useful for this."
   ]
  },
  {
   "cell_type": "markdown",
   "metadata": {},
   "source": [
    "Capacity parameter: ?"
   ]
  },
  {
   "cell_type": "code",
   "execution_count": null,
   "metadata": {},
   "outputs": [],
   "source": [
    "x = np.load('exercise1_x.npy')\n",
    "y = np.load('exercise1_y.npy')"
   ]
  },
  {
   "cell_type": "code",
   "execution_count": null,
   "metadata": {},
   "outputs": [],
   "source": [
    "# Your code goes here"
   ]
  },
  {
   "cell_type": "code",
   "execution_count": null,
   "metadata": {},
   "outputs": [],
   "source": []
  },
  {
   "cell_type": "code",
   "execution_count": null,
   "metadata": {},
   "outputs": [],
   "source": []
  },
  {
   "cell_type": "markdown",
   "metadata": {},
   "source": [
    "## Exercise 2\n",
    "\n",
    "Consider the following model:\n",
    "\n",
    "$$\n",
    "y = 50 + 0.05x - 0.01x^{2} + 0.002x^{3} + \\epsilon  \n",
    "$$\n",
    "$$\n",
    "\\epsilon\\sim N\\left(0,15\\right)    \n",
    "$$\n",
    "$$\n",
    "X\\sim U\\left(15,65\\right)  \n",
    "$$\n",
    "\n",
    "For sample sizes between 20 and 100, first draw a training and test set and then compute the test error for polynomials of degree 3, 5, 7, and 9. Then, repeat this experiment 200 times to obtain an average test error for each sample size and polynomial degree pair. You may use `sklearn.metrics.mean_squared_error`. Plot the average test error.\n",
    "\n",
    "**What can you learn from this experiment?**\n",
    "\n",
    "You may use `np.random.seed(3)` if you want to replicate the proposed solution."
   ]
  },
  {
   "cell_type": "code",
   "execution_count": null,
   "metadata": {},
   "outputs": [],
   "source": [
    "# Your code goes here"
   ]
  },
  {
   "cell_type": "code",
   "execution_count": null,
   "metadata": {},
   "outputs": [],
   "source": []
  },
  {
   "cell_type": "markdown",
   "metadata": {},
   "source": [
    "## Exercise 3\n",
    "\n",
    "Consider the following model:\n",
    "\n",
    "$$\n",
    "y = 0.5 + 0.7x_{1} + 1.5x_{2} - 0.4x_{3} + \\epsilon\n",
    "$$\n",
    "$$\n",
    "\\epsilon\\sim N\\left(0,1\\right)    \n",
    "$$\n",
    "\n",
    "For $i=1,\\dots,6$, draw $x_{i}\\sim N\\left(0,1\\right)$ and compute $y$.\n",
    "\n",
    "Estimate the following model using `sklearn.linear_model.Lasso` and `sklearn.linear_model.Ridge`:\n",
    "\n",
    "$$\n",
    "y=\\beta_{0}+\\sum_{i=1}^{6}\\beta_{i}x_{i}\n",
    "$$ \n",
    "\n",
    "Plot the estimated weights for different level of regularization $\\lambda$.\n",
    "\n",
    "Hint: Use $\\lambda_{LASSO}\\in\\left[0,1\\right]$ and $\\lambda_{RIDGE}\\in\\left[0,10000\\right]$.\n",
    "\n",
    "**What can you learn from this experiment?**\n",
    "\n",
    "You may use `np.random.seed(10)` if you want to replicate the proposed solution."
   ]
  },
  {
   "cell_type": "code",
   "execution_count": null,
   "metadata": {},
   "outputs": [],
   "source": [
    "# Your code goes here"
   ]
  },
  {
   "cell_type": "code",
   "execution_count": null,
   "metadata": {},
   "outputs": [],
   "source": []
  },
  {
   "cell_type": "code",
   "execution_count": null,
   "metadata": {},
   "outputs": [],
   "source": []
  },
  {
   "cell_type": "code",
   "execution_count": null,
   "metadata": {},
   "outputs": [],
   "source": []
  }
 ],
 "metadata": {
  "kernelspec": {
   "display_name": "Python 3",
   "language": "python",
   "name": "python3"
  },
  "language_info": {
   "codemirror_mode": {
    "name": "ipython",
    "version": 3
   },
   "file_extension": ".py",
   "mimetype": "text/x-python",
   "name": "python",
   "nbconvert_exporter": "python",
   "pygments_lexer": "ipython3",
   "version": "3.6.7"
  },
  "latex_envs": {
   "LaTeX_envs_menu_present": true,
   "autoclose": false,
   "autocomplete": true,
   "bibliofile": "biblio.bib",
   "cite_by": "apalike",
   "current_citInitial": 1,
   "eqLabelWithNumbers": true,
   "eqNumInitial": 1,
   "hotkeys": {
    "equation": "Ctrl-E",
    "itemize": "Ctrl-I"
   },
   "labels_anchors": false,
   "latex_user_defs": false,
   "report_style_numbering": false,
   "user_envs_cfg": false
  }
 },
 "nbformat": 4,
 "nbformat_minor": 2
}

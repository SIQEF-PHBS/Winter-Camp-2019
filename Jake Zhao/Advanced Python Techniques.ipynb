{
 "cells": [
  {
   "cell_type": "markdown",
   "metadata": {},
   "source": [
    "# Advanced Python Techniques"
   ]
  },
  {
   "cell_type": "markdown",
   "metadata": {},
   "source": [
    "## Outline\n",
    "- [Overview](#Outline 1)\n",
    "- [About OOP](#Outline 2)\n",
    "- [Defining Your Own Classes](#Outline 3)\n",
    "- [Special Methods](#Outline 4)\n",
    "- [Exercises](#Outline 5)\n",
    "- [Inheritance](#Inheritance)\n",
    "- [Vectorization](#Vectorization)\n",
    "- [Numba](#Numba)"
   ]
  },
  {
   "cell_type": "markdown",
   "metadata": {},
   "source": [
    "## <div id=\"Outline 1\"></div>Overview"
   ]
  },
  {
   "cell_type": "markdown",
   "metadata": {},
   "source": [
    "OOP is one of the **major paradigms** in programming, and nicely supported in Python\n",
    "\n",
    "OOP has become an **important concept** in modern software engineering because \n",
    "- It can help facilitate clean, efficient code (if used well)\n",
    "- The OOP design pattern fits well with many computing problems\n",
    "\n",
    "OOP is about producing **well organized** code — an important determinant of productivity\n",
    "\n",
    "Moreover, OOP is a part of Python, and to progress further it’s necessary to understand the basics"
   ]
  },
  {
   "cell_type": "markdown",
   "metadata": {},
   "source": [
    "## <div id=\"Outline 2\"></div>About OOP"
   ]
  },
  {
   "cell_type": "markdown",
   "metadata": {},
   "source": [
    "### 1. Key Concepts"
   ]
  },
  {
   "cell_type": "markdown",
   "metadata": {},
   "source": [
    "**(1) Non-OOP Paradigm** "
   ]
  },
  {
   "cell_type": "markdown",
   "metadata": {},
   "source": [
    "Traditionally, programming was **procedural**. In a procedural language, functions or procedures contain a series of computational steps. In the body of a program, calls to these functions are performed as necessary and there isn't additional organization beyond that.\n",
    "\n",
    "More precisely, a procedural language works as follows    \n",
    "- The program has a state that contains the values of its variables    \n",
    "- Functions are called to act on these data according to the task    \n",
    "- Data are passed back and forth via function calls"
   ]
  },
  {
   "cell_type": "markdown",
   "metadata": {},
   "source": [
    "**(2) OOP Paradigm**"
   ]
  },
  {
   "cell_type": "markdown",
   "metadata": {},
   "source": [
    "In the OOP paradigm, <font color=#DC143C>data and functions</font> are bundled together into **“objects”**"
   ]
  },
  {
   "cell_type": "markdown",
   "metadata": {},
   "source": [
    "- For example, you are an object \"human.\"     \n",
    ">You have some data, such as height, weight, sex, age, skin color, etc...   \n",
    "You have some functions/methods, such as eat(), sleep(), study(), watch_tv()"
   ]
  },
  {
   "cell_type": "markdown",
   "metadata": {},
   "source": [
    "- Another example is a Python list, which not only stores data, but also knows how to sort itself, etc..."
   ]
  },
  {
   "cell_type": "code",
   "execution_count": 37,
   "metadata": {},
   "outputs": [
    {
     "data": {
      "text/plain": [
       "[4, 5, 1]"
      ]
     },
     "execution_count": 37,
     "metadata": {},
     "output_type": "execute_result"
    }
   ],
   "source": [
    "x = [1, 5, 4]\n",
    "x.reverse()\n",
    "x"
   ]
  },
  {
   "cell_type": "markdown",
   "metadata": {},
   "source": [
    "> Here `sort` is a function that is “part of” the list object    \n",
    "> In the OOP setting, functions are usually called **methods** (e.g., `sort` is a list method)"
   ]
  },
  {
   "cell_type": "markdown",
   "metadata": {},
   "source": [
    "**(3) A brief comparison of procedural programming and object-oriented programming**"
   ]
  },
  {
   "cell_type": "markdown",
   "metadata": {},
   "source": [
    "**What do you think about first - functions or data type?**"
   ]
  },
  {
   "cell_type": "markdown",
   "metadata": {},
   "source": [
    "> **Procedural**: Decompose the task into **series of actions** which you feed data into later     \n",
    "- **Functions $\\leftarrow$ Data**"
   ]
  },
  {
   "cell_type": "markdown",
   "metadata": {},
   "source": [
    "> **OOP**: Decompose the task into **a bunch of data types (objects)** which you associate a set of functions to    \n",
    "- **Data types $\\leftarrow$ Functions**"
   ]
  },
  {
   "cell_type": "markdown",
   "metadata": {},
   "source": [
    "- **Use playing chess as an example**"
   ]
  },
  {
   "cell_type": "markdown",
   "metadata": {},
   "source": [
    "> **Procedural Paradigm:** decomposing into a series of steps \n",
    ">>start the game;    \n",
    "player1 moves;      \n",
    "draw the chessboard;      \n",
    "check if there is a winner;      \n",
    "player2 moves;       \n",
    "and so on"
   ]
  },
  {
   "cell_type": "markdown",
   "metadata": {},
   "source": [
    "> **OOP Paradigm:** decomposing into several objects    \n",
    ">> player1 and player2: who has the right to move;  \n",
    "chessboard system: which is used to draw the resulting chessboard;  \n",
    "judging system: which is used to judge the winner according to the rules"
   ]
  },
  {
   "cell_type": "markdown",
   "metadata": {},
   "source": [
    "### 2. Standard Terminology: Class & Object (Instance)"
   ]
  },
  {
   "cell_type": "markdown",
   "metadata": {
    "collapsed": true
   },
   "source": [
    "**(1) Class**"
   ]
  },
  {
   "cell_type": "markdown",
   "metadata": {},
   "source": [
    "A *class definition* is a **blueprint** for a particular class of objects (e.g., lists, strings or complex numbers)    \n",
    "- **field:** What kind of data the class stores    \n",
    "- **method:** What operations it has for acting on these data"
   ]
  },
  {
   "cell_type": "markdown",
   "metadata": {},
   "source": [
    "**(2) Object**"
   ]
  },
  {
   "cell_type": "markdown",
   "metadata": {},
   "source": [
    "An *object or instance* is a **realization** of the class, created from the blueprint    \n",
    "- Each instance has its own unique data    \n",
    "- Methods set out in the class definition act on this (and other) data    "
   ]
  },
  {
   "cell_type": "markdown",
   "metadata": {},
   "source": [
    "**Note:** An object or instance has its own copy of fields, but no own copy of methods"
   ]
  },
  {
   "cell_type": "markdown",
   "metadata": {},
   "source": [
    "**(3) Attributes**"
   ]
  },
  {
   "cell_type": "markdown",
   "metadata": {},
   "source": [
    "In Python, the **data and methods** of an object are collectively referred to as attributes"
   ]
  },
  {
   "cell_type": "markdown",
   "metadata": {},
   "source": [
    "Attributes are accessed via “dotted attribute notation”    \n",
    "- **object_name.data**    \n",
    "- **object_name.method_name()**\n",
    "- **x** is an object or instance, created from the definition for Python lists, but with its own particular data    \n",
    "- **x.sort()** and **x.\\__class\\__** are two attributes of x    \n",
    "- **dir(x)** can be used to view all the attributes of x"
   ]
  },
  {
   "cell_type": "code",
   "execution_count": 38,
   "metadata": {},
   "outputs": [
    {
     "data": {
      "text/plain": [
       "list"
      ]
     },
     "execution_count": 38,
     "metadata": {},
     "output_type": "execute_result"
    }
   ],
   "source": [
    "x = [1, 5, 4]\n",
    "x.sort()\n",
    "x.__class__"
   ]
  },
  {
   "cell_type": "code",
   "execution_count": 39,
   "metadata": {},
   "outputs": [
    {
     "data": {
      "text/plain": [
       "['__add__',\n",
       " '__class__',\n",
       " '__contains__',\n",
       " '__delattr__',\n",
       " '__delitem__',\n",
       " '__dir__',\n",
       " '__doc__',\n",
       " '__eq__',\n",
       " '__format__',\n",
       " '__ge__',\n",
       " '__getattribute__',\n",
       " '__getitem__',\n",
       " '__gt__',\n",
       " '__hash__',\n",
       " '__iadd__',\n",
       " '__imul__',\n",
       " '__init__',\n",
       " '__init_subclass__',\n",
       " '__iter__',\n",
       " '__le__',\n",
       " '__len__',\n",
       " '__lt__',\n",
       " '__mul__',\n",
       " '__ne__',\n",
       " '__new__',\n",
       " '__reduce__',\n",
       " '__reduce_ex__',\n",
       " '__repr__',\n",
       " '__reversed__',\n",
       " '__rmul__',\n",
       " '__setattr__',\n",
       " '__setitem__',\n",
       " '__sizeof__',\n",
       " '__str__',\n",
       " '__subclasshook__',\n",
       " 'append',\n",
       " 'clear',\n",
       " 'copy',\n",
       " 'count',\n",
       " 'extend',\n",
       " 'index',\n",
       " 'insert',\n",
       " 'pop',\n",
       " 'remove',\n",
       " 'reverse',\n",
       " 'sort']"
      ]
     },
     "execution_count": 39,
     "metadata": {},
     "output_type": "execute_result"
    }
   ],
   "source": [
    "dir(x)"
   ]
  },
  {
   "cell_type": "markdown",
   "metadata": {},
   "source": [
    "### 3. Why is OOP Useful?"
   ]
  },
  {
   "cell_type": "markdown",
   "metadata": {},
   "source": [
    "OOP is useful for the same reason that abstraction is useful: **for recognizing and exploiting common structure**    \n",
    "- It's a high level way of thinking about a problem\n",
    "- E.g., a *general equilibrium theory* consists of a commodity space, preferences, technologies, and an equilibrium definition   \n",
    "- E.g., a *game* consists of a list of players, lists of actions available to each player, player payoffs as functions of all players’ actions, and a timing protocol\n",
    "- It is also easier for large numbers of programmers to work together using objects\n",
    "    - How would you build a cell phone?"
   ]
  },
  {
   "cell_type": "markdown",
   "metadata": {},
   "source": [
    "One concrete setting where OOP is almost always used is computer desktop environments with windows    \n",
    "- Windows have common functionality and individual data, which makes them suitable for implementing with OOP \n",
    "- Individual windows are created as objects from a class definition, with their own “instance” data\n",
    "  - individual data: contents of specific windows    \n",
    "  - common functionality: closing, maximizing, etc."
   ]
  },
  {
   "cell_type": "markdown",
   "metadata": {},
   "source": [
    "Another, more prosaic, use of OOP is **data encapsulation**    \n",
    "- Data encapsulation means “hiding” variables rather than making them directly accessible    \n",
    "- The alternative is filling the global namespace (any name you can refer to without a dot in front of it) with variable names, which frequently leads to conflicts    \n",
    "- For example, the following code leads immediately to a conflict    \n",
    "- The modules **os** and **sys** both define a different attribute called **path**"
   ]
  },
  {
   "cell_type": "code",
   "execution_count": 40,
   "metadata": {
    "collapsed": true
   },
   "outputs": [],
   "source": [
    "from os import path\n",
    "from sys import path"
   ]
  },
  {
   "cell_type": "code",
   "execution_count": 41,
   "metadata": {
    "collapsed": true
   },
   "outputs": [],
   "source": [
    "path?"
   ]
  },
  {
   "cell_type": "markdown",
   "metadata": {},
   "source": [
    "> At this point, both variables have been brought into the global namespace, and the second will shadow the first    \n",
    "A better idea is to replace the above with"
   ]
  },
  {
   "cell_type": "code",
   "execution_count": 42,
   "metadata": {
    "collapsed": true
   },
   "outputs": [],
   "source": [
    "import os\n",
    "import sys"
   ]
  },
  {
   "cell_type": "markdown",
   "metadata": {},
   "source": [
    "> And then reference the path you want with either **os.path** or **sys.path**    \n",
    "This example shows that modules provide one means of data encapsulation    "
   ]
  },
  {
   "cell_type": "markdown",
   "metadata": {},
   "source": [
    "As will now become clear, OOP provides another means of data encapsulation   \n",
    "- Objects can only be read or written by methods of that class"
   ]
  },
  {
   "cell_type": "markdown",
   "metadata": {},
   "source": [
    "**Note:** Besides **encapsulation**, other two features of OOP are **inheritance** and ** polymorphism**"
   ]
  },
  {
   "cell_type": "markdown",
   "metadata": {},
   "source": [
    "## <div id=\"Outline 3\"></div>Defining Your Own Classes"
   ]
  },
  {
   "cell_type": "markdown",
   "metadata": {},
   "source": [
    "### 1. Build a Super Simple Class "
   ]
  },
  {
   "cell_type": "markdown",
   "metadata": {},
   "source": [
    "**Step1:** Define a class"
   ]
  },
  {
   "cell_type": "code",
   "execution_count": 43,
   "metadata": {
    "collapsed": true
   },
   "outputs": [],
   "source": [
    "class Consumer:\n",
    "    pass"
   ]
  },
  {
   "cell_type": "markdown",
   "metadata": {},
   "source": [
    "- The **class** keyword indicates that we are building a class    \n",
    "- The **pass** keyword is used in Python to stand in for an empty code block    \n",
    "It is necessary here, since when defining a class, we need at least one line"
   ]
  },
  {
   "cell_type": "markdown",
   "metadata": {},
   "source": [
    "**Step2:** Create an object of the defined class"
   ]
  },
  {
   "cell_type": "code",
   "execution_count": 44,
   "metadata": {
    "collapsed": true
   },
   "outputs": [],
   "source": [
    "c1 = Consumer()  # Create an instance"
   ]
  },
  {
   "cell_type": "markdown",
   "metadata": {},
   "source": [
    "- “Calling” the class with syntax **ClassName()** creates an instance of the class"
   ]
  },
  {
   "cell_type": "markdown",
   "metadata": {},
   "source": [
    "**Step3:** Attach new attributes to instances of the class"
   ]
  },
  {
   "cell_type": "code",
   "execution_count": 45,
   "metadata": {},
   "outputs": [
    {
     "data": {
      "text/plain": [
       "10"
      ]
     },
     "execution_count": 45,
     "metadata": {},
     "output_type": "execute_result"
    }
   ],
   "source": [
    "c1.wealth = 10\n",
    "c1.wealth"
   ]
  },
  {
   "cell_type": "markdown",
   "metadata": {},
   "source": [
    "- We don’t actually need to specify what attributes a class will have    \n",
    "- We can attach new attributes to instances of the class on the fly    \n",
    "- Attach data to a object using the syntax **object_name.field_name = value**,     \n",
    "such as **c1.wealth=10**:\n",
    " > **wealth** is a field used to store the data    \n",
    " **10** is the value attached to the field of the object c1    \n",
    "\n",
    "- Get access to the data with same syntax **object_name.field_name**    \n",
    "such as **c1.wealth**"
   ]
  },
  {
   "cell_type": "markdown",
   "metadata": {},
   "source": [
    "**Q:** In this example, we show you how to define a class, create an object of the class and use it to store and get access to data. What does this look like?"
   ]
  },
  {
   "cell_type": "markdown",
   "metadata": {},
   "source": [
    "**A:** Dictionary"
   ]
  },
  {
   "cell_type": "markdown",
   "metadata": {},
   "source": [
    "**Q:** Why do we go through the trouble of creating a class when we could just easily store data in a dictionary?"
   ]
  },
  {
   "cell_type": "markdown",
   "metadata": {},
   "source": [
    "**A:** Some additional features of classes, which turns a simple class into a powerful data house"
   ]
  },
  {
   "cell_type": "markdown",
   "metadata": {},
   "source": [
    "So, our next task is to build classes with more structure than this super simple **Consumer class**. They will provide a blueprint containing useful functionality for a given set of tasks"
   ]
  },
  {
   "cell_type": "markdown",
   "metadata": {},
   "source": [
    "### 2. Example: Another Consumer Class"
   ]
  },
  {
   "cell_type": "markdown",
   "metadata": {},
   "source": [
    "**Step1:** Let’s build a **Consumer class** with more structure:    \n",
    "- A **wealth** attribute that stores the consumer’s wealth (data)    \n",
    "- An **earn** method, where **earn(y)** increments the consumer’s wealth by y    \n",
    "- A **spend** method, where **spend(x)** either decreases wealth by x or returns an error if insufficient funds exist"
   ]
  },
  {
   "cell_type": "code",
   "execution_count": 46,
   "metadata": {
    "collapsed": true
   },
   "outputs": [],
   "source": [
    "class Consumer:\n",
    "\n",
    "    def __init__(self, w):\n",
    "        \"Initialize consumer with w dollars of wealth\"\n",
    "        self.wealth = w\n",
    "\n",
    "    def earn(self, y):\n",
    "        \"The consumer earns y dollars\" \n",
    "        self.wealth += y\n",
    "\n",
    "    def spend(self, x):\n",
    "        \"The consumer spends x dollars if feasible\"\n",
    "        new_wealth = self.wealth - x\n",
    "        if new_wealth < 0:\n",
    "            print(\"Insufficent funds\")\n",
    "        else:\n",
    "            self.wealth = new_wealth"
   ]
  },
  {
   "cell_type": "markdown",
   "metadata": {},
   "source": [
    "- This class defines\n",
    "  - one field: **wealth**     \n",
    " Note: **wealth** is *instance data* because each consumer we create (each instance of the Consumer class) will have its own separate wealth data\n",
    "  - three methods: **\\__init\\__**, **earn** and **spend**    \n",
    " The ideas behind the **earn** and **spend** methods were discussed above    \n",
    " Both of these act on the instance data **wealth**    "
   ]
  },
  {
   "cell_type": "markdown",
   "metadata": {},
   "source": [
    "- **\\__init\\__ method**:   \n",
    "  - a constructor method    \n",
    "  - whenever we create an instance of the class, this method will be called automatically    \n",
    "  - calling **\\__init\\__** sets up a “namespace” to hold the instance data"
   ]
  },
  {
   "cell_type": "markdown",
   "metadata": {},
   "source": [
    "- **self:**    \n",
    "  - Any instance data should be prepended with **self**    \n",
    "    - e.g., the earn method references **self.wealth** rather than just **wealth** \n",
    "  \n",
    "  - Any method defined within the class should have **self** as its first argument    \n",
    "    - e.g., **def earn(self, y)** rather than just **def earn(y)**      \n",
    "    - only used when writing a method, not used when calling the method\n",
    "  \n",
    "  - Any method referenced within the class should be called as **self.method_name**"
   ]
  },
  {
   "cell_type": "markdown",
   "metadata": {},
   "source": [
    "**Step2:** Use the class"
   ]
  },
  {
   "cell_type": "markdown",
   "metadata": {},
   "source": [
    "- Create an instance with specific initial value: **ClassName(inital value)**"
   ]
  },
  {
   "cell_type": "code",
   "execution_count": 47,
   "metadata": {
    "collapsed": true
   },
   "outputs": [],
   "source": [
    "c1 = Consumer(10)  # Create instance with initial wealth 10"
   ]
  },
  {
   "cell_type": "markdown",
   "metadata": {},
   "source": [
    "- Call the methods in the class to act on the object: **object_name.method_name**"
   ]
  },
  {
   "cell_type": "code",
   "execution_count": 48,
   "metadata": {},
   "outputs": [
    {
     "data": {
      "text/plain": [
       "5"
      ]
     },
     "execution_count": 48,
     "metadata": {},
     "output_type": "execute_result"
    }
   ],
   "source": [
    "c1.spend(5)\n",
    "c1.wealth"
   ]
  },
  {
   "cell_type": "markdown",
   "metadata": {},
   "source": [
    "-  Create multiple instances each with its own data"
   ]
  },
  {
   "cell_type": "code",
   "execution_count": 49,
   "metadata": {
    "collapsed": true
   },
   "outputs": [],
   "source": [
    "c1 = Consumer(10)\n",
    "c2 = Consumer(12)"
   ]
  },
  {
   "cell_type": "code",
   "execution_count": 50,
   "metadata": {
    "scrolled": true
   },
   "outputs": [
    {
     "name": "stdout",
     "output_type": "stream",
     "text": [
      "100\n",
      "10\n",
      "12\n"
     ]
    }
   ],
   "source": [
    "wealth = 100     # this variable wealth and its value are not attached to any object\n",
    "\n",
    "print(wealth)\n",
    "print(c1.wealth)\n",
    "print(c2.wealth)"
   ]
  },
  {
   "cell_type": "markdown",
   "metadata": {},
   "source": [
    "> Even though we use the same variable names, the values are kept separate    \n",
    "In fact each instance stores its data in a separate namespace dictionary     \n",
    "> When we access or set attributes we’re actually just modifying the dictionary maintained by the instance\n"
   ]
  },
  {
   "cell_type": "code",
   "execution_count": 51,
   "metadata": {},
   "outputs": [
    {
     "data": {
      "text/plain": [
       "{'wealth': 10}"
      ]
     },
     "execution_count": 51,
     "metadata": {},
     "output_type": "execute_result"
    }
   ],
   "source": [
    "c1.__dict__   # list the attributes in the object"
   ]
  },
  {
   "cell_type": "code",
   "execution_count": 52,
   "metadata": {},
   "outputs": [
    {
     "data": {
      "text/plain": [
       "{'wealth': 12}"
      ]
     },
     "execution_count": 52,
     "metadata": {},
     "output_type": "execute_result"
    }
   ],
   "source": [
    "c2.__dict__"
   ]
  },
  {
   "cell_type": "markdown",
   "metadata": {},
   "source": [
    ">  Take a step aside: compare **\\__dict\\__** & **dir()**    \n",
    "- **\\__dict\\__:** returns a dictionary; gives you the attributes only related to this specific object    \n",
    "- **dir():** returns a list; gives you all the attributes of the object including its fields and the comman methods    \n",
    "- **\\__dict\\__** is a subset of **dir()**"
   ]
  },
  {
   "cell_type": "code",
   "execution_count": 53,
   "metadata": {},
   "outputs": [
    {
     "data": {
      "text/plain": [
       "['__class__',\n",
       " '__delattr__',\n",
       " '__dict__',\n",
       " '__dir__',\n",
       " '__doc__',\n",
       " '__eq__',\n",
       " '__format__',\n",
       " '__ge__',\n",
       " '__getattribute__',\n",
       " '__gt__',\n",
       " '__hash__',\n",
       " '__init__',\n",
       " '__init_subclass__',\n",
       " '__le__',\n",
       " '__lt__',\n",
       " '__module__',\n",
       " '__ne__',\n",
       " '__new__',\n",
       " '__reduce__',\n",
       " '__reduce_ex__',\n",
       " '__repr__',\n",
       " '__setattr__',\n",
       " '__sizeof__',\n",
       " '__str__',\n",
       " '__subclasshook__',\n",
       " '__weakref__',\n",
       " 'earn',\n",
       " 'spend',\n",
       " 'wealth']"
      ]
     },
     "execution_count": 53,
     "metadata": {},
     "output_type": "execute_result"
    }
   ],
   "source": [
    "dir(c1)     # list all the attributes"
   ]
  },
  {
   "cell_type": "markdown",
   "metadata": {},
   "source": [
    "**Step3:** Details related to classes"
   ]
  },
  {
   "cell_type": "markdown",
   "metadata": {},
   "source": [
    "- Methods actually live inside a class object formed when the interpreter reads the class definition"
   ]
  },
  {
   "cell_type": "code",
   "execution_count": 54,
   "metadata": {},
   "outputs": [
    {
     "name": "stdout",
     "output_type": "stream",
     "text": [
      "{'__module__': '__main__', '__init__': <function Consumer.__init__ at 0x000001F0CF1751E0>, 'earn': <function Consumer.earn at 0x000001F0CF175268>, 'spend': <function Consumer.spend at 0x000001F0CF1752F0>, '__dict__': <attribute '__dict__' of 'Consumer' objects>, '__weakref__': <attribute '__weakref__' of 'Consumer' objects>, '__doc__': None}\n"
     ]
    }
   ],
   "source": [
    "print(Consumer.__dict__)  # Show __dict__ attribute of class object"
   ]
  },
  {
   "cell_type": "markdown",
   "metadata": {},
   "source": [
    "> Note how the three methods **\\__init\\__**, **earn** and **spend** are stored in the class object"
   ]
  },
  {
   "cell_type": "markdown",
   "metadata": {},
   "source": [
    "- How interpreter works when we call the method to act on an object"
   ]
  },
  {
   "cell_type": "code",
   "execution_count": 63,
   "metadata": {},
   "outputs": [
    {
     "data": {
      "text/plain": [
       "20"
      ]
     },
     "execution_count": 63,
     "metadata": {},
     "output_type": "execute_result"
    }
   ],
   "source": [
    "c1 = Consumer(10)\n",
    "c1.earn(10)\n",
    "c1.wealth"
   ]
  },
  {
   "cell_type": "code",
   "execution_count": 64,
   "metadata": {},
   "outputs": [],
   "source": [
    "def earn(self, y):\n",
    "    \"The consumer earns y dollars\"\n",
    "    self.wealth += y"
   ]
  },
  {
   "cell_type": "markdown",
   "metadata": {},
   "source": [
    "> When you call **earn** via **c1.earn(10)** the interpreter passes the instance **c1** and the argument **10** to **Consumer.earn**    \n",
    "> In fact the following are equivalent    \n",
    " - c1.earn(10)    \n",
    " - Consumer.earn(c1, 10): c1 is the first argument;       \n"
   ]
  },
  {
   "cell_type": "markdown",
   "metadata": {},
   "source": [
    ">The end result is that **self** is bound to the instance **c1** inside the function call    \n",
    "That’s why the statement **self.wealth += y** inside earn ends up modifying **c1.wealth**"
   ]
  },
  {
   "cell_type": "markdown",
   "metadata": {},
   "source": [
    "### 3. Example: The Solow Growth Model"
   ]
  },
  {
   "cell_type": "markdown",
   "metadata": {},
   "source": [
    "For our next example, let’s write a simple class to implement the Solow growth model"
   ]
  },
  {
   "cell_type": "markdown",
   "metadata": {
    "collapsed": true
   },
   "source": [
    "**(1) Solow Growth Model: ** a neoclassical growth model where the amount of capital stock per capita $k_t$ evolves according to the rule    \n",
    "\n",
    "$$k_{t+1} = \\frac{s z k_t^{\\alpha} + (1 - d) k_t}{1 + n}$$\n",
    "\n",
    "Here,\n",
    "\n",
    "- $s$  is an exogenously given savings rate    \n",
    "- $z$ is a productivity parameter    \n",
    "- $\\alpha$ is capital’s share of income    \n",
    "- $n$  is the population growth rate    \n",
    "- $d$ is the depreciation rate     \n",
    "\n",
    "The steady state of the model is the $k_t$ that solves the equation when $k_{t+1}=k_t=k$"
   ]
  },
  {
   "cell_type": "markdown",
   "metadata": {},
   "source": [
    "**(2) Define a Solow Class**"
   ]
  },
  {
   "cell_type": "code",
   "execution_count": 67,
   "metadata": {},
   "outputs": [],
   "source": [
    "import numpy as np\n",
    "\n",
    "class Solow:\n",
    "    r\"\"\"\n",
    "    Implements the Solow growth model with update rule\n",
    "\n",
    "    .. math::\n",
    "        k_{t+1} = \\frac{s z k^{\\alpha}_t}{1 + n}  + k_t \\frac{1 - d}{1 + n}\n",
    "    \n",
    "    \"\"\"\n",
    "\n",
    "    def __init__(self, n, s, d, alpha, z, k):\n",
    "        \"\"\" \n",
    "        Solow growth model with Cobb Douglas production function.  All\n",
    "        parameters are scalars.  See http://quant-econ.net/py/python_oop.html\n",
    "        for interpretation.\n",
    "        \"\"\"\n",
    "        self.n, self.s, self.d, self.alpha, self.z = n, s, d, alpha, z  # Distinguish between fields and data.They don't need to have same names\n",
    "        self.k = k                                    # An instance maintains a record of its current capital stock in the variable self.k\n",
    "        \n",
    "\n",
    "    def h(self):                             # The h method implements the right hand side of (1)\n",
    "        \"Evaluate the h function\"\n",
    "        temp = self.s * self.z * self.k**self.alpha + self.k * (1 - self.d)\n",
    "        return temp / (1 + self.n)\n",
    "\n",
    "    def update(self):                        # The update method uses h to update capital as per (1)\n",
    "        \"Update the current state (i.e., the capital stock).\"                    # Recall the 3 general rules wrt self\n",
    "        self.k =  self.h()\n",
    "        \n",
    "    def steady_state(self):\n",
    "        \"Compute the steady state value of capital.\"\n",
    "        return ((self.s * self.z) / (self.n + self.d))**(1 / (1 - self.alpha))\n",
    "\n",
    "    def generate_sequence(self, t):\n",
    "        \"Generate and return a time series of length t\"\n",
    "        path = []\n",
    "        for i in range(t):\n",
    "            path.append(self.k)\n",
    "            self.update()\n",
    "        return path"
   ]
  },
  {
   "cell_type": "markdown",
   "metadata": {},
   "source": [
    "**(3) Use the class:** to compute time series from two different initial conditions"
   ]
  },
  {
   "cell_type": "code",
   "execution_count": 69,
   "metadata": {},
   "outputs": [
    {
     "data": {
      "image/png": "[encoded data removed]",
      "text/plain": [
       "<matplotlib.figure.Figure at 0x1f0cb0281d0>"
      ]
     },
     "metadata": {},
     "output_type": "display_data"
    }
   ],
   "source": [
    "import matplotlib.pyplot as plt\n",
    "\n",
    "baseline_params = 0.05, 0.25, 0.1, 0.3, 2.0, 1.0\n",
    "s1 = Solow(*baseline_params)  # The 'splat' operator * breaks up the tuple\n",
    "s2 = Solow(*baseline_params)\n",
    "s2.k = 8.0  # Reset s2.k to make high capital economy\n",
    "T = 60\n",
    "fig, ax = plt.subplots()\n",
    "# Plot the common steady state value of capital\n",
    "ax.plot([s1.steady_state()]*T, 'k-', label='steady state')\n",
    "# Plot time series for each economy\n",
    "for s in s1, s2:\n",
    "    lb = 'capital series from initial state {}'.format(s.k)\n",
    "    ax.plot(s.generate_sequence(T), 'o-', lw=2, alpha=0.6, label=lb)\n",
    "\n",
    "ax.legend(loc='lower right')\n",
    "plt.show()"
   ]
  },
  {
   "cell_type": "markdown",
   "metadata": {},
   "source": [
    "**(4) What should we learn from this example?**"
   ]
  },
  {
   "cell_type": "markdown",
   "metadata": {},
   "source": [
    "- **How the OOP idea is applied here?**\n",
    "- **How to abstract a class?**\n",
    "  - What are the inital variables\n",
    "  - What are the methods\n",
    "- **How to define a class?**\n",
    "  - **class ClassName**\n",
    "  - **\\__init\\__** method\n",
    "  - self\n",
    "- **How to use the class?**  \n",
    "  - create objects\n",
    "  - call methods to act on the objects"
   ]
  },
  {
   "cell_type": "markdown",
   "metadata": {},
   "source": [
    "### 4. Example: A Market"
   ]
  },
  {
   "cell_type": "markdown",
   "metadata": {
    "collapsed": true
   },
   "source": [
    "Next let’s write a class for a simple one good market where agents are price takers"
   ]
  },
  {
   "cell_type": "markdown",
   "metadata": {},
   "source": [
    "**Step1: Let's consider what should be included in a market**  --- Initial Variables"
   ]
  },
  {
   "cell_type": "markdown",
   "metadata": {},
   "source": [
    "A market consists of the following objects    \n",
    "- A linear demand curve $Q = a_d - b_d p$   \n",
    "- A linear supply curve  $Q = a_z + b_z (p - t)$    \n",
    "\n",
    "Here,    \n",
    "- $p$  is price paid by the consumer, $Q$ is quantity, and $t$ is a per unit tax    \n",
    "- Other symbols are demand and supply parameters"
   ]
  },
  {
   "cell_type": "markdown",
   "metadata": {},
   "source": [
    "**Step2: Let's consider what can we do or calculate in this market class** --- Methods"
   ]
  },
  {
   "cell_type": "markdown",
   "metadata": {},
   "source": [
    "Here, we think about following interest:    \n",
    "- competitive equlibrium price and quantity    \n",
    "- tax revenue raised    \n",
    "- consumer surplus and producer surplus"
   ]
  },
  {
   "cell_type": "markdown",
   "metadata": {},
   "source": [
    "**Step3: Define the Market Class**"
   ]
  },
  {
   "cell_type": "code",
   "execution_count": 70,
   "metadata": {
    "collapsed": true
   },
   "outputs": [],
   "source": [
    "from scipy.integrate import quad\n",
    "\n",
    "class Market:\n",
    "\n",
    "    def __init__(self, ad, bd, az, bz, tax):\n",
    "        \"\"\"\n",
    "        Set up market parameters.  All parameters are scalars.  See\n",
    "        http://quant-econ.net/py/python_oop.html for interpretation.\n",
    "\n",
    "        \"\"\"\n",
    "        self.ad, self.bd, self.az, self.bz, self.tax = ad, bd, az, bz, tax\n",
    "        if ad < az:\n",
    "            raise ValueError('Insufficient demand.')                  # Keyword \"raise\" is used here to trigger an error if ad < az\n",
    "        \n",
    "    def price(self):\n",
    "        \"Return equilibrium price\"\n",
    "        return  (self.ad - self.az + self.bz*self.tax)/(self.bd + self.bz) \n",
    "    \n",
    "    def quantity(self):\n",
    "        \"Compute equilibrium quantity\"\n",
    "        return  self.ad - self.bd * self.price()\n",
    "        \n",
    "    def consumer_surp(self):\n",
    "        \"Compute consumer surplus\"\n",
    "        # == Compute area under inverse demand function == #\n",
    "        integrand = lambda x: (self.ad/self.bd) - (1/self.bd)* x\n",
    "        area, error = quad(integrand, 0, self.quantity())\n",
    "        return area - self.price() * self.quantity()\n",
    "    \n",
    "    def producer_surp(self):\n",
    "        \"Compute producer surplus\"\n",
    "        #  == Compute area above inverse supply curve, excluding tax == #\n",
    "        integrand = lambda x: -(self.az/self.bz) + (1/self.bz) * x\n",
    "        area, error = quad(integrand, 0, self.quantity())  \n",
    "        return (self.price() - self.tax) * self.quantity() - area\n",
    "    \n",
    "    def taxrev(self):\n",
    "        \"Compute tax revenue\"\n",
    "        return self.tax * self.quantity()\n",
    "        \n",
    "    def inverse_demand(self,x):\n",
    "        \"Compute inverse demand\"\n",
    "        return self.ad/self.bd - (1/self.bd)* x\n",
    "    \n",
    "    def inverse_supply(self,x):\n",
    "        \"Compute inverse supply curve\"\n",
    "        return -(self.az/self.bz) + (1/self.bz) * x + self.tax\n",
    "    \n",
    "    def inverse_supply_no_tax(self,x):\n",
    "        \"Compute inverse supply curve without tax\"\n",
    "        return -(self.az/self.bz) + (1/self.bz) * x"
   ]
  },
  {
   "cell_type": "markdown",
   "metadata": {},
   "source": [
    "**Step4: Use the Market Class**"
   ]
  },
  {
   "cell_type": "markdown",
   "metadata": {},
   "source": [
    "- Create an object and call methods"
   ]
  },
  {
   "cell_type": "code",
   "execution_count": 71,
   "metadata": {},
   "outputs": [
    {
     "name": "stdout",
     "output_type": "stream",
     "text": [
      "equilibrium price =  18.5\n",
      "consumer surplus =  33.0625\n"
     ]
    }
   ],
   "source": [
    "baseline_params = 15, .5, -2, .5, 3\n",
    "m = Market(*baseline_params)\n",
    "print(\"equilibrium price = \", m.price())\n",
    "print(\"consumer surplus = \", m.consumer_surp())"
   ]
  },
  {
   "cell_type": "markdown",
   "metadata": {},
   "source": [
    "- Plot an inverse demand curve and inverse supply curves with and without tax"
   ]
  },
  {
   "cell_type": "code",
   "execution_count": 72,
   "metadata": {},
   "outputs": [
    {
     "data": {
      "image/png": "[encoded data removed]",
      "text/plain": [
       "<matplotlib.figure.Figure at 0x1f0cf24f1d0>"
      ]
     },
     "metadata": {},
     "output_type": "display_data"
    }
   ],
   "source": [
    "import matplotlib.pyplot as plt\n",
    "import numpy as np\n",
    "\n",
    "# Baseline ad, bd, az, bz, tax\n",
    "baseline_params = 15, .5, -2, .5, 3\n",
    "m = Market(*baseline_params) \n",
    "\n",
    "q_max = m.quantity() * 2\n",
    "q_grid = np.linspace(0.0, q_max, 100)\n",
    "pd = m.inverse_demand(q_grid)\n",
    "ps = m.inverse_supply(q_grid)\n",
    "psno = m.inverse_supply_no_tax(q_grid)    \n",
    "\n",
    "fig, ax = plt.subplots()\n",
    "ax.plot(q_grid, pd, lw=2, alpha=0.6, label='demand')\n",
    "ax.plot(q_grid, ps, lw=2, alpha=0.6, label='supply') \n",
    "ax.plot(q_grid, psno, '--k', lw=2, alpha=0.6, label='supply without tax')\n",
    "ax.set_xlabel('quantity', fontsize=14)\n",
    "ax.set_xlim(0, q_max)\n",
    "ax.set_ylabel('price', fontsize=14)\n",
    "ax.legend(loc='lower right', frameon=False, fontsize=14)             #\"frameon=False\": no frame around the label\n",
    "plt.show()"
   ]
  },
  {
   "cell_type": "markdown",
   "metadata": {},
   "source": [
    "- Compute dead weight loss from the imposition of the tax    \n",
    " - first we define a function used to calculate DWL    \n",
    " - then we call the function to work on our specific object"
   ]
  },
  {
   "cell_type": "code",
   "execution_count": 73,
   "metadata": {
    "collapsed": true
   },
   "outputs": [],
   "source": [
    "def deadw(m):                       # Note: this function is defined in global namespace, not in a class\n",
    "    \"Computes deadweight loss for market m.\"\n",
    "    # == Create analogous market with no tax == #\n",
    "    m_no_tax = Market(m.ad, m.bd, m.az, m.bz, 0)   \n",
    "    # == Compare surplus, return difference == #\n",
    "    surp1 = m_no_tax.consumer_surp() + m_no_tax.producer_surp()  \n",
    "    surp2 = m.consumer_surp() + m.producer_surp() + m.taxrev()\n",
    "    return surp1 - surp2"
   ]
  },
  {
   "cell_type": "code",
   "execution_count": 74,
   "metadata": {},
   "outputs": [
    {
     "data": {
      "text/plain": [
       "1.125"
      ]
     },
     "execution_count": 74,
     "metadata": {},
     "output_type": "execute_result"
    }
   ],
   "source": [
    "baseline_params = 15, .5, -2, .5, 3\n",
    "m = Market(*baseline_params)\n",
    "deadw(m)  # Show deadweight loss"
   ]
  },
  {
   "cell_type": "markdown",
   "metadata": {},
   "source": [
    "### 5. Example: Chaos"
   ]
  },
  {
   "cell_type": "markdown",
   "metadata": {},
   "source": [
    "Let’s look at one more example, related to chaotic dynamics in nonlinear systems"
   ]
  },
  {
   "cell_type": "markdown",
   "metadata": {},
   "source": [
    "One simple transition rule that can generate complex dynamics is the [Logistic Map](https://en.wikipedia.org/wiki/Logistic_map)    \n",
    "<center> $x_{t+1} = r x_t(1 - x_t) ,\n",
    "\\quad x_0 \\in [0, 1],\n",
    "\\quad r \\in [0, 4]$ </center>"
   ]
  },
  {
   "cell_type": "markdown",
   "metadata": {},
   "source": [
    "Let’s write a class for generating time series from this model"
   ]
  },
  {
   "cell_type": "markdown",
   "metadata": {},
   "source": [
    "**Step1: Initial Variables**"
   ]
  },
  {
   "cell_type": "markdown",
   "metadata": {},
   "source": [
    "- $x_0$, $r$"
   ]
  },
  {
   "cell_type": "markdown",
   "metadata": {},
   "source": [
    "**Step2: Methods**"
   ]
  },
  {
   "cell_type": "markdown",
   "metadata": {},
   "source": [
    "- Update $x_t$    \n",
    "- Generate a sequence of $x_t$"
   ]
  },
  {
   "cell_type": "markdown",
   "metadata": {},
   "source": [
    "**Step3: Define the Class**"
   ]
  },
  {
   "cell_type": "code",
   "execution_count": 75,
   "metadata": {
    "collapsed": true
   },
   "outputs": [],
   "source": [
    "class Chaos:\n",
    "    \"\"\"\n",
    "    Models the dynamical system with :math:`x_{t+1} = r x_t (1 - x_t)`\n",
    "    \"\"\"\n",
    "    def __init__(self, x0, r):\n",
    "        \"\"\"\n",
    "        Initialize with state x0 and parameter r \n",
    "        \"\"\"\n",
    "        self.x, self.r = x0, r\n",
    "        \n",
    "    def update(self):\n",
    "        \"Apply the map to update state.\"\n",
    "        self.x =  self.r * self.x *(1 - self.x)\n",
    "        \n",
    "    def generate_sequence(self, n):\n",
    "        \"Generate and return a sequence of length n.\"\n",
    "        path = []\n",
    "        for i in range(n):\n",
    "            path.append(self.x)\n",
    "            self.update()\n",
    "        return path"
   ]
  },
  {
   "cell_type": "markdown",
   "metadata": {},
   "source": [
    "**Step4: Use the Chaos Class**"
   ]
  },
  {
   "cell_type": "markdown",
   "metadata": {},
   "source": [
    "- Create an object and call methods"
   ]
  },
  {
   "cell_type": "code",
   "execution_count": 76,
   "metadata": {},
   "outputs": [
    {
     "data": {
      "text/plain": [
       "[0.1, 0.36000000000000004, 0.9216, 0.28901376000000006, 0.8219392261226498]"
      ]
     },
     "execution_count": 76,
     "metadata": {},
     "output_type": "execute_result"
    }
   ],
   "source": [
    "ch = Chaos(0.1, 4.0) # x0 = 0.1 and r = 0.4\n",
    "ch.generate_sequence(5)  # First 5 iterates"
   ]
  },
  {
   "cell_type": "markdown",
   "metadata": {},
   "source": [
    "-  Plots a longer trajectory"
   ]
  },
  {
   "cell_type": "code",
   "execution_count": 77,
   "metadata": {},
   "outputs": [
    {
     "data": {
      "image/png": "[encoded data removed]",
      "text/plain": [
       "<matplotlib.figure.Figure at 0x1f0cf24fc88>"
      ]
     },
     "metadata": {},
     "output_type": "display_data"
    }
   ],
   "source": [
    "import matplotlib.pyplot as plt\n",
    "\n",
    "ch = Chaos(0.1, 4.0) \n",
    "ts_length = 250\n",
    "\n",
    "fig, ax = plt.subplots()\n",
    "ax.set_xlabel(r'$t$', fontsize=14)\n",
    "ax.set_ylabel(r'$x_t$', fontsize=14)\n",
    "x = ch.generate_sequence(ts_length)\n",
    "ax.plot(range(ts_length), x, 'bo-', alpha=0.5, lw=1, label=r'$x_t$')\n",
    "ax.legend(loc=\"lower right\")\n",
    "plt.show()"
   ]
  },
  {
   "cell_type": "markdown",
   "metadata": {},
   "source": [
    "- Plot [bifurcation diagram](https://en.wikipedia.org/wiki/Bifurcation_diagram)    \n",
    " - a bifurcation diagram shows the values visited or approached asymptotically (fixed points, periodic orbits, or chaotic attractors) of a system as a function of a bifurcation parameter (which is $r$ here) in the system. "
   ]
  },
  {
   "cell_type": "code",
   "execution_count": 78,
   "metadata": {},
   "outputs": [
    {
     "data": {
      "image/png": "[encoded data removed]",
      "text/plain": [
       "<matplotlib.figure.Figure at 0x1f0cf25b4e0>"
      ]
     },
     "metadata": {},
     "output_type": "display_data"
    }
   ],
   "source": [
    "import matplotlib.pyplot as plt\n",
    "\n",
    "fig, ax = plt.subplots()\n",
    "ch = Chaos(0.1, 4)\n",
    "r = 2.5\n",
    "while r < 4:\n",
    "    ch.r = r\n",
    "    t = ch.generate_sequence(1000)[950:]\n",
    "    ax.plot([r] * len(t), t, 'b.', ms=0.6)           # [r]*len(t): to make it has the same dimension as t ;    \"ms\": set mark size\n",
    "    r = r + 0.005                         \n",
    "\n",
    "ax.set_xlabel(r'$r$', fontsize=16)\n",
    "plt.show()"
   ]
  },
  {
   "cell_type": "markdown",
   "metadata": {},
   "source": [
    ">- For each $r$ we compute a long time series and then plot the tail (the last 50 points)    \n",
    ">- The tail of the sequence shows us where the trajectory concentrates after settling down to some kind of steady state, if a steady state exists    \n",
    ">- Whether it settles down, and the character of the steady state to which it does settle down, depend on the value of $r$    \n",
    " - For $r$ between about 2.5 and 3, the time series settles into a single fixed point plotted on the vertical axis    \n",
    " - For $r$ between about 3 and 3.45, the time series settles down to oscillating between the two values plotted on the vertical axis    \n",
    " - For $r$ a little bit higher than 3.45, the time series settles down to oscillating among the four values plotted on the vertical axis    "
   ]
  },
  {
   "cell_type": "markdown",
   "metadata": {},
   "source": [
    "## <div id=\"Outline 4\"></div>Special Methods"
   ]
  },
  {
   "cell_type": "markdown",
   "metadata": {},
   "source": [
    "Python provides special methods with which some neat tricks can be performed"
   ]
  },
  {
   "cell_type": "markdown",
   "metadata": {},
   "source": [
    "**(1) \\__len\\__ special method**"
   ]
  },
  {
   "cell_type": "markdown",
   "metadata": {},
   "source": [
    "For example, recall that lists and tuples have a notion of length, and that this length can be queried via the **len** function"
   ]
  },
  {
   "cell_type": "code",
   "execution_count": 79,
   "metadata": {},
   "outputs": [
    {
     "data": {
      "text/plain": [
       "2"
      ]
     },
     "execution_count": 79,
     "metadata": {},
     "output_type": "execute_result"
    }
   ],
   "source": [
    "x = (10, 20)\n",
    "len(x)"
   ]
  },
  {
   "cell_type": "markdown",
   "metadata": {},
   "source": [
    "If you want to provide a return value for the **len** function when applied to your user-defined object, use the **\\__len\\__** special method"
   ]
  },
  {
   "cell_type": "code",
   "execution_count": 80,
   "metadata": {
    "collapsed": true
   },
   "outputs": [],
   "source": [
    "class Foo:\n",
    "\n",
    "    def __len__(self):\n",
    "        return 42"
   ]
  },
  {
   "cell_type": "code",
   "execution_count": 81,
   "metadata": {},
   "outputs": [
    {
     "data": {
      "text/plain": [
       "42"
      ]
     },
     "execution_count": 81,
     "metadata": {},
     "output_type": "execute_result"
    }
   ],
   "source": [
    "f = Foo()\n",
    "len(f)"
   ]
  },
  {
   "cell_type": "code",
   "execution_count": 82,
   "metadata": {
    "scrolled": true
   },
   "outputs": [
    {
     "data": {
      "text/plain": [
       "42"
      ]
     },
     "execution_count": 82,
     "metadata": {},
     "output_type": "execute_result"
    }
   ],
   "source": [
    "f.__len__()"
   ]
  },
  {
   "cell_type": "markdown",
   "metadata": {},
   "source": [
    "**(2) \\__call\\__ special method**"
   ]
  },
  {
   "cell_type": "markdown",
   "metadata": {},
   "source": [
    "A special method we will use regularly is the **\\__call\\__** method    \n",
    "This method can be used to make your instances callable, just like functions"
   ]
  },
  {
   "cell_type": "code",
   "execution_count": 83,
   "metadata": {
    "collapsed": true
   },
   "outputs": [],
   "source": [
    "class Foo:\n",
    "\n",
    "    def __call__(self, x):\n",
    "        return x + 42"
   ]
  },
  {
   "cell_type": "code",
   "execution_count": 84,
   "metadata": {},
   "outputs": [
    {
     "data": {
      "text/plain": [
       "50"
      ]
     },
     "execution_count": 84,
     "metadata": {},
     "output_type": "execute_result"
    }
   ],
   "source": [
    "f = Foo()\n",
    "f(8)  # Exactly equivalent to f.__call__(8)"
   ]
  },
  {
   "cell_type": "markdown",
   "metadata": {},
   "source": [
    "**(3) Why special?**"
   ]
  },
  {
   "cell_type": "markdown",
   "metadata": {},
   "source": [
    "- Their forms are special    \n",
    " - **\\__SpecialMethod\\__** : with two underscores before and after the method name"
   ]
  },
  {
   "cell_type": "markdown",
   "metadata": {},
   "source": [
    "- Their calling forms are special     \n",
    "They are meant to be called by the Python interpreter, not by you.    \n",
    "Instead of being called directly by your code (like normal methods), special methods are called for you by Python\n",
    " - we use **len(f)** instead of **f.len()** in the above example"
   ]
  },
  {
   "cell_type": "markdown",
   "metadata": {},
   "source": [
    "- There are many other special methods that can be used to customize your class    \n",
    " - \\__init\\__   \n",
    " - \\__str\\__    \n",
    " - \\__repr\\__    \n",
    " - \\__cmp\\__   \n",
    " - etc..."
   ]
  },
  {
   "cell_type": "markdown",
   "metadata": {},
   "source": [
    "## <div id=\"Inheritance\"></div>Inheritance"
   ]
  },
  {
   "cell_type": "markdown",
   "metadata": {},
   "source": [
    "**Inheritance** is another powerful tool of OOP. Inheritance allows us to reuse code and organize code logically.\n",
    "\n",
    "For example, suppose we have a special kind of consumer - a Chinese consumer. A Chinese consumer should *inherit* all of the same methods as the regular consumer. However, there might be more methods that a Chinese consumer may have."
   ]
  },
  {
   "cell_type": "code",
   "execution_count": 85,
   "metadata": {},
   "outputs": [
    {
     "data": {
      "text/plain": [
       "15"
      ]
     },
     "execution_count": 85,
     "metadata": {},
     "output_type": "execute_result"
    }
   ],
   "source": [
    "class Chinese_Consumer(Consumer):\n",
    "    pass\n",
    "\n",
    "c3 = Chinese_Consumer(20)\n",
    "c3.spend(5)\n",
    "c3.wealth"
   ]
  },
  {
   "cell_type": "markdown",
   "metadata": {},
   "source": [
    "Suppose we want to add another method that the Chinese consumer can utilize."
   ]
  },
  {
   "cell_type": "code",
   "execution_count": 86,
   "metadata": {},
   "outputs": [
    {
     "data": {
      "text/plain": [
       "6.414279162910921"
      ]
     },
     "execution_count": 86,
     "metadata": {},
     "output_type": "execute_result"
    }
   ],
   "source": [
    "import numpy as np\n",
    "\n",
    "class Chinese_Consumer(Consumer):\n",
    "\n",
    "    def gamble(self):\n",
    "        self.wealth += 10*np.random.rand()\n",
    "\n",
    "c4 = Chinese_Consumer(0)\n",
    "c4.gamble()\n",
    "c4.wealth"
   ]
  },
  {
   "cell_type": "code",
   "execution_count": 87,
   "metadata": {},
   "outputs": [
    {
     "data": {
      "text/plain": [
       "11.664736407832283"
      ]
     },
     "execution_count": 87,
     "metadata": {},
     "output_type": "execute_result"
    }
   ],
   "source": [
    "c4.gamble()\n",
    "c4.wealth"
   ]
  },
  {
   "cell_type": "markdown",
   "metadata": {},
   "source": [
    "Now suppose we want to overload or override some methods in the Consumer class. In computer science, function **overloading** and **overriding** refers to the ability to create multiple functions with the same name with different implementations. You have already used this!"
   ]
  },
  {
   "cell_type": "code",
   "execution_count": 88,
   "metadata": {},
   "outputs": [
    {
     "data": {
      "text/plain": [
       "array([ 0.        ,  0.02040816,  0.04081633,  0.06122449,  0.08163265,\n",
       "        0.10204082,  0.12244898,  0.14285714,  0.16326531,  0.18367347,\n",
       "        0.20408163,  0.2244898 ,  0.24489796,  0.26530612,  0.28571429,\n",
       "        0.30612245,  0.32653061,  0.34693878,  0.36734694,  0.3877551 ,\n",
       "        0.40816327,  0.42857143,  0.44897959,  0.46938776,  0.48979592,\n",
       "        0.51020408,  0.53061224,  0.55102041,  0.57142857,  0.59183673,\n",
       "        0.6122449 ,  0.63265306,  0.65306122,  0.67346939,  0.69387755,\n",
       "        0.71428571,  0.73469388,  0.75510204,  0.7755102 ,  0.79591837,\n",
       "        0.81632653,  0.83673469,  0.85714286,  0.87755102,  0.89795918,\n",
       "        0.91836735,  0.93877551,  0.95918367,  0.97959184,  1.        ])"
      ]
     },
     "execution_count": 88,
     "metadata": {},
     "output_type": "execute_result"
    }
   ],
   "source": [
    "np.linspace(0,1)"
   ]
  },
  {
   "cell_type": "code",
   "execution_count": 89,
   "metadata": {
    "collapsed": true
   },
   "outputs": [],
   "source": [
    "class Chinese_Consumer(Consumer):\n",
    "\n",
    "    def __init__(self, w, h):\n",
    "        super().__init__(w)\n",
    "        self.house = h\n",
    "\n",
    "    def earn(self, y, h=None):\n",
    "        self.wealth += y\n",
    "        if h is not None:\n",
    "            self.house = h\n",
    "\n",
    "    def gamble(self):\n",
    "        self.wealth += 10*np.random.rand()"
   ]
  },
  {
   "cell_type": "code",
   "execution_count": 90,
   "metadata": {},
   "outputs": [
    {
     "name": "stdout",
     "output_type": "stream",
     "text": [
      "True\n",
      "True\n"
     ]
    }
   ],
   "source": [
    "c5 = Chinese_Consumer(0,True)\n",
    "print(c5.house)\n",
    "\n",
    "c5.earn(100)\n",
    "print(c5.house)"
   ]
  },
  {
   "cell_type": "markdown",
   "metadata": {},
   "source": [
    "## <div id=\"Vectorization\"></div>Vectorization"
   ]
  },
  {
   "cell_type": "markdown",
   "metadata": {},
   "source": [
    "**Vectorization** the the process of transforming code to perform operations on vectors, matricies, or higher-dimensional arrays. Otherwise, operations would be performed on scalars through the use of one or more loops. Vectorization, if done right, can greatly increase the speed of code."
   ]
  },
  {
   "cell_type": "code",
   "execution_count": 91,
   "metadata": {},
   "outputs": [
    {
     "name": "stdout",
     "output_type": "stream",
     "text": [
      "[  1.00000000e+00   4.00000000e+00   9.00000000e+00 ...,   9.99996000e+11\n",
      "   9.99998000e+11   1.00000000e+12]\n",
      "0.38495850563049316\n",
      "[  1.00000000e+00   4.00000000e+00   9.00000000e+00 ...,   9.99996000e+11\n",
      "   9.99998000e+11   1.00000000e+12]\n",
      "0.011967658996582031\n"
     ]
    }
   ],
   "source": [
    "import time\n",
    "import numpy as np\n",
    "\n",
    "time_start = time.time()\n",
    "square_num = 10**6\n",
    "square = np.zeros(square_num)\n",
    "for ii in range(square_num):\n",
    "    square[ii] = (ii+1)**2\n",
    "time_end = time.time()\n",
    "\n",
    "print(square)\n",
    "print(time_end-time_start)\n",
    "\n",
    "time_start = time.time()\n",
    "square_2 = np.linspace(1,square_num,square_num)\n",
    "square_2 = square_2**2\n",
    "time_end = time.time()\n",
    "\n",
    "print(square_2)\n",
    "print(time_end-time_start)"
   ]
  },
  {
   "cell_type": "markdown",
   "metadata": {},
   "source": [
    "In computing, **row-major** order and **column-major** order are methods for storing multidimensional arrays in linear storage such as random access memory. Python uses row-major order."
   ]
  },
  {
   "cell_type": "code",
   "execution_count": 92,
   "metadata": {},
   "outputs": [
    {
     "name": "stdout",
     "output_type": "stream",
     "text": [
      "1000 loops, best of 3: 483 µs per loop\n",
      "1000 loops, best of 3: 314 µs per loop\n"
     ]
    }
   ],
   "source": [
    "import numpy as np\n",
    "\n",
    "x = np.random.randint(1,101,size=(1000,1000))\n",
    "\n",
    "%timeit -n1000 np.sum(x,0)\n",
    "%timeit -n1000 np.sum(x,1)"
   ]
  },
  {
   "cell_type": "markdown",
   "metadata": {},
   "source": [
    "## <div id=\"Numba\"></div>Numba"
   ]
  },
  {
   "cell_type": "markdown",
   "metadata": {},
   "source": [
    "At its best, vectorization yields fast, simple code. However, it’s not without disadvantages. One issue is that it can be highly memory intensive.\n",
    "\n",
    "One exciting development in this direction is Numba. Numba aims to automatically compile functions to native machine code instructions on the fly. The process isn’t flawless, since Numba needs to infer type information on all variables to generate pure machine instructions. Such inference isn’t possible in every setting."
   ]
  },
  {
   "cell_type": "code",
   "execution_count": 93,
   "metadata": {},
   "outputs": [
    {
     "data": {
      "text/plain": [
       "array([  1,   4,   9,  16,  25,  36,  49,  64,  81, 100])"
      ]
     },
     "execution_count": 93,
     "metadata": {},
     "output_type": "execute_result"
    }
   ],
   "source": [
    "def square_serial(n):\n",
    "    square = np.zeros(n,int)\n",
    "    for ii in range(n):\n",
    "        square[ii] = (ii+1)**2\n",
    "    return square\n",
    "\n",
    "def square_vectorized(n):\n",
    "    square = np.arange(n)+1\n",
    "    return square**2\n",
    "\n",
    "square_serial(10)"
   ]
  },
  {
   "cell_type": "code",
   "execution_count": 94,
   "metadata": {},
   "outputs": [],
   "source": [
    "from numba import jit\n",
    "\n",
    "square_numba = jit(square_serial)"
   ]
  },
  {
   "cell_type": "code",
   "execution_count": 95,
   "metadata": {},
   "outputs": [
    {
     "name": "stdout",
     "output_type": "stream",
     "text": [
      "100 loops, best of 3: 288 µs per loop\n",
      "100 loops, best of 3: 3.16 µs per loop\n",
      "The slowest run took 360.05 times longer than the fastest. This could mean that an intermediate result is being cached.\n",
      "100 loops, best of 3: 2.51 µs per loop\n"
     ]
    }
   ],
   "source": [
    "num = 1000\n",
    "\n",
    "%timeit -n100 square_serial(num)\n",
    "%timeit -n100 square_vectorized(num)\n",
    "%timeit -n100 square_numba(num)"
   ]
  },
  {
   "cell_type": "markdown",
   "metadata": {},
   "source": [
    "## <div id=\"Outline 5\"></div>Exercises"
   ]
  },
  {
   "cell_type": "markdown",
   "metadata": {},
   "source": [
    "### Exercise 1"
   ]
  },
  {
   "cell_type": "markdown",
   "metadata": {},
   "source": [
    "Create a class named **Tax** which computes the taxes of firms. Assume that there are several different tax brackets. For example, under income under 1 million is taxed at 10%, income between 1 and 2 million is taxed at 15%, income between 2 and 5 million is taxed at 20%, and income above 5 million is taxed at 25%.\n",
    "\n",
    "1. Create data fields: **revenue**, **costs**, **brackets** (the tax brackets), **percent** (percentage tax at each bracket), **income**, **tax**, **average_tax_rate**, etc...\n",
    "2. Implement methods: **set_revenue()**, **set_costs()**, **set_brackets()**, **set_percent()**, **compute_income()**, **compute_tax()**, **compute_average_tax_rate()**, etc...\n",
    "3. Try to write the program without any loops, i.e. use vectorized functions"
   ]
  },
  {
   "cell_type": "markdown",
   "metadata": {},
   "source": [
    "**Sample output:**\n",
    "\n",
    "<code>\n",
    "Firm_1 = Tax(105,95)\n",
    "print('Income:', Firm_1.compute_income(), 'Million')\n",
    "print('Tax:', Firm_1.compute_tax(), 'Million')\n",
    "print('Rate:', Firm_1.compute_average_tax_rate()*100, 'Percent')\n",
    "\n",
    "Firm_2 = Tax(13,10)\n",
    "print('Income:', Firm_2.compute_income(), 'Million')\n",
    "print('Tax:', Firm_2.compute_tax(), 'Million')\n",
    "print('Rate:', Firm_2.compute_average_tax_rate()*100, 'Percent')\n",
    "\n",
    "Income: 10 Million\n",
    "Tax: 2.1 Million\n",
    "Rate: 21.0 Percent\n",
    "\n",
    "Income: 3 Million\n",
    "Tax: 0.45 Million\n",
    "Rate: 15.0 Percent\n",
    "</code>"
   ]
  },
  {
   "cell_type": "markdown",
   "metadata": {},
   "source": [
    "### Exercise 2"
   ]
  },
  {
   "cell_type": "markdown",
   "metadata": {},
   "source": [
    "Create a simple **Roulette** game where you can have any number of players (instances).  For the rules of the game, you can visit this link: <url>https://en.wikipedia.org/wiki/Roulette</url>.  You don't have to code all the possible bets but allow for the popular ones such as *straight up*, *odd/even*, and *red/black*. Also, for simplicity, just assume you have a 'single 0' table. Players should be able to choose the bet type and bet amount through input statements. Hint: you might need to use a dictionary to convert the bet type input. Make sure to catch exceptions so that that user inputs cannot break the code. Make sure that users cannot cheat the system - the house should win in expectation.\n",
    "\n",
    "1. Create data fields: **stash**, **house_earnings** (how much the casino has earned which is common across all instances of Roulette), etc...\n",
    "2. Implement methods: **roll()**, **add_money()**, **check_stash()**, **check_house_earnings()**, etc...\n",
    "3. Feel free to add as many features to the game as you would like - have fun!"
   ]
  },
  {
   "cell_type": "markdown",
   "metadata": {},
   "source": [
    "**Sample output:**\n",
    "\n",
    "<code>\n",
    "Player_1 = Roulette(100)\n",
    "Player_1.roll()\n",
    "\n",
    "Player_2 = Roulette(200)\n",
    "Player_2.roll()\n",
    "\n",
    "If straight up, just input the number between 0 and 36. O for odd, E for even. R for red, B for black. Choose bet type: 10\n",
    "Choose bet amount: 50\n",
    "You rolled 32\n",
    "You lose =(\n",
    "Current stash: 50.0\n",
    "\n",
    "If straight up, just input the number between 0 and 36. O for odd, E for even. R for red, B for black. Choose bet type: E\n",
    "Choose bet amount: 100\n",
    "You rolled 25\n",
    "You lose =(\n",
    "Current stash: 100.0\n",
    "\n",
    "print(Player_1.check_house_earnings())\n",
    "\n",
    "House earnings: 150.0\n",
    "</code>"
   ]
  },
  {
   "cell_type": "markdown",
   "metadata": {},
   "source": [
    "### Exercise 3"
   ]
  },
  {
   "cell_type": "markdown",
   "metadata": {},
   "source": [
    "The [empirical cumulative distribution function](https://en.wikipedia.org/wiki/Empirical_distribution_function) (ecdf) corresponding to a sample $\\{X_i\\}_{i=1}^n$ is defined as    \n",
    "<center> $F_n(x) := \\frac{1}{n}  \\sum_{i=1}^n \\mathbf{1}\\{X_i \\leq x\\}\n",
    "  \\qquad (x \\in \\mathbb{R})$ </center>    \n",
    "Here $\\mathbf{1}\\{X_i \\leq x\\}$ is an indicator function (one if $X_i \\leq x$ and zero otherwise) and hence $F_n(x)$ is the fraction of the sample that falls below $x$     \n",
    "The Glivenko–Cantelli Theorem states that, provided that the sample is iid, the ecdf $F_n$ converges to the true distribution function $F$   "
   ]
  },
  {
   "cell_type": "markdown",
   "metadata": {},
   "source": [
    "Implement $F_n$ as a class called ECDF, where    \n",
    "- A given sample $\\{X_i\\}_{i=1}^n$ are the instance data, stored as **self.observations**    \n",
    "- The class implements a **\\__call\\__** method that returns $F_n(x)$ for any $x$"
   ]
  },
  {
   "cell_type": "markdown",
   "metadata": {},
   "source": [
    "### Exercise 4"
   ]
  },
  {
   "cell_type": "markdown",
   "metadata": {},
   "source": [
    "Build a simple class called **Polynomial** for representing and manipulating polynomial functions such as    \n",
    "<center> $p(x) = a_0 + a_1 x + a_2 x^2 + \\cdots a_N x^N = \\sum_{n=0}^N a_n x^n\n",
    "    \\qquad (x \\in \\mathbb{R})$ </center>    \n",
    "The **instance data** for the class **Polynomial** will be the coefficients (in the case above, the numbers $a_0,…,a_N$)    \n",
    "Provide **methods** that    \n",
    "- Evaluate the polynomial, returning $p(x)$ for any $x$    \n",
    "- Differentiate the polynomial, replacing the original coefficients with those of its derivative $p'$    \n",
    "\n",
    "Avoid using any import statements"
   ]
  },
  {
   "cell_type": "code",
   "execution_count": null,
   "metadata": {
    "collapsed": true
   },
   "outputs": [],
   "source": []
  }
 ],
 "metadata": {
  "kernelspec": {
   "display_name": "Python 3",
   "language": "python",
   "name": "python3"
  },
  "language_info": {
   "codemirror_mode": {
    "name": "ipython",
    "version": 3
   },
   "file_extension": ".py",
   "mimetype": "text/x-python",
   "name": "python",
   "nbconvert_exporter": "python",
   "pygments_lexer": "ipython3",
   "version": "3.6.1"
  }
 },
 "nbformat": 4,
 "nbformat_minor": 2
}

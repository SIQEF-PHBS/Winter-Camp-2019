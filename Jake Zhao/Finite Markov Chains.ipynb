{
 "cells": [
  {
   "cell_type": "markdown",
   "metadata": {},
   "source": [
    "# Finite Markov Chains"
   ]
  },
  {
   "cell_type": "markdown",
   "metadata": {},
   "source": [
    "## Outline\n",
    "- [Invariant distribution](#invariant)\n",
    "- [Simulation](#simulation)\n",
    "- [Discretization](#discretization)\n",
    "- [Integration](#integration)"
   ]
  },
  {
   "cell_type": "markdown",
   "metadata": {},
   "source": [
    "## <div id=\"invariant\"></div>Markov chain invariant distribution"
   ]
  },
  {
   "cell_type": "markdown",
   "metadata": {},
   "source": [
    "Recall that finite Markov chains generally have invariant distributions. The invariant distribution $\\mu$ satisfies\n",
    "$$\\mu=\\mu \\mathbf{P}$$\n",
    "where $\\mathbf{P}$ is the transition matrix.\n",
    "It turns out that the invariant distribution can also be found through iterations. However, the convergence proof is actually quite difficult."
   ]
  },
  {
   "cell_type": "markdown",
   "metadata": {},
   "source": [
    "### Example 1\n",
    "\n",
    "Write a program which generates random valid Markov transition matrices of any finite size\n",
    "1. Find the invariant distribution such that the max difference of the distribution between iterations is less than $10^{-4}$\n",
    "2. Compute the average number of iterations it takes to reach this tolerance level for a $5\\times5$ transition matrix\n",
    "3. Optimize the algorithm"
   ]
  },
  {
   "cell_type": "markdown",
   "metadata": {},
   "source": [
    "## <div id=\"simulation\"></div>Markov chain simulation"
   ]
  },
  {
   "cell_type": "markdown",
   "metadata": {},
   "source": [
    "### Example 2\n",
    "\n",
    "Suppose we have three states $\\epsilon\\in\\{\\epsilon_{l}=1,\\epsilon_{m}=2,\\epsilon_{h}=4\\}$ and Markov transition matrix\n",
    "\n",
    "$$\\mathcal{E}=\\left[\\begin{array}{ccc}\n",
    "0.7 & 0.2 & 0.1\\\\\n",
    "0.4 & 0.5 & 0.1\\\\\n",
    "0.1 & 0.3 & 0.6\n",
    "\\end{array}\\right].$$\n",
    "\n",
    "Simulate the Markov process for 100 periods and plot the result."
   ]
  },
  {
   "cell_type": "markdown",
   "metadata": {},
   "source": [
    "## <div id=\"discretization\"></div>Discretization of an AR1 process"
   ]
  },
  {
   "cell_type": "markdown",
   "metadata": {
    "collapsed": true
   },
   "source": [
    "Suppose we want to simulate an autoregressive process of order 1. Mathematically, an AR1 process is given by $x_t=c+\\rho x_{t-1}+\\epsilon_t$ where $\\rho \\in (-1,1)$ and $\\epsilon_t$ is a white noise process with mean zero and standard deviation $\\sigma_\\epsilon^2$."
   ]
  },
  {
   "cell_type": "markdown",
   "metadata": {
    "collapsed": true
   },
   "source": [
    "### Example 3\n",
    "\n",
    "1. Simulate and plot the following AR1 process for 200 periods: $x_t=0.5+0.9 x_{t-1}+\\epsilon_t$ and $\\epsilon_t \\sim \\mathcal{N}(0,0.2)$. Start the simulation at the mean value.\n",
    "2. Again, simulate and plot the following Markov process for 200 periods.\n",
    "3. Plot the two series from Parts 1 and 2 together. What do you see?"
   ]
  },
  {
   "cell_type": "code",
   "execution_count": 4,
   "metadata": {
    "collapsed": true
   },
   "outputs": [],
   "source": [
    "import numpy as np\n",
    "\n",
    "markov_state = np.array([4.358, 4.756, 5.0, 5.244, 5.642])\n",
    "markov_trans = np.array([[7.497e-01, 2.161e-01, 3.220e-02, 2.028e-03, 1.811e-05], \\\n",
    "                         [2.161e-01, 4.708e-01, 2.569e-01, 5.422e-02, 2.027e-03], \\\n",
    "                         [3.220e-02, 2.569e-01, 4.218e-01, 2.569e-01, 3.220e-02], \\\n",
    "                         [2.027e-03, 5.422e-02, 2.569e-01, 4.708e-01, 2.161e-01], \\\n",
    "                         [1.811e-05, 2.028e-03, 3.220e-02, 2.161e-01, 7.497e-01]])"
   ]
  },
  {
   "cell_type": "markdown",
   "metadata": {},
   "source": [
    "## <div id=\"integration\"></div>Numerical integration"
   ]
  },
  {
   "cell_type": "markdown",
   "metadata": {},
   "source": [
    "How do we numerically integrate a function? Riemann integration is probably the simplest method."
   ]
  },
  {
   "cell_type": "markdown",
   "metadata": {},
   "source": [
    "### Example 4\n",
    "1. Numerically integrate $f(x)=e^x$ between 0 and 3, i.e. find $\\int_0^3 e^x dx$. Try using the left point, right point, and midpoint for each interval.\n",
    "2. How many points do you need to get a tolerance of below $10^{-3}$ for the left point, right point, and midpoint rules?"
   ]
  },
  {
   "cell_type": "markdown",
   "metadata": {},
   "source": [
    "## Homework exercise"
   ]
  },
  {
   "cell_type": "markdown",
   "metadata": {},
   "source": [
    "1. Download the 1990-2014 Chinese real GDP data from the Federal Reserve Bank of St. Louis database (FRED) at the link,\n",
    "    https://fred.stlouisfed.org/series/RGDPNACNA666NRUG\n",
    "\n",
    "2. Take the log of real GDP (i.e. $y_{t}=\\log Y_{t}$) and compute its growth rate (i.e. $g_{t}=y_{t}-y_{t-1}$). Run an AR1 regression both on log levels $y_{t}$ and growth rates $g_{t}$.\n",
    "\n",
    "3. For the real GDP growth rates, use the Adda-Cooper method (pages 56-60) to estimate the Markov values and transition matrix with 5 states. Hint: you may want to do the following import: **from scipy.stats import norm**.\n",
    "\n",
    "4. Plot the growth rate data series, the AR1 simulated series, and the 5 state Markov process for 100 realizations.\n",
    "\n",
    "5. Bonus: Use maximum likelihood to estimate the AR1 parameters from the finite-state Markov process."
   ]
  },
  {
   "cell_type": "code",
   "execution_count": null,
   "metadata": {
    "collapsed": true
   },
   "outputs": [],
   "source": []
  }
 ],
 "metadata": {
  "kernelspec": {
   "display_name": "Python 3",
   "language": "python",
   "name": "python3"
  },
  "language_info": {
   "codemirror_mode": {
    "name": "ipython",
    "version": 3
   },
   "file_extension": ".py",
   "mimetype": "text/x-python",
   "name": "python",
   "nbconvert_exporter": "python",
   "pygments_lexer": "ipython3",
   "version": "3.6.1"
  }
 },
 "nbformat": 4,
 "nbformat_minor": 2
}

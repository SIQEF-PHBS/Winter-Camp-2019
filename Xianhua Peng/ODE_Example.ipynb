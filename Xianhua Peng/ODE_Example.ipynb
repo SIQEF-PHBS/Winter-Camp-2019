{
 "cells": [
  {
   "cell_type": "markdown",
   "metadata": {},
   "source": [
    "```matrix exponetial``` is defined as following:\n",
    "$$ e^A = I + A +\\frac{A^2}{2!}+...+\\frac{A^m}{m!}+...$$"
   ]
  },
  {
   "cell_type": "markdown",
   "metadata": {},
   "source": [
    "Properties of matrix exponetial\n",
    "* If matrices A and B commute, then $e^{A+B} = e^Ae^B$\n",
    "* A is a matrix and $e^A$ is inversible, then $(e^A)^{-1} = e^{-A}$\n",
    "* A is a matrix and T is a non-singular matrix, then $e^{T^{-1}AT} = T^{-1}e^AT$\n",
    "* A is a matrix, then $\\frac{de^{At}}{dt} = Ae^{At}$  \n",
    "For proofs and further information, please refer to the link https://en.wikipedia.org/wiki/Matrix_exponential"
   ]
  },
  {
   "cell_type": "markdown",
   "metadata": {},
   "source": [
    "Let A be a $n\\times n$ matrix, then the following differential equation\n",
    "$$ \\frac{dx_t}{dt} = Ax_t, x_0=x_0 $$\n",
    "has the solution $x_t = e^{At}x_0$."
   ]
  },
  {
   "cell_type": "markdown",
   "metadata": {},
   "source": [
    "If matrix A has eigenvectors $ v_1, v_2,...v_n$, with corresponding eigenvalue $ \\lambda_1, \\lambda_2,...\\lambda_n$, then \n",
    "$$\\phi(t)=[e^{\\lambda_{1} t}v_1,e^{\\lambda_{2} t}v_2,...,e^{\\lambda_{n} t}v_n]$$\n",
    "is the basic solution matrix of above equation, and \n",
    "$e^{At} = \\phi(t)@\\phi^{-1}(0)$"
   ]
  },
  {
   "cell_type": "code",
   "execution_count": 1,
   "metadata": {},
   "outputs": [],
   "source": [
    "import numpy as np\n",
    "from scipy.linalg import expm\n",
    "import matplotlib.pyplot as plt"
   ]
  },
  {
   "cell_type": "code",
   "execution_count": 2,
   "metadata": {},
   "outputs": [],
   "source": [
    "#input A\n",
    "A = np.array([[6, -3],\n",
    "       [2, 1]])"
   ]
  },
  {
   "cell_type": "code",
   "execution_count": 3,
   "metadata": {},
   "outputs": [
    {
     "name": "stdout",
     "output_type": "stream",
     "text": [
      "[4. 3.]\n",
      "<class 'numpy.ndarray'>\n",
      "(2,)\n",
      "[[0.83205029 0.70710678]\n",
      " [0.5547002  0.70710678]]\n",
      "[[3.32820118 2.12132034]\n",
      " [2.21880078 2.12132034]]\n",
      "[[3.32820118 2.12132034]\n",
      " [2.21880078 2.12132034]]\n"
     ]
    },
    {
     "data": {
      "image/png": "[encoded data removed]",
      "text/plain": [
       "<Figure size 432x288 with 1 Axes>"
      ]
     },
     "metadata": {
      "needs_background": "light"
     },
     "output_type": "display_data"
    },
    {
     "data": {
      "image/png": "[encoded data removed]",
      "text/plain": [
       "<Figure size 432x288 with 1 Axes>"
      ]
     },
     "metadata": {
      "needs_background": "light"
     },
     "output_type": "display_data"
    }
   ],
   "source": [
    "# time points\n",
    "t = np.linspace(0,1,10)\n",
    "\n",
    "#get eigenvalues and eigenvectors of A\n",
    "eigenvalue,eigenvector=np.linalg.eig(A)\n",
    "print(eigenvalue)\n",
    "print(type(eigenvalue))\n",
    "print(eigenvalue.shape)\n",
    "print(eigenvector)\n",
    "print(A@eigenvector)\n",
    "print(eigenvalue.reshape(1,-1)*eigenvector)\n",
    "\n",
    "# computer $e^{At}[0,0]$\n",
    "expAt = []\n",
    "for i in range(len(t)):\n",
    "    exi = expm(A*t[i])[0,0]\n",
    "    expAt.append(exi)\n",
    "\n",
    "#computer the constant part of solution\n",
    "eigenvector_inv = np.linalg.inv(eigenvector)\n",
    "\n",
    "ait = []\n",
    "for i in range(len(t)):\n",
    "    c0 = (np.exp(eigenvalue[0]*t[i])*eigenvector[:,0]).reshape(-1,1)\n",
    "    c1 = (np.exp(eigenvalue[1]*t[i])*eigenvector[:,1]).reshape(-1,1)\n",
    "    ai = np.concatenate((c0,c1), axis=1)@eigenvector_inv\n",
    "    # print(ai.shape)\n",
    "    ait.append(ai[0,0])\n",
    "\n",
    "plt.plot(t,expAt,'g')\n",
    "plt.xlabel('time')\n",
    "plt.ylabel('expAt')\n",
    "plt.show()\n",
    "\n",
    "plt.plot(t,ait,'b')\n",
    "plt.xlabel('time')\n",
    "plt.ylabel('ait')\n",
    "plt.show()\n"
   ]
  },
  {
   "cell_type": "code",
   "execution_count": null,
   "metadata": {},
   "outputs": [],
   "source": []
  }
 ],
 "metadata": {
  "kernelspec": {
   "display_name": "Python 3",
   "language": "python",
   "name": "python3"
  },
  "language_info": {
   "codemirror_mode": {
    "name": "ipython",
    "version": 3
   },
   "file_extension": ".py",
   "mimetype": "text/x-python",
   "name": "python",
   "nbconvert_exporter": "python",
   "pygments_lexer": "ipython3",
   "version": "3.7.1"
  }
 },
 "nbformat": 4,
 "nbformat_minor": 2
}

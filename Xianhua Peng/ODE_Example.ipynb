{
 "cells": [
  {
   "cell_type": "markdown",
   "metadata": {},
   "source": [
    "```matrix exponetial``` is defined as following:\n",
    "$$ e^A = I + A +\\frac{A^2}{2!}+...+\\frac{A^m}{m!}+...$$"
   ]
  },
  {
   "cell_type": "markdown",
   "metadata": {},
   "source": [
    "Properties of matrix exponetial\n",
    "* If matrices A and B commute, then $e^{A+B} = e^Ae^B$\n",
    "* A is a matrix and $e^A$ is inversible, then $(e^A)^{-1} = e^{-A}$\n",
    "* A is a matrix and T is a non-singular matrix, then $e^{T^{-1}AT} = T^{-1}e^AT$\n",
    "* A is a matrix, then $de^{At} = Ae^{At}$  \n",
    "For proofs and further information, please refer to the link https://en.wikipedia.org/wiki/Matrix_exponential"
   ]
  },
  {
   "cell_type": "markdown",
   "metadata": {},
   "source": [
    "Mathematically, following equation:  \n",
    "$$ \\frac{dx_t}{dt} = Ax_t $$\n",
    "has standard basic solution matrix $e^{At}$, where A is an $n\\times n$ matrix, which is easy to check according property 4"
   ]
  },
  {
   "cell_type": "markdown",
   "metadata": {},
   "source": [
    "If matrix A has eigenvectors $ v_1, v_2,...v_n$, with corresponding eigenvalue $ \\lambda_1, \\lambda_2,...\\lambda_n$, then \n",
    "$$\\phi(t)=[e^{\\lambda_{1} t}v_1,e^{\\lambda_{2} t}v_2,...,e^{\\lambda_{n} t}v_n]$$\n",
    "is one basic solution matrix of above equation.  \n",
    "\n",
    "and $e^A = \\phi(t) *\\phi^{-1}(0)$"
   ]
  },
  {
   "cell_type": "code",
   "execution_count": 1,
   "metadata": {
    "collapsed": true
   },
   "outputs": [],
   "source": [
    "import numpy as np\n",
    "import matplotlib.pyplot as plt"
   ]
  },
  {
   "cell_type": "code",
   "execution_count": 2,
   "metadata": {
    "collapsed": true
   },
   "outputs": [],
   "source": [
    "#input A and initial value x0\n",
    "A = np.array([[ 6, -3],\n",
    "       [ 2, 1]])\n",
    "x0 = np.array((1,1))"
   ]
  },
  {
   "cell_type": "code",
   "execution_count": 3,
   "metadata": {
    "collapsed": true
   },
   "outputs": [],
   "source": [
    "# time points\n",
    "t = np.linspace(0,20,50)\n",
    "\n",
    "#get eigenvalues and eigenvectors of A\n",
    "eigenvalue,eigenvector=np.linalg.eig(A)\n",
    "\n",
    "#computer the constant part of solution\n",
    "eigenvector_inv = np.linalg.inv(eigenvector)\n",
    "cons = eigenvector_inv@x0\n",
    "\n",
    "X = []\n",
    "for i in range(len(t)):\n",
    "    phi_t = np.exp(t[i]*eigenvalue)*eigenvector@cons\n",
    "    X.append(phi_t)\n",
    "\n",
    "# get the first element of X to plot\n",
    "X1 =[]\n",
    "for i in range(len(X)):\n",
    "    X1.append(X[i][0])\n"
   ]
  },
  {
   "cell_type": "code",
   "execution_count": 4,
   "metadata": {},
   "outputs": [
    {
     "data": {
      "image/png": "[encoded data removed]",
      "text/plain": [
       "<matplotlib.figure.Figure at 0x1ed0f1a6ef0>"
      ]
     },
     "metadata": {},
     "output_type": "display_data"
    }
   ],
   "source": [
    "# plot the change of x1\n",
    "plt.plot(t,X1)\n",
    "plt.xlabel('time')\n",
    "plt.ylabel('x1')\n",
    "plt.show()"
   ]
  }
 ],
 "metadata": {
  "kernelspec": {
   "display_name": "Python 3",
   "language": "python",
   "name": "python3"
  },
  "language_info": {
   "codemirror_mode": {
    "name": "ipython",
    "version": 3
   },
   "file_extension": ".py",
   "mimetype": "text/x-python",
   "name": "python",
   "nbconvert_exporter": "python",
   "pygments_lexer": "ipython3",
   "version": "3.6.5"
  }
 },
 "nbformat": 4,
 "nbformat_minor": 2
}

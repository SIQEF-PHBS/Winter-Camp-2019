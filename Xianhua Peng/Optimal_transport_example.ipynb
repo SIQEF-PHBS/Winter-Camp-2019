{
 "cells": [
  {
   "cell_type": "code",
   "execution_count": 26,
   "metadata": {},
   "outputs": [],
   "source": [
    "from sinkhorn_knopp import compute_optimal_transport\n",
    "\n",
    "import seaborn as sns\n",
    "import matplotlib.pyplot as plt\n",
    "sns.set_style('white')\n",
    "import pandas as pd\n",
    "import numpy as np\n",
    "from sklearn.metrics.pairwise import pairwise_distances\n",
    "\n",
    "%matplotlib inline"
   ]
  },
  {
   "cell_type": "markdown",
   "metadata": {},
   "source": [
    "## The dessert problem"
   ]
  },
  {
   "cell_type": "code",
   "execution_count": 27,
   "metadata": {},
   "outputs": [],
   "source": [
    "from desserts import preferences, portions_per_person,quantities_of_dessert"
   ]
  },
  {
   "cell_type": "markdown",
   "metadata": {},
   "source": [
    "Take a look at the preferences for desserts."
   ]
  },
  {
   "cell_type": "code",
   "execution_count": 28,
   "metadata": {},
   "outputs": [
    {
     "data": {
      "text/html": [
       "<div>\n",
       "<style scoped>\n",
       "    .dataframe tbody tr th:only-of-type {\n",
       "        vertical-align: middle;\n",
       "    }\n",
       "\n",
       "    .dataframe tbody tr th {\n",
       "        vertical-align: top;\n",
       "    }\n",
       "\n",
       "    .dataframe thead th {\n",
       "        text-align: right;\n",
       "    }\n",
       "</style>\n",
       "<table border=\"1\" class=\"dataframe\">\n",
       "  <thead>\n",
       "    <tr style=\"text-align: right;\">\n",
       "      <th></th>\n",
       "      <th>merveilleux</th>\n",
       "      <th>eclair</th>\n",
       "      <th>chocolate mousse</th>\n",
       "      <th>bavarois</th>\n",
       "      <th>carrot cake</th>\n",
       "    </tr>\n",
       "  </thead>\n",
       "  <tbody>\n",
       "    <tr>\n",
       "      <th>Bernard</th>\n",
       "      <td>2.0</td>\n",
       "      <td>2</td>\n",
       "      <td>1</td>\n",
       "      <td>0</td>\n",
       "      <td>0</td>\n",
       "    </tr>\n",
       "    <tr>\n",
       "      <th>Jan</th>\n",
       "      <td>0.0</td>\n",
       "      <td>-2</td>\n",
       "      <td>-2</td>\n",
       "      <td>-2</td>\n",
       "      <td>2</td>\n",
       "    </tr>\n",
       "    <tr>\n",
       "      <th>Willem</th>\n",
       "      <td>1.0</td>\n",
       "      <td>2</td>\n",
       "      <td>2</td>\n",
       "      <td>2</td>\n",
       "      <td>-1</td>\n",
       "    </tr>\n",
       "    <tr>\n",
       "      <th>Hilde</th>\n",
       "      <td>2.0</td>\n",
       "      <td>1</td>\n",
       "      <td>0</td>\n",
       "      <td>1</td>\n",
       "      <td>-1</td>\n",
       "    </tr>\n",
       "    <tr>\n",
       "      <th>Steffie</th>\n",
       "      <td>0.5</td>\n",
       "      <td>2</td>\n",
       "      <td>2</td>\n",
       "      <td>1</td>\n",
       "      <td>0</td>\n",
       "    </tr>\n",
       "    <tr>\n",
       "      <th>Marlies</th>\n",
       "      <td>0.0</td>\n",
       "      <td>1</td>\n",
       "      <td>1</td>\n",
       "      <td>1</td>\n",
       "      <td>-1</td>\n",
       "    </tr>\n",
       "    <tr>\n",
       "      <th>Tim</th>\n",
       "      <td>-2.0</td>\n",
       "      <td>2</td>\n",
       "      <td>2</td>\n",
       "      <td>1</td>\n",
       "      <td>1</td>\n",
       "    </tr>\n",
       "    <tr>\n",
       "      <th>Wouter</th>\n",
       "      <td>2.0</td>\n",
       "      <td>1</td>\n",
       "      <td>2</td>\n",
       "      <td>1</td>\n",
       "      <td>-1</td>\n",
       "    </tr>\n",
       "  </tbody>\n",
       "</table>\n",
       "</div>"
      ],
      "text/plain": [
       "         merveilleux  eclair  chocolate mousse  bavarois  carrot cake\n",
       "Bernard          2.0       2                 1         0            0\n",
       "Jan              0.0      -2                -2        -2            2\n",
       "Willem           1.0       2                 2         2           -1\n",
       "Hilde            2.0       1                 0         1           -1\n",
       "Steffie          0.5       2                 2         1            0\n",
       "Marlies          0.0       1                 1         1           -1\n",
       "Tim             -2.0       2                 2         1            1\n",
       "Wouter           2.0       1                 2         1           -1"
      ]
     },
     "execution_count": 28,
     "metadata": {},
     "output_type": "execute_result"
    }
   ],
   "source": [
    "preferences"
   ]
  },
  {
   "cell_type": "code",
   "execution_count": 29,
   "metadata": {},
   "outputs": [],
   "source": [
    "M = - preferences.values  # cost is negative preferences"
   ]
  },
  {
   "cell_type": "markdown",
   "metadata": {},
   "source": [
    "How many portions per person."
   ]
  },
  {
   "cell_type": "code",
   "execution_count": 30,
   "metadata": {
    "scrolled": true
   },
   "outputs": [
    {
     "data": {
      "image/png": "[encoded data removed]",
      "text/plain": [
       "<Figure size 432x288 with 1 Axes>"
      ]
     },
     "metadata": {},
     "output_type": "display_data"
    }
   ],
   "source": [
    "ax = portions_per_person.plot(kind='bar')\n",
    "ax.set_ylabel('Portions')\n",
    "r = portions_per_person.values.ravel()  # store as vector"
   ]
  },
  {
   "cell_type": "markdown",
   "metadata": {},
   "source": [
    "How much of every dessert."
   ]
  },
  {
   "cell_type": "code",
   "execution_count": 31,
   "metadata": {
    "scrolled": false
   },
   "outputs": [
    {
     "data": {
      "image/png": "[encoded data removed]",
      "text/plain": [
       "<Figure size 432x288 with 1 Axes>"
      ]
     },
     "metadata": {},
     "output_type": "display_data"
    }
   ],
   "source": [
    "ax = quantities_of_dessert.plot(kind='bar')\n",
    "ax.set_ylabel('Portions')\n",
    "c = quantities_of_dessert.values.ravel()  # store as vector"
   ]
  },
  {
   "cell_type": "markdown",
   "metadata": {},
   "source": [
    "Compute optimal transport (low entropic regularization)."
   ]
  },
  {
   "cell_type": "code",
   "execution_count": 32,
   "metadata": {
    "scrolled": false
   },
   "outputs": [
    {
     "name": "stdout",
     "output_type": "stream",
     "text": [
      "[[7.99158597e-01 1.99568568e+00 1.12085918e-01 9.05856171e-06\n",
      "  9.30607055e-02]\n",
      " [1.09448200e-16 5.63349807e-25 6.96918316e-22 1.24060890e-21\n",
      "  3.00000006e+00]\n",
      " [1.58533610e-08 8.72017766e-04 1.07877050e+00 1.92035746e+00\n",
      "  1.84609784e-09]\n",
      " [3.20051781e+00 3.62856239e-04 2.03794991e-05 7.99081983e-01\n",
      "  1.69203286e-05]\n",
      " [1.97855229e-10 1.61519115e-03 1.99814801e+00 1.61486362e-04\n",
      "  7.53178867e-05]\n",
      " [1.05687641e-08 5.81337298e-04 7.19170587e-01 1.28022096e+00\n",
      "  2.71083065e-05]\n",
      " [1.50197801e-21 8.82880686e-04 1.09220899e+00 8.82701656e-05\n",
      "  9.06819885e-01]\n",
      " [3.23564933e-04 3.66839248e-08 9.99595616e-01 8.07853365e-05\n",
      "  1.71060601e-09]]\n",
      "Sinkhorn distance: -35.99488284337748\n"
     ]
    },
    {
     "data": {
      "text/plain": [
       "Text(0.5,1,'Optimal distribtution ($\\\\lambda=10$)')"
      ]
     },
     "execution_count": 32,
     "metadata": {},
     "output_type": "execute_result"
    },
    {
     "data": {
      "image/png": "[encoded data removed]",
      "text/plain": [
       "<Figure size 432x288 with 1 Axes>"
      ]
     },
     "metadata": {},
     "output_type": "display_data"
    }
   ],
   "source": [
    "lam = 10\n",
    "\n",
    "P, d = compute_optimal_transport(M,\n",
    "        r,\n",
    "        c, lam=lam)\n",
    "\n",
    "print(P)\n",
    "\n",
    "partition = pd.DataFrame(P, index=preferences.index, columns=preferences.columns)\n",
    "ax = partition.plot(kind='bar', stacked=True)\n",
    "print('Sinkhorn distance: {}'.format(d))\n",
    "ax.set_ylabel('portions')\n",
    "ax.set_title('Optimal distribtution ($\\lambda={}$)'.format(lam))"
   ]
  },
  {
   "cell_type": "code",
   "execution_count": 33,
   "metadata": {
    "scrolled": true
   },
   "outputs": [
    {
     "name": "stdout",
     "output_type": "stream",
     "text": [
      "[[1.12456122 0.54032425 0.77999147 0.24496256 0.3101605 ]\n",
      " [0.180761   0.01175404 0.04612294 0.03937507 2.72198697]\n",
      " [0.24830085 0.32429783 1.27254725 1.08637126 0.06848281]\n",
      " [1.88190831 0.33264066 0.48018736 1.11431906 0.19094459]\n",
      " [0.12909175 0.27797874 1.09079075 0.34257157 0.15956719]\n",
      " [0.15928602 0.2080384  0.81634433 0.69691166 0.11941958]\n",
      " [0.0098312  0.25790279 1.01201258 0.31783065 0.40242277]\n",
      " [0.26625965 0.04706329 0.50200332 0.15765816 0.02701558]]\n",
      "Sinkhorn distance: -29.626499497606346\n"
     ]
    },
    {
     "data": {
      "text/plain": [
       "Text(0.5,1,'Optimal distribtution ($\\\\lambda=1$)')"
      ]
     },
     "execution_count": 33,
     "metadata": {},
     "output_type": "execute_result"
    },
    {
     "data": {
      "image/png": "[encoded data removed]",
      "text/plain": [
       "<Figure size 432x288 with 1 Axes>"
      ]
     },
     "metadata": {},
     "output_type": "display_data"
    }
   ],
   "source": [
    "lam = 1\n",
    "\n",
    "P, d = compute_optimal_transport(M,\n",
    "        r,\n",
    "        c, lam=lam)\n",
    "\n",
    "print(P)\n",
    "\n",
    "partition = pd.DataFrame(P, index=preferences.index, columns=preferences.columns)\n",
    "ax = partition.plot(kind='bar', stacked=True)\n",
    "print('Sinkhorn distance: {}'.format(d))\n",
    "ax.set_ylabel('portions')\n",
    "ax.set_title('Optimal distribtution ($\\lambda={}$)'.format(lam))"
   ]
  },
  {
   "cell_type": "code",
   "execution_count": null,
   "metadata": {},
   "outputs": [],
   "source": []
  }
 ],
 "metadata": {
  "anaconda-cloud": {},
  "kernelspec": {
   "display_name": "Python [conda env:root]",
   "language": "python",
   "name": "conda-root-py"
  },
  "language_info": {
   "codemirror_mode": {
    "name": "ipython",
    "version": 3
   },
   "file_extension": ".py",
   "mimetype": "text/x-python",
   "name": "python",
   "nbconvert_exporter": "python",
   "pygments_lexer": "ipython3",
   "version": "3.6.5"
  }
 },
 "nbformat": 4,
 "nbformat_minor": 1
}
